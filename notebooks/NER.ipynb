{
 "cells": [
  {
   "cell_type": "markdown",
   "id": "bdcedf15",
   "metadata": {
    "papermill": {
     "duration": 0.006504,
     "end_time": "2025-02-12T10:18:37.301008",
     "exception": false,
     "start_time": "2025-02-12T10:18:37.294504",
     "status": "completed"
    },
    "tags": []
   },
   "source": [
    "# NLP. Week 4. Named entity recognition (competition)\n",
    "\n",
    "[Competition link](https://www.kaggle.com/t/a93a92d0dbe445d4814f161071d715c9)\n"
   ]
  },
  {
   "cell_type": "markdown",
   "id": "90a52bc4",
   "metadata": {
    "papermill": {
     "duration": 0.005579,
     "end_time": "2025-02-12T10:18:37.312815",
     "exception": false,
     "start_time": "2025-02-12T10:18:37.307236",
     "status": "completed"
    },
    "tags": []
   },
   "source": [
    "## 4. Named Entity Recognition\n",
    "\n",
    "Named Entity Recognition (NER) is the process of locating named entities in unstructured text and then classifying them into pre-defined categories, such as person names, organizations, locations, monetary values, percentages, time expressions, and so on. You can consider NER task as an advance step in PoS tagging task."
   ]
  },
  {
   "cell_type": "markdown",
   "id": "9d65d510",
   "metadata": {
    "papermill": {
     "duration": 0.005682,
     "end_time": "2025-02-12T10:18:37.324461",
     "exception": false,
     "start_time": "2025-02-12T10:18:37.318779",
     "status": "completed"
    },
    "tags": []
   },
   "source": [
    "### Perfrom NER with spacy\n"
   ]
  },
  {
   "cell_type": "code",
   "execution_count": 1,
   "id": "b6688bf6",
   "metadata": {
    "execution": {
     "iopub.execute_input": "2025-02-12T10:18:37.337593Z",
     "iopub.status.busy": "2025-02-12T10:18:37.337210Z",
     "iopub.status.idle": "2025-02-12T10:18:59.817684Z",
     "shell.execute_reply": "2025-02-12T10:18:59.816405Z"
    },
    "papermill": {
     "duration": 22.489558,
     "end_time": "2025-02-12T10:18:59.819887",
     "exception": false,
     "start_time": "2025-02-12T10:18:37.330329",
     "status": "completed"
    },
    "tags": []
   },
   "outputs": [
    {
     "name": "stdout",
     "output_type": "stream",
     "text": [
      "Requirement already satisfied: spacy in /usr/local/lib/python3.10/dist-packages (3.7.5)\r\n",
      "Requirement already satisfied: spacy-legacy<3.1.0,>=3.0.11 in /usr/local/lib/python3.10/dist-packages (from spacy) (3.0.12)\r\n",
      "Requirement already satisfied: spacy-loggers<2.0.0,>=1.0.0 in /usr/local/lib/python3.10/dist-packages (from spacy) (1.0.5)\r\n",
      "Requirement already satisfied: murmurhash<1.1.0,>=0.28.0 in /usr/local/lib/python3.10/dist-packages (from spacy) (1.0.11)\r\n",
      "Requirement already satisfied: cymem<2.1.0,>=2.0.2 in /usr/local/lib/python3.10/dist-packages (from spacy) (2.0.10)\r\n",
      "Requirement already satisfied: preshed<3.1.0,>=3.0.2 in /usr/local/lib/python3.10/dist-packages (from spacy) (3.0.9)\r\n",
      "Requirement already satisfied: thinc<8.3.0,>=8.2.2 in /usr/local/lib/python3.10/dist-packages (from spacy) (8.2.5)\r\n",
      "Requirement already satisfied: wasabi<1.2.0,>=0.9.1 in /usr/local/lib/python3.10/dist-packages (from spacy) (1.1.3)\r\n",
      "Requirement already satisfied: srsly<3.0.0,>=2.4.3 in /usr/local/lib/python3.10/dist-packages (from spacy) (2.5.0)\r\n",
      "Requirement already satisfied: catalogue<2.1.0,>=2.0.6 in /usr/local/lib/python3.10/dist-packages (from spacy) (2.0.10)\r\n",
      "Requirement already satisfied: weasel<0.5.0,>=0.1.0 in /usr/local/lib/python3.10/dist-packages (from spacy) (0.4.1)\r\n",
      "Requirement already satisfied: typer<1.0.0,>=0.3.0 in /usr/local/lib/python3.10/dist-packages (from spacy) (0.15.1)\r\n",
      "Requirement already satisfied: tqdm<5.0.0,>=4.38.0 in /usr/local/lib/python3.10/dist-packages (from spacy) (4.67.1)\r\n",
      "Requirement already satisfied: requests<3.0.0,>=2.13.0 in /usr/local/lib/python3.10/dist-packages (from spacy) (2.32.3)\r\n",
      "Requirement already satisfied: pydantic!=1.8,!=1.8.1,<3.0.0,>=1.7.4 in /usr/local/lib/python3.10/dist-packages (from spacy) (2.11.0a1)\r\n",
      "Requirement already satisfied: jinja2 in /usr/local/lib/python3.10/dist-packages (from spacy) (3.1.4)\r\n",
      "Requirement already satisfied: setuptools in /usr/local/lib/python3.10/dist-packages (from spacy) (75.1.0)\r\n",
      "Requirement already satisfied: packaging>=20.0 in /usr/local/lib/python3.10/dist-packages (from spacy) (24.2)\r\n",
      "Requirement already satisfied: langcodes<4.0.0,>=3.2.0 in /usr/local/lib/python3.10/dist-packages (from spacy) (3.5.0)\r\n",
      "Requirement already satisfied: numpy>=1.19.0 in /usr/local/lib/python3.10/dist-packages (from spacy) (1.26.4)\r\n",
      "Requirement already satisfied: language-data>=1.2 in /usr/local/lib/python3.10/dist-packages (from langcodes<4.0.0,>=3.2.0->spacy) (1.3.0)\r\n",
      "Requirement already satisfied: mkl_fft in /usr/local/lib/python3.10/dist-packages (from numpy>=1.19.0->spacy) (1.3.8)\r\n",
      "Requirement already satisfied: mkl_random in /usr/local/lib/python3.10/dist-packages (from numpy>=1.19.0->spacy) (1.2.4)\r\n",
      "Requirement already satisfied: mkl_umath in /usr/local/lib/python3.10/dist-packages (from numpy>=1.19.0->spacy) (0.1.1)\r\n",
      "Requirement already satisfied: mkl in /usr/local/lib/python3.10/dist-packages (from numpy>=1.19.0->spacy) (2025.0.1)\r\n",
      "Requirement already satisfied: tbb4py in /usr/local/lib/python3.10/dist-packages (from numpy>=1.19.0->spacy) (2022.0.0)\r\n",
      "Requirement already satisfied: mkl-service in /usr/local/lib/python3.10/dist-packages (from numpy>=1.19.0->spacy) (2.4.1)\r\n",
      "Requirement already satisfied: annotated-types>=0.6.0 in /usr/local/lib/python3.10/dist-packages (from pydantic!=1.8,!=1.8.1,<3.0.0,>=1.7.4->spacy) (0.7.0)\r\n",
      "Requirement already satisfied: pydantic-core==2.28.0 in /usr/local/lib/python3.10/dist-packages (from pydantic!=1.8,!=1.8.1,<3.0.0,>=1.7.4->spacy) (2.28.0)\r\n",
      "Requirement already satisfied: typing-extensions>=4.12.2 in /usr/local/lib/python3.10/dist-packages (from pydantic!=1.8,!=1.8.1,<3.0.0,>=1.7.4->spacy) (4.12.2)\r\n",
      "Requirement already satisfied: charset-normalizer<4,>=2 in /usr/local/lib/python3.10/dist-packages (from requests<3.0.0,>=2.13.0->spacy) (3.4.1)\r\n",
      "Requirement already satisfied: idna<4,>=2.5 in /usr/local/lib/python3.10/dist-packages (from requests<3.0.0,>=2.13.0->spacy) (3.10)\r\n",
      "Requirement already satisfied: urllib3<3,>=1.21.1 in /usr/local/lib/python3.10/dist-packages (from requests<3.0.0,>=2.13.0->spacy) (2.3.0)\r\n",
      "Requirement already satisfied: certifi>=2017.4.17 in /usr/local/lib/python3.10/dist-packages (from requests<3.0.0,>=2.13.0->spacy) (2025.1.31)\r\n",
      "Requirement already satisfied: blis<0.8.0,>=0.7.8 in /usr/local/lib/python3.10/dist-packages (from thinc<8.3.0,>=8.2.2->spacy) (0.7.11)\r\n",
      "Requirement already satisfied: confection<1.0.0,>=0.0.1 in /usr/local/lib/python3.10/dist-packages (from thinc<8.3.0,>=8.2.2->spacy) (0.1.5)\r\n",
      "Requirement already satisfied: click>=8.0.0 in /usr/local/lib/python3.10/dist-packages (from typer<1.0.0,>=0.3.0->spacy) (8.1.7)\r\n",
      "Requirement already satisfied: shellingham>=1.3.0 in /usr/local/lib/python3.10/dist-packages (from typer<1.0.0,>=0.3.0->spacy) (1.5.4)\r\n",
      "Requirement already satisfied: rich>=10.11.0 in /usr/local/lib/python3.10/dist-packages (from typer<1.0.0,>=0.3.0->spacy) (13.9.4)\r\n",
      "Requirement already satisfied: cloudpathlib<1.0.0,>=0.7.0 in /usr/local/lib/python3.10/dist-packages (from weasel<0.5.0,>=0.1.0->spacy) (0.20.0)\r\n",
      "Requirement already satisfied: smart-open<8.0.0,>=5.2.1 in /usr/local/lib/python3.10/dist-packages (from weasel<0.5.0,>=0.1.0->spacy) (7.0.5)\r\n",
      "Requirement already satisfied: MarkupSafe>=2.0 in /usr/local/lib/python3.10/dist-packages (from jinja2->spacy) (3.0.2)\r\n",
      "Requirement already satisfied: marisa-trie>=1.1.0 in /usr/local/lib/python3.10/dist-packages (from language-data>=1.2->langcodes<4.0.0,>=3.2.0->spacy) (1.2.1)\r\n",
      "Requirement already satisfied: markdown-it-py>=2.2.0 in /usr/local/lib/python3.10/dist-packages (from rich>=10.11.0->typer<1.0.0,>=0.3.0->spacy) (3.0.0)\r\n",
      "Requirement already satisfied: pygments<3.0.0,>=2.13.0 in /usr/local/lib/python3.10/dist-packages (from rich>=10.11.0->typer<1.0.0,>=0.3.0->spacy) (2.19.1)\r\n",
      "Requirement already satisfied: wrapt in /usr/local/lib/python3.10/dist-packages (from smart-open<8.0.0,>=5.2.1->weasel<0.5.0,>=0.1.0->spacy) (1.17.0)\r\n",
      "Requirement already satisfied: intel-openmp>=2024 in /usr/local/lib/python3.10/dist-packages (from mkl->numpy>=1.19.0->spacy) (2024.2.0)\r\n",
      "Requirement already satisfied: tbb==2022.* in /usr/local/lib/python3.10/dist-packages (from mkl->numpy>=1.19.0->spacy) (2022.0.0)\r\n",
      "Requirement already satisfied: tcmlib==1.* in /usr/local/lib/python3.10/dist-packages (from tbb==2022.*->mkl->numpy>=1.19.0->spacy) (1.2.0)\r\n",
      "Requirement already satisfied: intel-cmplr-lib-rt in /usr/local/lib/python3.10/dist-packages (from mkl_umath->numpy>=1.19.0->spacy) (2024.2.0)\r\n",
      "Requirement already satisfied: intel-cmplr-lib-ur==2024.2.0 in /usr/local/lib/python3.10/dist-packages (from intel-openmp>=2024->mkl->numpy>=1.19.0->spacy) (2024.2.0)\r\n",
      "Requirement already satisfied: mdurl~=0.1 in /usr/local/lib/python3.10/dist-packages (from markdown-it-py>=2.2.0->rich>=10.11.0->typer<1.0.0,>=0.3.0->spacy) (0.1.2)\r\n",
      "Collecting en-core-web-sm==3.7.1\r\n",
      "  Downloading https://github.com/explosion/spacy-models/releases/download/en_core_web_sm-3.7.1/en_core_web_sm-3.7.1-py3-none-any.whl (12.8 MB)\r\n",
      "\u001b[2K     \u001b[90m━━━━━━━━━━━━━━━━━━━━━━━━━━━━━━━━━━━━━━━━\u001b[0m \u001b[32m12.8/12.8 MB\u001b[0m \u001b[31m48.1 MB/s\u001b[0m eta \u001b[36m0:00:00\u001b[0m\r\n",
      "\u001b[?25hRequirement already satisfied: spacy<3.8.0,>=3.7.2 in /usr/local/lib/python3.10/dist-packages (from en-core-web-sm==3.7.1) (3.7.5)\r\n",
      "Requirement already satisfied: spacy-legacy<3.1.0,>=3.0.11 in /usr/local/lib/python3.10/dist-packages (from spacy<3.8.0,>=3.7.2->en-core-web-sm==3.7.1) (3.0.12)\r\n",
      "Requirement already satisfied: spacy-loggers<2.0.0,>=1.0.0 in /usr/local/lib/python3.10/dist-packages (from spacy<3.8.0,>=3.7.2->en-core-web-sm==3.7.1) (1.0.5)\r\n",
      "Requirement already satisfied: murmurhash<1.1.0,>=0.28.0 in /usr/local/lib/python3.10/dist-packages (from spacy<3.8.0,>=3.7.2->en-core-web-sm==3.7.1) (1.0.11)\r\n",
      "Requirement already satisfied: cymem<2.1.0,>=2.0.2 in /usr/local/lib/python3.10/dist-packages (from spacy<3.8.0,>=3.7.2->en-core-web-sm==3.7.1) (2.0.10)\r\n",
      "Requirement already satisfied: preshed<3.1.0,>=3.0.2 in /usr/local/lib/python3.10/dist-packages (from spacy<3.8.0,>=3.7.2->en-core-web-sm==3.7.1) (3.0.9)\r\n",
      "Requirement already satisfied: thinc<8.3.0,>=8.2.2 in /usr/local/lib/python3.10/dist-packages (from spacy<3.8.0,>=3.7.2->en-core-web-sm==3.7.1) (8.2.5)\r\n",
      "Requirement already satisfied: wasabi<1.2.0,>=0.9.1 in /usr/local/lib/python3.10/dist-packages (from spacy<3.8.0,>=3.7.2->en-core-web-sm==3.7.1) (1.1.3)\r\n",
      "Requirement already satisfied: srsly<3.0.0,>=2.4.3 in /usr/local/lib/python3.10/dist-packages (from spacy<3.8.0,>=3.7.2->en-core-web-sm==3.7.1) (2.5.0)\r\n",
      "Requirement already satisfied: catalogue<2.1.0,>=2.0.6 in /usr/local/lib/python3.10/dist-packages (from spacy<3.8.0,>=3.7.2->en-core-web-sm==3.7.1) (2.0.10)\r\n",
      "Requirement already satisfied: weasel<0.5.0,>=0.1.0 in /usr/local/lib/python3.10/dist-packages (from spacy<3.8.0,>=3.7.2->en-core-web-sm==3.7.1) (0.4.1)\r\n",
      "Requirement already satisfied: typer<1.0.0,>=0.3.0 in /usr/local/lib/python3.10/dist-packages (from spacy<3.8.0,>=3.7.2->en-core-web-sm==3.7.1) (0.15.1)\r\n",
      "Requirement already satisfied: tqdm<5.0.0,>=4.38.0 in /usr/local/lib/python3.10/dist-packages (from spacy<3.8.0,>=3.7.2->en-core-web-sm==3.7.1) (4.67.1)\r\n",
      "Requirement already satisfied: requests<3.0.0,>=2.13.0 in /usr/local/lib/python3.10/dist-packages (from spacy<3.8.0,>=3.7.2->en-core-web-sm==3.7.1) (2.32.3)\r\n",
      "Requirement already satisfied: pydantic!=1.8,!=1.8.1,<3.0.0,>=1.7.4 in /usr/local/lib/python3.10/dist-packages (from spacy<3.8.0,>=3.7.2->en-core-web-sm==3.7.1) (2.11.0a1)\r\n",
      "Requirement already satisfied: jinja2 in /usr/local/lib/python3.10/dist-packages (from spacy<3.8.0,>=3.7.2->en-core-web-sm==3.7.1) (3.1.4)\r\n",
      "Requirement already satisfied: setuptools in /usr/local/lib/python3.10/dist-packages (from spacy<3.8.0,>=3.7.2->en-core-web-sm==3.7.1) (75.1.0)\r\n",
      "Requirement already satisfied: packaging>=20.0 in /usr/local/lib/python3.10/dist-packages (from spacy<3.8.0,>=3.7.2->en-core-web-sm==3.7.1) (24.2)\r\n",
      "Requirement already satisfied: langcodes<4.0.0,>=3.2.0 in /usr/local/lib/python3.10/dist-packages (from spacy<3.8.0,>=3.7.2->en-core-web-sm==3.7.1) (3.5.0)\r\n",
      "Requirement already satisfied: numpy>=1.19.0 in /usr/local/lib/python3.10/dist-packages (from spacy<3.8.0,>=3.7.2->en-core-web-sm==3.7.1) (1.26.4)\r\n",
      "Requirement already satisfied: language-data>=1.2 in /usr/local/lib/python3.10/dist-packages (from langcodes<4.0.0,>=3.2.0->spacy<3.8.0,>=3.7.2->en-core-web-sm==3.7.1) (1.3.0)\r\n",
      "Requirement already satisfied: mkl_fft in /usr/local/lib/python3.10/dist-packages (from numpy>=1.19.0->spacy<3.8.0,>=3.7.2->en-core-web-sm==3.7.1) (1.3.8)\r\n",
      "Requirement already satisfied: mkl_random in /usr/local/lib/python3.10/dist-packages (from numpy>=1.19.0->spacy<3.8.0,>=3.7.2->en-core-web-sm==3.7.1) (1.2.4)\r\n",
      "Requirement already satisfied: mkl_umath in /usr/local/lib/python3.10/dist-packages (from numpy>=1.19.0->spacy<3.8.0,>=3.7.2->en-core-web-sm==3.7.1) (0.1.1)\r\n",
      "Requirement already satisfied: mkl in /usr/local/lib/python3.10/dist-packages (from numpy>=1.19.0->spacy<3.8.0,>=3.7.2->en-core-web-sm==3.7.1) (2025.0.1)\r\n",
      "Requirement already satisfied: tbb4py in /usr/local/lib/python3.10/dist-packages (from numpy>=1.19.0->spacy<3.8.0,>=3.7.2->en-core-web-sm==3.7.1) (2022.0.0)\r\n",
      "Requirement already satisfied: mkl-service in /usr/local/lib/python3.10/dist-packages (from numpy>=1.19.0->spacy<3.8.0,>=3.7.2->en-core-web-sm==3.7.1) (2.4.1)\r\n",
      "Requirement already satisfied: annotated-types>=0.6.0 in /usr/local/lib/python3.10/dist-packages (from pydantic!=1.8,!=1.8.1,<3.0.0,>=1.7.4->spacy<3.8.0,>=3.7.2->en-core-web-sm==3.7.1) (0.7.0)\r\n",
      "Requirement already satisfied: pydantic-core==2.28.0 in /usr/local/lib/python3.10/dist-packages (from pydantic!=1.8,!=1.8.1,<3.0.0,>=1.7.4->spacy<3.8.0,>=3.7.2->en-core-web-sm==3.7.1) (2.28.0)\r\n",
      "Requirement already satisfied: typing-extensions>=4.12.2 in /usr/local/lib/python3.10/dist-packages (from pydantic!=1.8,!=1.8.1,<3.0.0,>=1.7.4->spacy<3.8.0,>=3.7.2->en-core-web-sm==3.7.1) (4.12.2)\r\n",
      "Requirement already satisfied: charset-normalizer<4,>=2 in /usr/local/lib/python3.10/dist-packages (from requests<3.0.0,>=2.13.0->spacy<3.8.0,>=3.7.2->en-core-web-sm==3.7.1) (3.4.1)\r\n",
      "Requirement already satisfied: idna<4,>=2.5 in /usr/local/lib/python3.10/dist-packages (from requests<3.0.0,>=2.13.0->spacy<3.8.0,>=3.7.2->en-core-web-sm==3.7.1) (3.10)\r\n",
      "Requirement already satisfied: urllib3<3,>=1.21.1 in /usr/local/lib/python3.10/dist-packages (from requests<3.0.0,>=2.13.0->spacy<3.8.0,>=3.7.2->en-core-web-sm==3.7.1) (2.3.0)\r\n",
      "Requirement already satisfied: certifi>=2017.4.17 in /usr/local/lib/python3.10/dist-packages (from requests<3.0.0,>=2.13.0->spacy<3.8.0,>=3.7.2->en-core-web-sm==3.7.1) (2025.1.31)\r\n",
      "Requirement already satisfied: blis<0.8.0,>=0.7.8 in /usr/local/lib/python3.10/dist-packages (from thinc<8.3.0,>=8.2.2->spacy<3.8.0,>=3.7.2->en-core-web-sm==3.7.1) (0.7.11)\r\n",
      "Requirement already satisfied: confection<1.0.0,>=0.0.1 in /usr/local/lib/python3.10/dist-packages (from thinc<8.3.0,>=8.2.2->spacy<3.8.0,>=3.7.2->en-core-web-sm==3.7.1) (0.1.5)\r\n",
      "Requirement already satisfied: click>=8.0.0 in /usr/local/lib/python3.10/dist-packages (from typer<1.0.0,>=0.3.0->spacy<3.8.0,>=3.7.2->en-core-web-sm==3.7.1) (8.1.7)\r\n",
      "Requirement already satisfied: shellingham>=1.3.0 in /usr/local/lib/python3.10/dist-packages (from typer<1.0.0,>=0.3.0->spacy<3.8.0,>=3.7.2->en-core-web-sm==3.7.1) (1.5.4)\r\n",
      "Requirement already satisfied: rich>=10.11.0 in /usr/local/lib/python3.10/dist-packages (from typer<1.0.0,>=0.3.0->spacy<3.8.0,>=3.7.2->en-core-web-sm==3.7.1) (13.9.4)\r\n",
      "Requirement already satisfied: cloudpathlib<1.0.0,>=0.7.0 in /usr/local/lib/python3.10/dist-packages (from weasel<0.5.0,>=0.1.0->spacy<3.8.0,>=3.7.2->en-core-web-sm==3.7.1) (0.20.0)\r\n",
      "Requirement already satisfied: smart-open<8.0.0,>=5.2.1 in /usr/local/lib/python3.10/dist-packages (from weasel<0.5.0,>=0.1.0->spacy<3.8.0,>=3.7.2->en-core-web-sm==3.7.1) (7.0.5)\r\n",
      "Requirement already satisfied: MarkupSafe>=2.0 in /usr/local/lib/python3.10/dist-packages (from jinja2->spacy<3.8.0,>=3.7.2->en-core-web-sm==3.7.1) (3.0.2)\r\n",
      "Requirement already satisfied: marisa-trie>=1.1.0 in /usr/local/lib/python3.10/dist-packages (from language-data>=1.2->langcodes<4.0.0,>=3.2.0->spacy<3.8.0,>=3.7.2->en-core-web-sm==3.7.1) (1.2.1)\r\n",
      "Requirement already satisfied: markdown-it-py>=2.2.0 in /usr/local/lib/python3.10/dist-packages (from rich>=10.11.0->typer<1.0.0,>=0.3.0->spacy<3.8.0,>=3.7.2->en-core-web-sm==3.7.1) (3.0.0)\r\n",
      "Requirement already satisfied: pygments<3.0.0,>=2.13.0 in /usr/local/lib/python3.10/dist-packages (from rich>=10.11.0->typer<1.0.0,>=0.3.0->spacy<3.8.0,>=3.7.2->en-core-web-sm==3.7.1) (2.19.1)\r\n",
      "Requirement already satisfied: wrapt in /usr/local/lib/python3.10/dist-packages (from smart-open<8.0.0,>=5.2.1->weasel<0.5.0,>=0.1.0->spacy<3.8.0,>=3.7.2->en-core-web-sm==3.7.1) (1.17.0)\r\n",
      "Requirement already satisfied: intel-openmp>=2024 in /usr/local/lib/python3.10/dist-packages (from mkl->numpy>=1.19.0->spacy<3.8.0,>=3.7.2->en-core-web-sm==3.7.1) (2024.2.0)\r\n",
      "Requirement already satisfied: tbb==2022.* in /usr/local/lib/python3.10/dist-packages (from mkl->numpy>=1.19.0->spacy<3.8.0,>=3.7.2->en-core-web-sm==3.7.1) (2022.0.0)\r\n",
      "Requirement already satisfied: tcmlib==1.* in /usr/local/lib/python3.10/dist-packages (from tbb==2022.*->mkl->numpy>=1.19.0->spacy<3.8.0,>=3.7.2->en-core-web-sm==3.7.1) (1.2.0)\r\n",
      "Requirement already satisfied: intel-cmplr-lib-rt in /usr/local/lib/python3.10/dist-packages (from mkl_umath->numpy>=1.19.0->spacy<3.8.0,>=3.7.2->en-core-web-sm==3.7.1) (2024.2.0)\r\n",
      "Requirement already satisfied: intel-cmplr-lib-ur==2024.2.0 in /usr/local/lib/python3.10/dist-packages (from intel-openmp>=2024->mkl->numpy>=1.19.0->spacy<3.8.0,>=3.7.2->en-core-web-sm==3.7.1) (2024.2.0)\r\n",
      "Requirement already satisfied: mdurl~=0.1 in /usr/local/lib/python3.10/dist-packages (from markdown-it-py>=2.2.0->rich>=10.11.0->typer<1.0.0,>=0.3.0->spacy<3.8.0,>=3.7.2->en-core-web-sm==3.7.1) (0.1.2)\r\n",
      "\u001b[38;5;2m✔ Download and installation successful\u001b[0m\r\n",
      "You can now load the package via spacy.load('en_core_web_sm')\r\n",
      "\u001b[38;5;3m⚠ Restart to reload dependencies\u001b[0m\r\n",
      "If you are in a Jupyter or Colab notebook, you may need to restart Python in\r\n",
      "order to load all the package's dependencies. You can do this by selecting the\r\n",
      "'Restart kernel' or 'Restart runtime' option.\r\n"
     ]
    }
   ],
   "source": [
    "!pip install spacy\n",
    "!python -m spacy download en_core_web_sm"
   ]
  },
  {
   "cell_type": "code",
   "execution_count": 2,
   "id": "c6f18efd",
   "metadata": {
    "execution": {
     "iopub.execute_input": "2025-02-12T10:18:59.838380Z",
     "iopub.status.busy": "2025-02-12T10:18:59.837969Z",
     "iopub.status.idle": "2025-02-12T10:19:03.021309Z",
     "shell.execute_reply": "2025-02-12T10:19:03.020282Z"
    },
    "papermill": {
     "duration": 3.194579,
     "end_time": "2025-02-12T10:19:03.023265",
     "exception": false,
     "start_time": "2025-02-12T10:18:59.828686",
     "status": "completed"
    },
    "tags": []
   },
   "outputs": [],
   "source": [
    "from collections import Counter\n",
    "import en_core_web_sm"
   ]
  },
  {
   "cell_type": "code",
   "execution_count": 3,
   "id": "625e14e8",
   "metadata": {
    "execution": {
     "iopub.execute_input": "2025-02-12T10:19:03.040507Z",
     "iopub.status.busy": "2025-02-12T10:19:03.039899Z",
     "iopub.status.idle": "2025-02-12T10:19:04.018839Z",
     "shell.execute_reply": "2025-02-12T10:19:04.017602Z"
    },
    "papermill": {
     "duration": 0.989608,
     "end_time": "2025-02-12T10:19:04.020898",
     "exception": false,
     "start_time": "2025-02-12T10:19:03.031290",
     "status": "completed"
    },
    "tags": []
   },
   "outputs": [
    {
     "name": "stdout",
     "output_type": "stream",
     "text": [
      "[('European', 'NORP'), ('Google', 'ORG'), ('$5.1 billion', 'MONEY'), ('Wednesday', 'DATE')]\n"
     ]
    }
   ],
   "source": [
    "sentence = \"European authorities fined Google a record $5.1 billion on Wednesday for abusing its power in the mobile phone market and ordered the company to alter its practices\"\n",
    "\n",
    "text_processing_pipeline = en_core_web_sm.load()\n",
    "doc = text_processing_pipeline(sentence)\n",
    "print([(X.text, X.label_) for X in doc.ents])"
   ]
  },
  {
   "cell_type": "code",
   "execution_count": 4,
   "id": "d80c0ab0",
   "metadata": {
    "execution": {
     "iopub.execute_input": "2025-02-12T10:19:04.037911Z",
     "iopub.status.busy": "2025-02-12T10:19:04.037571Z",
     "iopub.status.idle": "2025-02-12T10:19:04.046682Z",
     "shell.execute_reply": "2025-02-12T10:19:04.045454Z"
    },
    "papermill": {
     "duration": 0.019842,
     "end_time": "2025-02-12T10:19:04.048608",
     "exception": false,
     "start_time": "2025-02-12T10:19:04.028766",
     "status": "completed"
    },
    "tags": []
   },
   "outputs": [
    {
     "data": {
      "text/html": [
       "<span class=\"tex2jax_ignore\"><div class=\"entities\" style=\"line-height: 2.5; direction: ltr\">\n",
       "<mark class=\"entity\" style=\"background: #c887fb; padding: 0.45em 0.6em; margin: 0 0.25em; line-height: 1; border-radius: 0.35em;\">\n",
       "    European\n",
       "    <span style=\"font-size: 0.8em; font-weight: bold; line-height: 1; border-radius: 0.35em; vertical-align: middle; margin-left: 0.5rem\">NORP</span>\n",
       "</mark>\n",
       " authorities fined \n",
       "<mark class=\"entity\" style=\"background: #7aecec; padding: 0.45em 0.6em; margin: 0 0.25em; line-height: 1; border-radius: 0.35em;\">\n",
       "    Google\n",
       "    <span style=\"font-size: 0.8em; font-weight: bold; line-height: 1; border-radius: 0.35em; vertical-align: middle; margin-left: 0.5rem\">ORG</span>\n",
       "</mark>\n",
       " a record \n",
       "<mark class=\"entity\" style=\"background: #e4e7d2; padding: 0.45em 0.6em; margin: 0 0.25em; line-height: 1; border-radius: 0.35em;\">\n",
       "    $5.1 billion\n",
       "    <span style=\"font-size: 0.8em; font-weight: bold; line-height: 1; border-radius: 0.35em; vertical-align: middle; margin-left: 0.5rem\">MONEY</span>\n",
       "</mark>\n",
       " on \n",
       "<mark class=\"entity\" style=\"background: #bfe1d9; padding: 0.45em 0.6em; margin: 0 0.25em; line-height: 1; border-radius: 0.35em;\">\n",
       "    Wednesday\n",
       "    <span style=\"font-size: 0.8em; font-weight: bold; line-height: 1; border-radius: 0.35em; vertical-align: middle; margin-left: 0.5rem\">DATE</span>\n",
       "</mark>\n",
       " for abusing its power in the mobile phone market and ordered the company to alter its practices</div></span>"
      ],
      "text/plain": [
       "<IPython.core.display.HTML object>"
      ]
     },
     "metadata": {},
     "output_type": "display_data"
    }
   ],
   "source": [
    "from spacy import displacy\n",
    "\n",
    "displacy.render(doc, style=\"ent\", jupyter=True)"
   ]
  },
  {
   "cell_type": "markdown",
   "id": "83504db4",
   "metadata": {
    "papermill": {
     "duration": 0.007385,
     "end_time": "2025-02-12T10:19:04.064191",
     "exception": false,
     "start_time": "2025-02-12T10:19:04.056806",
     "status": "completed"
    },
    "tags": []
   },
   "source": [
    "## Task\n",
    "\n",
    "Your goal is to perform NER on recipe ingridients. You're free to choose any NER approach to solve this task. \n",
    "\n",
    "We recommend to create a pipeline from  ```spacy```. Start with creation of empty pipeline. Next, add a new pipe member into it that will represents NER tagger.  Don't forget to set tokenizer and labels(i.e. names) from the preprocecced dataset. Finally, iterate over the dataset and train a model (by function update)\n",
    "\n",
    "[This page](https://spacy.io/api/language) contains the documentation you need."
   ]
  },
  {
   "cell_type": "markdown",
   "id": "94248df5",
   "metadata": {
    "papermill": {
     "duration": 0.007581,
     "end_time": "2025-02-12T10:19:04.079469",
     "exception": false,
     "start_time": "2025-02-12T10:19:04.071888",
     "status": "completed"
    },
    "tags": []
   },
   "source": [
    "Starting the spacy approach..."
   ]
  },
  {
   "cell_type": "code",
   "execution_count": 5,
   "id": "051b770f",
   "metadata": {
    "execution": {
     "iopub.execute_input": "2025-02-12T10:19:04.097528Z",
     "iopub.status.busy": "2025-02-12T10:19:04.096913Z",
     "iopub.status.idle": "2025-02-12T10:19:05.368865Z",
     "shell.execute_reply": "2025-02-12T10:19:05.367887Z"
    },
    "papermill": {
     "duration": 1.2832,
     "end_time": "2025-02-12T10:19:05.370960",
     "exception": false,
     "start_time": "2025-02-12T10:19:04.087760",
     "status": "completed"
    },
    "tags": []
   },
   "outputs": [],
   "source": [
    "import spacy\n",
    "from tqdm.notebook import tqdm\n",
    "import pandas as pd\n",
    "\n",
    "import random\n",
    "from spacy.training import Example\n",
    "from spacy.util import minibatch\n",
    "from spacy.tokenizer import Tokenizer\n",
    "import re"
   ]
  },
  {
   "cell_type": "code",
   "execution_count": 6,
   "id": "892e0921",
   "metadata": {
    "execution": {
     "iopub.execute_input": "2025-02-12T10:19:05.388911Z",
     "iopub.status.busy": "2025-02-12T10:19:05.388291Z",
     "iopub.status.idle": "2025-02-12T10:19:05.393981Z",
     "shell.execute_reply": "2025-02-12T10:19:05.392794Z"
    },
    "papermill": {
     "duration": 0.0164,
     "end_time": "2025-02-12T10:19:05.395846",
     "exception": false,
     "start_time": "2025-02-12T10:19:05.379446",
     "status": "completed"
    },
    "tags": []
   },
   "outputs": [],
   "source": [
    "CLASS_MAPPING = {\n",
    "    0: \"DF\",\n",
    "    1: \"NAME\",\n",
    "    2: \"O\",\n",
    "    3: \"QUANTITY\",\n",
    "    4: \"SIZE\",\n",
    "    5: \"STATE\",\n",
    "    6: \"TEMP\",\n",
    "    7: \"UNIT\",\n",
    "}\n",
    "INVERSE_CLASS_MAPPING = {v: k for k, v in CLASS_MAPPING.items()}"
   ]
  },
  {
   "cell_type": "code",
   "execution_count": 7,
   "id": "c4f179f7",
   "metadata": {
    "execution": {
     "iopub.execute_input": "2025-02-12T10:19:05.413538Z",
     "iopub.status.busy": "2025-02-12T10:19:05.413169Z",
     "iopub.status.idle": "2025-02-12T10:19:05.478728Z",
     "shell.execute_reply": "2025-02-12T10:19:05.477389Z"
    },
    "papermill": {
     "duration": 0.076877,
     "end_time": "2025-02-12T10:19:05.480648",
     "exception": false,
     "start_time": "2025-02-12T10:19:05.403771",
     "status": "completed"
    },
    "tags": []
   },
   "outputs": [
    {
     "data": {
      "text/html": [
       "<div>\n",
       "<style scoped>\n",
       "    .dataframe tbody tr th:only-of-type {\n",
       "        vertical-align: middle;\n",
       "    }\n",
       "\n",
       "    .dataframe tbody tr th {\n",
       "        vertical-align: top;\n",
       "    }\n",
       "\n",
       "    .dataframe thead th {\n",
       "        text-align: right;\n",
       "    }\n",
       "</style>\n",
       "<table border=\"1\" class=\"dataframe\">\n",
       "  <thead>\n",
       "    <tr style=\"text-align: right;\">\n",
       "      <th></th>\n",
       "      <th>tokens</th>\n",
       "      <th>labels</th>\n",
       "    </tr>\n",
       "  </thead>\n",
       "  <tbody>\n",
       "    <tr>\n",
       "      <th>0</th>\n",
       "      <td>4 cloves garlic 2 cups cooked corned beef -LRB...</td>\n",
       "      <td>3 7 1 3 7 5 5 1 2 2 2 2</td>\n",
       "    </tr>\n",
       "    <tr>\n",
       "      <th>1</th>\n",
       "      <td>2 tablespoons vegetable oil , divided 1 1/2 cu...</td>\n",
       "      <td>3 7 1 1 2 5 3 7 5 1</td>\n",
       "    </tr>\n",
       "    <tr>\n",
       "      <th>2</th>\n",
       "      <td>2 tablespoons dried marjoram 3 tablespoons pac...</td>\n",
       "      <td>3 7 0 1 3 7 5 1 1</td>\n",
       "    </tr>\n",
       "    <tr>\n",
       "      <th>3</th>\n",
       "      <td>1 large red onion , 1/4-inch slices pulled int...</td>\n",
       "      <td>3 4 1 1 2 2 2 2 2 2 3 7 1 2 5</td>\n",
       "    </tr>\n",
       "    <tr>\n",
       "      <th>4</th>\n",
       "      <td>2 jalapeno peppers , seeded and minced 1/2 - 3...</td>\n",
       "      <td>3 1 1 2 5 2 5 3 2 2 7 5 1 1</td>\n",
       "    </tr>\n",
       "  </tbody>\n",
       "</table>\n",
       "</div>"
      ],
      "text/plain": [
       "                                              tokens  \\\n",
       "0  4 cloves garlic 2 cups cooked corned beef -LRB...   \n",
       "1  2 tablespoons vegetable oil , divided 1 1/2 cu...   \n",
       "2  2 tablespoons dried marjoram 3 tablespoons pac...   \n",
       "3  1 large red onion , 1/4-inch slices pulled int...   \n",
       "4  2 jalapeno peppers , seeded and minced 1/2 - 3...   \n",
       "\n",
       "                          labels  \n",
       "0        3 7 1 3 7 5 5 1 2 2 2 2  \n",
       "1            3 7 1 1 2 5 3 7 5 1  \n",
       "2              3 7 0 1 3 7 5 1 1  \n",
       "3  3 4 1 1 2 2 2 2 2 2 3 7 1 2 5  \n",
       "4    3 1 1 2 5 2 5 3 2 2 7 5 1 1  "
      ]
     },
     "execution_count": 7,
     "metadata": {},
     "output_type": "execute_result"
    }
   ],
   "source": [
    "data = pd.read_csv(\"/kaggle/input/nlp-week-4-ner/train.csv\")\n",
    "data.head()"
   ]
  },
  {
   "cell_type": "code",
   "execution_count": 8,
   "id": "651c568c",
   "metadata": {
    "execution": {
     "iopub.execute_input": "2025-02-12T10:19:05.498257Z",
     "iopub.status.busy": "2025-02-12T10:19:05.497851Z",
     "iopub.status.idle": "2025-02-12T10:19:05.503701Z",
     "shell.execute_reply": "2025-02-12T10:19:05.502731Z"
    },
    "papermill": {
     "duration": 0.016593,
     "end_time": "2025-02-12T10:19:05.505367",
     "exception": false,
     "start_time": "2025-02-12T10:19:05.488774",
     "status": "completed"
    },
    "tags": []
   },
   "outputs": [],
   "source": [
    "def prepare_training_data(data):\n",
    "    training_data = []\n",
    "    for _, row in data.iterrows():\n",
    "        tokens = row[\"tokens\"].split()\n",
    "        labels = list(map(int, row[\"labels\"].split()))\n",
    "        entities = []\n",
    "        start = 0\n",
    "        for token, label in zip(tokens, labels):\n",
    "            end = start + len(token)\n",
    "            if label != INVERSE_CLASS_MAPPING[\"O\"]:  # Ignore 'O' labels\n",
    "                entities.append((start, end, CLASS_MAPPING[label]))\n",
    "            start = end + 1  # Move to the next token position\n",
    "        training_data.append((row[\"tokens\"], {\"entities\": entities}))\n",
    "    return training_data"
   ]
  },
  {
   "cell_type": "code",
   "execution_count": 9,
   "id": "0e88e0e4",
   "metadata": {
    "execution": {
     "iopub.execute_input": "2025-02-12T10:19:05.522971Z",
     "iopub.status.busy": "2025-02-12T10:19:05.522627Z",
     "iopub.status.idle": "2025-02-12T10:19:06.012020Z",
     "shell.execute_reply": "2025-02-12T10:19:06.010628Z"
    },
    "papermill": {
     "duration": 0.500388,
     "end_time": "2025-02-12T10:19:06.014006",
     "exception": false,
     "start_time": "2025-02-12T10:19:05.513618",
     "status": "completed"
    },
    "tags": []
   },
   "outputs": [
    {
     "name": "stdout",
     "output_type": "stream",
     "text": [
      "('4 cloves garlic 2 cups cooked corned beef -LRB- or canned -RRB-', {'entities': [(0, 1, 'QUANTITY'), (2, 8, 'UNIT'), (9, 15, 'NAME'), (16, 17, 'QUANTITY'), (18, 22, 'UNIT'), (23, 29, 'STATE'), (30, 36, 'STATE'), (37, 41, 'NAME')]})\n"
     ]
    }
   ],
   "source": [
    "training_data = prepare_training_data(data)\n",
    "print(training_data[0])"
   ]
  },
  {
   "cell_type": "code",
   "execution_count": 10,
   "id": "f22f3d7e",
   "metadata": {
    "execution": {
     "iopub.execute_input": "2025-02-12T10:19:06.031658Z",
     "iopub.status.busy": "2025-02-12T10:19:06.031312Z",
     "iopub.status.idle": "2025-02-12T10:19:06.284511Z",
     "shell.execute_reply": "2025-02-12T10:19:06.283440Z"
    },
    "papermill": {
     "duration": 0.264295,
     "end_time": "2025-02-12T10:19:06.286408",
     "exception": false,
     "start_time": "2025-02-12T10:19:06.022113",
     "status": "completed"
    },
    "tags": []
   },
   "outputs": [],
   "source": [
    "# text_processing_pipeline = spacy.blank(\"en\")\n",
    "# text_processing_pipeline.add_pipe(\"ner\", last=True)\n",
    "# ner = text_processing_pipeline.get_pipe(\"ner\")\n",
    "# ...\n",
    "\n",
    "nlp = spacy.blank(\"en\")\n",
    "ner = nlp.add_pipe(\"ner\", last=True)"
   ]
  },
  {
   "cell_type": "code",
   "execution_count": 11,
   "id": "1146cf1f",
   "metadata": {
    "execution": {
     "iopub.execute_input": "2025-02-12T10:19:06.304614Z",
     "iopub.status.busy": "2025-02-12T10:19:06.304227Z",
     "iopub.status.idle": "2025-02-12T10:19:06.383222Z",
     "shell.execute_reply": "2025-02-12T10:19:06.382196Z"
    },
    "papermill": {
     "duration": 0.090699,
     "end_time": "2025-02-12T10:19:06.385252",
     "exception": false,
     "start_time": "2025-02-12T10:19:06.294553",
     "status": "completed"
    },
    "tags": []
   },
   "outputs": [],
   "source": [
    "for _, annotations in training_data:\n",
    "    for ent in annotations['entities']:\n",
    "        ner.add_label(ent[2])"
   ]
  },
  {
   "cell_type": "code",
   "execution_count": 12,
   "id": "f18635b6",
   "metadata": {
    "execution": {
     "iopub.execute_input": "2025-02-12T10:19:06.403177Z",
     "iopub.status.busy": "2025-02-12T10:19:06.402675Z",
     "iopub.status.idle": "2025-02-12T10:19:06.407620Z",
     "shell.execute_reply": "2025-02-12T10:19:06.406507Z"
    },
    "papermill": {
     "duration": 0.01596,
     "end_time": "2025-02-12T10:19:06.409654",
     "exception": false,
     "start_time": "2025-02-12T10:19:06.393694",
     "status": "completed"
    },
    "tags": []
   },
   "outputs": [],
   "source": [
    "other_pipes = [pipe for pipe in nlp.pipe_names if pipe != \"ner\"]"
   ]
  },
  {
   "cell_type": "code",
   "execution_count": 13,
   "id": "633ce0e8",
   "metadata": {
    "execution": {
     "iopub.execute_input": "2025-02-12T10:19:06.427618Z",
     "iopub.status.busy": "2025-02-12T10:19:06.427198Z",
     "iopub.status.idle": "2025-02-12T10:19:06.432275Z",
     "shell.execute_reply": "2025-02-12T10:19:06.431052Z"
    },
    "papermill": {
     "duration": 0.01648,
     "end_time": "2025-02-12T10:19:06.434418",
     "exception": false,
     "start_time": "2025-02-12T10:19:06.417938",
     "status": "completed"
    },
    "tags": []
   },
   "outputs": [],
   "source": [
    "EPOCHS = 10\n",
    "BATCH_SIZE = 10\n",
    "DROPOUT = 0.4"
   ]
  },
  {
   "cell_type": "code",
   "execution_count": 14,
   "id": "ff21e5ef",
   "metadata": {
    "execution": {
     "iopub.execute_input": "2025-02-12T10:19:06.452842Z",
     "iopub.status.busy": "2025-02-12T10:19:06.452504Z",
     "iopub.status.idle": "2025-02-12T10:22:19.837736Z",
     "shell.execute_reply": "2025-02-12T10:22:19.836549Z"
    },
    "papermill": {
     "duration": 193.406161,
     "end_time": "2025-02-12T10:22:19.849378",
     "exception": false,
     "start_time": "2025-02-12T10:19:06.443217",
     "status": "completed"
    },
    "tags": []
   },
   "outputs": [
    {
     "name": "stderr",
     "output_type": "stream",
     "text": [
      "[2025-02-12 10:19:06,459] [INFO] Created vocabulary\n",
      "[2025-02-12 10:19:06,461] [INFO] Finished initializing nlp object\n"
     ]
    },
    {
     "data": {
      "application/vnd.jupyter.widget-view+json": {
       "model_id": "ee0b6706454e4a22a84b579f1e7c0472",
       "version_major": 2,
       "version_minor": 0
      },
      "text/plain": [
       "  0%|          | 0/10 [00:00<?, ?it/s]"
      ]
     },
     "metadata": {},
     "output_type": "display_data"
    },
    {
     "name": "stderr",
     "output_type": "stream",
     "text": [
      "/usr/local/lib/python3.10/dist-packages/thinc/layers/layernorm.py:31: RuntimeWarning: divide by zero encountered in reciprocal\n",
      "  d_xhat = N * dY - sum_dy - dist * var ** (-1.0) * sum_dy_dist\n"
     ]
    }
   ],
   "source": [
    "optimizer = nlp.begin_training()\n",
    "\n",
    "with nlp.disable_pipes(*other_pipes):\n",
    "    for _ in tqdm(range(EPOCHS)):\n",
    "        random.shuffle(training_data)\n",
    "        batches = minibatch(training_data, size=BATCH_SIZE)\n",
    "        for batch in batches:\n",
    "            examples = []\n",
    "            for text, annotations in batch:\n",
    "                examples.append(Example.from_dict(nlp.make_doc(text), annotations))\n",
    "            nlp.update(examples, drop=DROPOUT, losses = {})\n",
    "        "
   ]
  },
  {
   "cell_type": "code",
   "execution_count": 15,
   "id": "23ee1dd4",
   "metadata": {
    "execution": {
     "iopub.execute_input": "2025-02-12T10:22:19.867381Z",
     "iopub.status.busy": "2025-02-12T10:22:19.866958Z",
     "iopub.status.idle": "2025-02-12T10:22:19.945507Z",
     "shell.execute_reply": "2025-02-12T10:22:19.944351Z"
    },
    "papermill": {
     "duration": 0.089759,
     "end_time": "2025-02-12T10:22:19.947544",
     "exception": false,
     "start_time": "2025-02-12T10:22:19.857785",
     "status": "completed"
    },
    "tags": []
   },
   "outputs": [],
   "source": [
    "nlp.to_disk(\"recipe_ner_model\")"
   ]
  },
  {
   "cell_type": "code",
   "execution_count": 16,
   "id": "993893de",
   "metadata": {
    "execution": {
     "iopub.execute_input": "2025-02-12T10:22:19.966222Z",
     "iopub.status.busy": "2025-02-12T10:22:19.965802Z",
     "iopub.status.idle": "2025-02-12T10:22:19.980275Z",
     "shell.execute_reply": "2025-02-12T10:22:19.979142Z"
    },
    "papermill": {
     "duration": 0.025795,
     "end_time": "2025-02-12T10:22:19.982196",
     "exception": false,
     "start_time": "2025-02-12T10:22:19.956401",
     "status": "completed"
    },
    "tags": []
   },
   "outputs": [
    {
     "data": {
      "text/html": [
       "<span class=\"tex2jax_ignore\"><div class=\"entities\" style=\"line-height: 2.5; direction: ltr\">\n",
       "<mark class=\"entity\" style=\"background: #e4e7d2; padding: 0.45em 0.6em; margin: 0 0.25em; line-height: 1; border-radius: 0.35em;\">\n",
       "    2\n",
       "    <span style=\"font-size: 0.8em; font-weight: bold; line-height: 1; border-radius: 0.35em; vertical-align: middle; margin-left: 0.5rem\">QUANTITY</span>\n",
       "</mark>\n",
       " \n",
       "<mark class=\"entity\" style=\"background: #ddd; padding: 0.45em 0.6em; margin: 0 0.25em; line-height: 1; border-radius: 0.35em;\">\n",
       "    tablespoons\n",
       "    <span style=\"font-size: 0.8em; font-weight: bold; line-height: 1; border-radius: 0.35em; vertical-align: middle; margin-left: 0.5rem\">UNIT</span>\n",
       "</mark>\n",
       " \n",
       "<mark class=\"entity\" style=\"background: #ddd; padding: 0.45em 0.6em; margin: 0 0.25em; line-height: 1; border-radius: 0.35em;\">\n",
       "    olive\n",
       "    <span style=\"font-size: 0.8em; font-weight: bold; line-height: 1; border-radius: 0.35em; vertical-align: middle; margin-left: 0.5rem\">NAME</span>\n",
       "</mark>\n",
       " \n",
       "<mark class=\"entity\" style=\"background: #ddd; padding: 0.45em 0.6em; margin: 0 0.25em; line-height: 1; border-radius: 0.35em;\">\n",
       "    oil\n",
       "    <span style=\"font-size: 0.8em; font-weight: bold; line-height: 1; border-radius: 0.35em; vertical-align: middle; margin-left: 0.5rem\">NAME</span>\n",
       "</mark>\n",
       ", finely \n",
       "<mark class=\"entity\" style=\"background: #ddd; padding: 0.45em 0.6em; margin: 0 0.25em; line-height: 1; border-radius: 0.35em;\">\n",
       "    chopped\n",
       "    <span style=\"font-size: 0.8em; font-weight: bold; line-height: 1; border-radius: 0.35em; vertical-align: middle; margin-left: 0.5rem\">STATE</span>\n",
       "</mark>\n",
       " \n",
       "<mark class=\"entity\" style=\"background: #ddd; padding: 0.45em 0.6em; margin: 0 0.25em; line-height: 1; border-radius: 0.35em;\">\n",
       "    onion\n",
       "    <span style=\"font-size: 0.8em; font-weight: bold; line-height: 1; border-radius: 0.35em; vertical-align: middle; margin-left: 0.5rem\">NAME</span>\n",
       "</mark>\n",
       "</div></span>"
      ],
      "text/plain": [
       "<IPython.core.display.HTML object>"
      ]
     },
     "metadata": {},
     "output_type": "display_data"
    }
   ],
   "source": [
    "doc = nlp(\"2 tablespoons olive oil, finely chopped onion\")\n",
    "displacy.render(doc, style=\"ent\", jupyter=True)"
   ]
  },
  {
   "cell_type": "code",
   "execution_count": 17,
   "id": "b7af3ed7",
   "metadata": {
    "execution": {
     "iopub.execute_input": "2025-02-12T10:22:20.001166Z",
     "iopub.status.busy": "2025-02-12T10:22:20.000714Z",
     "iopub.status.idle": "2025-02-12T10:22:20.019713Z",
     "shell.execute_reply": "2025-02-12T10:22:20.018606Z"
    },
    "papermill": {
     "duration": 0.030846,
     "end_time": "2025-02-12T10:22:20.021686",
     "exception": false,
     "start_time": "2025-02-12T10:22:19.990840",
     "status": "completed"
    },
    "tags": []
   },
   "outputs": [
    {
     "data": {
      "text/html": [
       "<div>\n",
       "<style scoped>\n",
       "    .dataframe tbody tr th:only-of-type {\n",
       "        vertical-align: middle;\n",
       "    }\n",
       "\n",
       "    .dataframe tbody tr th {\n",
       "        vertical-align: top;\n",
       "    }\n",
       "\n",
       "    .dataframe thead th {\n",
       "        text-align: right;\n",
       "    }\n",
       "</style>\n",
       "<table border=\"1\" class=\"dataframe\">\n",
       "  <thead>\n",
       "    <tr style=\"text-align: right;\">\n",
       "      <th></th>\n",
       "      <th>id</th>\n",
       "      <th>token</th>\n",
       "    </tr>\n",
       "  </thead>\n",
       "  <tbody>\n",
       "    <tr>\n",
       "      <th>0</th>\n",
       "      <td>0</td>\n",
       "      <td>1/2</td>\n",
       "    </tr>\n",
       "    <tr>\n",
       "      <th>1</th>\n",
       "      <td>1</td>\n",
       "      <td>large</td>\n",
       "    </tr>\n",
       "    <tr>\n",
       "      <th>2</th>\n",
       "      <td>2</td>\n",
       "      <td>sweet</td>\n",
       "    </tr>\n",
       "    <tr>\n",
       "      <th>3</th>\n",
       "      <td>3</td>\n",
       "      <td>red</td>\n",
       "    </tr>\n",
       "    <tr>\n",
       "      <th>4</th>\n",
       "      <td>4</td>\n",
       "      <td>onion</td>\n",
       "    </tr>\n",
       "  </tbody>\n",
       "</table>\n",
       "</div>"
      ],
      "text/plain": [
       "   id  token\n",
       "0   0    1/2\n",
       "1   1  large\n",
       "2   2  sweet\n",
       "3   3    red\n",
       "4   4  onion"
      ]
     },
     "execution_count": 17,
     "metadata": {},
     "output_type": "execute_result"
    }
   ],
   "source": [
    "test_data = pd.read_csv(\"/kaggle/input/nlp-week-4-ner/test.csv\")\n",
    "test_data.head()"
   ]
  },
  {
   "cell_type": "code",
   "execution_count": 18,
   "id": "5495dc9d",
   "metadata": {
    "execution": {
     "iopub.execute_input": "2025-02-12T10:22:20.041584Z",
     "iopub.status.busy": "2025-02-12T10:22:20.041185Z",
     "iopub.status.idle": "2025-02-12T10:22:20.046317Z",
     "shell.execute_reply": "2025-02-12T10:22:20.045108Z"
    },
    "papermill": {
     "duration": 0.017773,
     "end_time": "2025-02-12T10:22:20.048232",
     "exception": false,
     "start_time": "2025-02-12T10:22:20.030459",
     "status": "completed"
    },
    "tags": []
   },
   "outputs": [],
   "source": [
    "def predict_label(token):\n",
    "    doc = nlp(token)\n",
    "    for ent in doc.ents:\n",
    "        return INVERSE_CLASS_MAPPING.get(ent.label_, INVERSE_CLASS_MAPPING[\"O\"])\n",
    "    return INVERSE_CLASS_MAPPING['O']"
   ]
  },
  {
   "cell_type": "code",
   "execution_count": 19,
   "id": "afa0a7d0",
   "metadata": {
    "execution": {
     "iopub.execute_input": "2025-02-12T10:22:20.066893Z",
     "iopub.status.busy": "2025-02-12T10:22:20.066551Z",
     "iopub.status.idle": "2025-02-12T10:22:56.124257Z",
     "shell.execute_reply": "2025-02-12T10:22:56.123197Z"
    },
    "papermill": {
     "duration": 36.06929,
     "end_time": "2025-02-12T10:22:56.126271",
     "exception": false,
     "start_time": "2025-02-12T10:22:20.056981",
     "status": "completed"
    },
    "tags": []
   },
   "outputs": [],
   "source": [
    "test_data[\"label\"] = test_data[\"token\"].apply(predict_label)"
   ]
  },
  {
   "cell_type": "code",
   "execution_count": 20,
   "id": "7804b40e",
   "metadata": {
    "execution": {
     "iopub.execute_input": "2025-02-12T10:22:56.145735Z",
     "iopub.status.busy": "2025-02-12T10:22:56.145384Z",
     "iopub.status.idle": "2025-02-12T10:22:56.155247Z",
     "shell.execute_reply": "2025-02-12T10:22:56.153989Z"
    },
    "papermill": {
     "duration": 0.022024,
     "end_time": "2025-02-12T10:22:56.157248",
     "exception": false,
     "start_time": "2025-02-12T10:22:56.135224",
     "status": "completed"
    },
    "tags": []
   },
   "outputs": [
    {
     "data": {
      "text/html": [
       "<div>\n",
       "<style scoped>\n",
       "    .dataframe tbody tr th:only-of-type {\n",
       "        vertical-align: middle;\n",
       "    }\n",
       "\n",
       "    .dataframe tbody tr th {\n",
       "        vertical-align: top;\n",
       "    }\n",
       "\n",
       "    .dataframe thead th {\n",
       "        text-align: right;\n",
       "    }\n",
       "</style>\n",
       "<table border=\"1\" class=\"dataframe\">\n",
       "  <thead>\n",
       "    <tr style=\"text-align: right;\">\n",
       "      <th></th>\n",
       "      <th>id</th>\n",
       "      <th>token</th>\n",
       "      <th>label</th>\n",
       "    </tr>\n",
       "  </thead>\n",
       "  <tbody>\n",
       "    <tr>\n",
       "      <th>0</th>\n",
       "      <td>0</td>\n",
       "      <td>1/2</td>\n",
       "      <td>3</td>\n",
       "    </tr>\n",
       "    <tr>\n",
       "      <th>1</th>\n",
       "      <td>1</td>\n",
       "      <td>large</td>\n",
       "      <td>4</td>\n",
       "    </tr>\n",
       "    <tr>\n",
       "      <th>2</th>\n",
       "      <td>2</td>\n",
       "      <td>sweet</td>\n",
       "      <td>1</td>\n",
       "    </tr>\n",
       "    <tr>\n",
       "      <th>3</th>\n",
       "      <td>3</td>\n",
       "      <td>red</td>\n",
       "      <td>1</td>\n",
       "    </tr>\n",
       "    <tr>\n",
       "      <th>4</th>\n",
       "      <td>4</td>\n",
       "      <td>onion</td>\n",
       "      <td>1</td>\n",
       "    </tr>\n",
       "  </tbody>\n",
       "</table>\n",
       "</div>"
      ],
      "text/plain": [
       "   id  token  label\n",
       "0   0    1/2      3\n",
       "1   1  large      4\n",
       "2   2  sweet      1\n",
       "3   3    red      1\n",
       "4   4  onion      1"
      ]
     },
     "execution_count": 20,
     "metadata": {},
     "output_type": "execute_result"
    }
   ],
   "source": [
    "test_data.head()"
   ]
  },
  {
   "cell_type": "code",
   "execution_count": 21,
   "id": "d4200c2c",
   "metadata": {
    "execution": {
     "iopub.execute_input": "2025-02-12T10:22:56.177083Z",
     "iopub.status.busy": "2025-02-12T10:22:56.176676Z",
     "iopub.status.idle": "2025-02-12T10:22:56.187650Z",
     "shell.execute_reply": "2025-02-12T10:22:56.186572Z"
    },
    "papermill": {
     "duration": 0.022795,
     "end_time": "2025-02-12T10:22:56.189591",
     "exception": false,
     "start_time": "2025-02-12T10:22:56.166796",
     "status": "completed"
    },
    "tags": []
   },
   "outputs": [],
   "source": [
    "test_data = test_data.drop(columns=('token'))"
   ]
  },
  {
   "cell_type": "code",
   "execution_count": 22,
   "id": "8001d0f8",
   "metadata": {
    "execution": {
     "iopub.execute_input": "2025-02-12T10:22:56.209128Z",
     "iopub.status.busy": "2025-02-12T10:22:56.208745Z",
     "iopub.status.idle": "2025-02-12T10:22:56.218210Z",
     "shell.execute_reply": "2025-02-12T10:22:56.216759Z"
    },
    "papermill": {
     "duration": 0.021827,
     "end_time": "2025-02-12T10:22:56.220337",
     "exception": false,
     "start_time": "2025-02-12T10:22:56.198510",
     "status": "completed"
    },
    "tags": []
   },
   "outputs": [
    {
     "data": {
      "text/html": [
       "<div>\n",
       "<style scoped>\n",
       "    .dataframe tbody tr th:only-of-type {\n",
       "        vertical-align: middle;\n",
       "    }\n",
       "\n",
       "    .dataframe tbody tr th {\n",
       "        vertical-align: top;\n",
       "    }\n",
       "\n",
       "    .dataframe thead th {\n",
       "        text-align: right;\n",
       "    }\n",
       "</style>\n",
       "<table border=\"1\" class=\"dataframe\">\n",
       "  <thead>\n",
       "    <tr style=\"text-align: right;\">\n",
       "      <th></th>\n",
       "      <th>id</th>\n",
       "      <th>label</th>\n",
       "    </tr>\n",
       "  </thead>\n",
       "  <tbody>\n",
       "    <tr>\n",
       "      <th>0</th>\n",
       "      <td>0</td>\n",
       "      <td>3</td>\n",
       "    </tr>\n",
       "    <tr>\n",
       "      <th>1</th>\n",
       "      <td>1</td>\n",
       "      <td>4</td>\n",
       "    </tr>\n",
       "    <tr>\n",
       "      <th>2</th>\n",
       "      <td>2</td>\n",
       "      <td>1</td>\n",
       "    </tr>\n",
       "    <tr>\n",
       "      <th>3</th>\n",
       "      <td>3</td>\n",
       "      <td>1</td>\n",
       "    </tr>\n",
       "    <tr>\n",
       "      <th>4</th>\n",
       "      <td>4</td>\n",
       "      <td>1</td>\n",
       "    </tr>\n",
       "  </tbody>\n",
       "</table>\n",
       "</div>"
      ],
      "text/plain": [
       "   id  label\n",
       "0   0      3\n",
       "1   1      4\n",
       "2   2      1\n",
       "3   3      1\n",
       "4   4      1"
      ]
     },
     "execution_count": 22,
     "metadata": {},
     "output_type": "execute_result"
    }
   ],
   "source": [
    "test_data.head()"
   ]
  },
  {
   "cell_type": "code",
   "execution_count": 23,
   "id": "c2693b0c",
   "metadata": {
    "execution": {
     "iopub.execute_input": "2025-02-12T10:22:56.239756Z",
     "iopub.status.busy": "2025-02-12T10:22:56.239402Z",
     "iopub.status.idle": "2025-02-12T10:22:56.259766Z",
     "shell.execute_reply": "2025-02-12T10:22:56.258497Z"
    },
    "papermill": {
     "duration": 0.032473,
     "end_time": "2025-02-12T10:22:56.261975",
     "exception": false,
     "start_time": "2025-02-12T10:22:56.229502",
     "status": "completed"
    },
    "tags": []
   },
   "outputs": [],
   "source": [
    "test_data.to_csv(\"submission.csv\", index=False)"
   ]
  },
  {
   "cell_type": "markdown",
   "id": "ce6c462b",
   "metadata": {
    "papermill": {
     "duration": 0.008617,
     "end_time": "2025-02-12T10:22:56.279829",
     "exception": false,
     "start_time": "2025-02-12T10:22:56.271212",
     "status": "completed"
    },
    "tags": []
   },
   "source": []
  },
  {
   "cell_type": "markdown",
   "id": "5140aac3",
   "metadata": {
    "papermill": {
     "duration": 0.008641,
     "end_time": "2025-02-12T10:22:56.297567",
     "exception": false,
     "start_time": "2025-02-12T10:22:56.288926",
     "status": "completed"
    },
    "tags": []
   },
   "source": [
    "Another approach is to train a CRF model, as in [this tutorial](https://sklearn-crfsuite.readthedocs.io/en/latest/tutorial.html)"
   ]
  },
  {
   "cell_type": "markdown",
   "id": "d25491ed",
   "metadata": {
    "papermill": {
     "duration": 0.008576,
     "end_time": "2025-02-12T10:22:56.315095",
     "exception": false,
     "start_time": "2025-02-12T10:22:56.306519",
     "status": "completed"
    },
    "tags": []
   },
   "source": [
    "\n",
    "Alternatively, you could try to pretrain Stanford Parser, similar to this [example](https://data-ai.theodo.com/en/technical-blog/python-train-model-ntlk-stanford-ner-tagger). While this is a promising approach, it might be trickier in Jupyter, because the parser module in implemented on Java. Please also refer to this [FAQ](\n",
    "https://nlp.stanford.edu/software/parser-faq.html#d) \n"
   ]
  }
 ],
 "metadata": {
  "kaggle": {
   "accelerator": "none",
   "dataSources": [
    {
     "databundleVersionId": 11073306,
     "sourceId": 92858,
     "sourceType": "competition"
    }
   ],
   "dockerImageVersionId": 30886,
   "isGpuEnabled": false,
   "isInternetEnabled": true,
   "language": "python",
   "sourceType": "notebook"
  },
  "kernelspec": {
   "display_name": "Python 3",
   "language": "python",
   "name": "python3"
  },
  "language_info": {
   "codemirror_mode": {
    "name": "ipython",
    "version": 3
   },
   "file_extension": ".py",
   "mimetype": "text/x-python",
   "name": "python",
   "nbconvert_exporter": "python",
   "pygments_lexer": "ipython3",
   "version": "3.10.12"
  },
  "papermill": {
   "default_parameters": {},
   "duration": 263.349426,
   "end_time": "2025-02-12T10:22:57.649142",
   "environment_variables": {},
   "exception": null,
   "input_path": "__notebook__.ipynb",
   "output_path": "__notebook__.ipynb",
   "parameters": {},
   "start_time": "2025-02-12T10:18:34.299716",
   "version": "2.6.0"
  },
  "widgets": {
   "application/vnd.jupyter.widget-state+json": {
    "state": {
     "0ca24d567ef04de59d52586d3b688aa0": {
      "model_module": "@jupyter-widgets/controls",
      "model_module_version": "2.0.0",
      "model_name": "HTMLModel",
      "state": {
       "_dom_classes": [],
       "_model_module": "@jupyter-widgets/controls",
       "_model_module_version": "2.0.0",
       "_model_name": "HTMLModel",
       "_view_count": null,
       "_view_module": "@jupyter-widgets/controls",
       "_view_module_version": "2.0.0",
       "_view_name": "HTMLView",
       "description": "",
       "description_allow_html": false,
       "layout": "IPY_MODEL_4b1284e718c2468895bd803ceb830396",
       "placeholder": "​",
       "style": "IPY_MODEL_1fe0c5b203db4e7f9d27adf9aedb2ac7",
       "tabbable": null,
       "tooltip": null,
       "value": "100%"
      }
     },
     "1fe0c5b203db4e7f9d27adf9aedb2ac7": {
      "model_module": "@jupyter-widgets/controls",
      "model_module_version": "2.0.0",
      "model_name": "HTMLStyleModel",
      "state": {
       "_model_module": "@jupyter-widgets/controls",
       "_model_module_version": "2.0.0",
       "_model_name": "HTMLStyleModel",
       "_view_count": null,
       "_view_module": "@jupyter-widgets/base",
       "_view_module_version": "2.0.0",
       "_view_name": "StyleView",
       "background": null,
       "description_width": "",
       "font_size": null,
       "text_color": null
      }
     },
     "2221d131a3f04653a5382e48c30f4242": {
      "model_module": "@jupyter-widgets/base",
      "model_module_version": "2.0.0",
      "model_name": "LayoutModel",
      "state": {
       "_model_module": "@jupyter-widgets/base",
       "_model_module_version": "2.0.0",
       "_model_name": "LayoutModel",
       "_view_count": null,
       "_view_module": "@jupyter-widgets/base",
       "_view_module_version": "2.0.0",
       "_view_name": "LayoutView",
       "align_content": null,
       "align_items": null,
       "align_self": null,
       "border_bottom": null,
       "border_left": null,
       "border_right": null,
       "border_top": null,
       "bottom": null,
       "display": null,
       "flex": null,
       "flex_flow": null,
       "grid_area": null,
       "grid_auto_columns": null,
       "grid_auto_flow": null,
       "grid_auto_rows": null,
       "grid_column": null,
       "grid_gap": null,
       "grid_row": null,
       "grid_template_areas": null,
       "grid_template_columns": null,
       "grid_template_rows": null,
       "height": null,
       "justify_content": null,
       "justify_items": null,
       "left": null,
       "margin": null,
       "max_height": null,
       "max_width": null,
       "min_height": null,
       "min_width": null,
       "object_fit": null,
       "object_position": null,
       "order": null,
       "overflow": null,
       "padding": null,
       "right": null,
       "top": null,
       "visibility": null,
       "width": null
      }
     },
     "2c8a84ca725b47cebbe1bc47d9dac1cf": {
      "model_module": "@jupyter-widgets/base",
      "model_module_version": "2.0.0",
      "model_name": "LayoutModel",
      "state": {
       "_model_module": "@jupyter-widgets/base",
       "_model_module_version": "2.0.0",
       "_model_name": "LayoutModel",
       "_view_count": null,
       "_view_module": "@jupyter-widgets/base",
       "_view_module_version": "2.0.0",
       "_view_name": "LayoutView",
       "align_content": null,
       "align_items": null,
       "align_self": null,
       "border_bottom": null,
       "border_left": null,
       "border_right": null,
       "border_top": null,
       "bottom": null,
       "display": null,
       "flex": null,
       "flex_flow": null,
       "grid_area": null,
       "grid_auto_columns": null,
       "grid_auto_flow": null,
       "grid_auto_rows": null,
       "grid_column": null,
       "grid_gap": null,
       "grid_row": null,
       "grid_template_areas": null,
       "grid_template_columns": null,
       "grid_template_rows": null,
       "height": null,
       "justify_content": null,
       "justify_items": null,
       "left": null,
       "margin": null,
       "max_height": null,
       "max_width": null,
       "min_height": null,
       "min_width": null,
       "object_fit": null,
       "object_position": null,
       "order": null,
       "overflow": null,
       "padding": null,
       "right": null,
       "top": null,
       "visibility": null,
       "width": null
      }
     },
     "4ae3dbb9e195420a87ea828b85583013": {
      "model_module": "@jupyter-widgets/controls",
      "model_module_version": "2.0.0",
      "model_name": "HTMLStyleModel",
      "state": {
       "_model_module": "@jupyter-widgets/controls",
       "_model_module_version": "2.0.0",
       "_model_name": "HTMLStyleModel",
       "_view_count": null,
       "_view_module": "@jupyter-widgets/base",
       "_view_module_version": "2.0.0",
       "_view_name": "StyleView",
       "background": null,
       "description_width": "",
       "font_size": null,
       "text_color": null
      }
     },
     "4b1284e718c2468895bd803ceb830396": {
      "model_module": "@jupyter-widgets/base",
      "model_module_version": "2.0.0",
      "model_name": "LayoutModel",
      "state": {
       "_model_module": "@jupyter-widgets/base",
       "_model_module_version": "2.0.0",
       "_model_name": "LayoutModel",
       "_view_count": null,
       "_view_module": "@jupyter-widgets/base",
       "_view_module_version": "2.0.0",
       "_view_name": "LayoutView",
       "align_content": null,
       "align_items": null,
       "align_self": null,
       "border_bottom": null,
       "border_left": null,
       "border_right": null,
       "border_top": null,
       "bottom": null,
       "display": null,
       "flex": null,
       "flex_flow": null,
       "grid_area": null,
       "grid_auto_columns": null,
       "grid_auto_flow": null,
       "grid_auto_rows": null,
       "grid_column": null,
       "grid_gap": null,
       "grid_row": null,
       "grid_template_areas": null,
       "grid_template_columns": null,
       "grid_template_rows": null,
       "height": null,
       "justify_content": null,
       "justify_items": null,
       "left": null,
       "margin": null,
       "max_height": null,
       "max_width": null,
       "min_height": null,
       "min_width": null,
       "object_fit": null,
       "object_position": null,
       "order": null,
       "overflow": null,
       "padding": null,
       "right": null,
       "top": null,
       "visibility": null,
       "width": null
      }
     },
     "725bb0ab266b45e3bd4741572bb99b87": {
      "model_module": "@jupyter-widgets/controls",
      "model_module_version": "2.0.0",
      "model_name": "HTMLModel",
      "state": {
       "_dom_classes": [],
       "_model_module": "@jupyter-widgets/controls",
       "_model_module_version": "2.0.0",
       "_model_name": "HTMLModel",
       "_view_count": null,
       "_view_module": "@jupyter-widgets/controls",
       "_view_module_version": "2.0.0",
       "_view_name": "HTMLView",
       "description": "",
       "description_allow_html": false,
       "layout": "IPY_MODEL_2221d131a3f04653a5382e48c30f4242",
       "placeholder": "​",
       "style": "IPY_MODEL_4ae3dbb9e195420a87ea828b85583013",
       "tabbable": null,
       "tooltip": null,
       "value": " 10/10 [03:13&lt;00:00, 19.34s/it]"
      }
     },
     "9d8a7c8a6401437f9f3bc372e61d506a": {
      "model_module": "@jupyter-widgets/controls",
      "model_module_version": "2.0.0",
      "model_name": "ProgressStyleModel",
      "state": {
       "_model_module": "@jupyter-widgets/controls",
       "_model_module_version": "2.0.0",
       "_model_name": "ProgressStyleModel",
       "_view_count": null,
       "_view_module": "@jupyter-widgets/base",
       "_view_module_version": "2.0.0",
       "_view_name": "StyleView",
       "bar_color": null,
       "description_width": ""
      }
     },
     "a026fc3ff1c244f2a7c0a632cb96ff05": {
      "model_module": "@jupyter-widgets/base",
      "model_module_version": "2.0.0",
      "model_name": "LayoutModel",
      "state": {
       "_model_module": "@jupyter-widgets/base",
       "_model_module_version": "2.0.0",
       "_model_name": "LayoutModel",
       "_view_count": null,
       "_view_module": "@jupyter-widgets/base",
       "_view_module_version": "2.0.0",
       "_view_name": "LayoutView",
       "align_content": null,
       "align_items": null,
       "align_self": null,
       "border_bottom": null,
       "border_left": null,
       "border_right": null,
       "border_top": null,
       "bottom": null,
       "display": null,
       "flex": null,
       "flex_flow": null,
       "grid_area": null,
       "grid_auto_columns": null,
       "grid_auto_flow": null,
       "grid_auto_rows": null,
       "grid_column": null,
       "grid_gap": null,
       "grid_row": null,
       "grid_template_areas": null,
       "grid_template_columns": null,
       "grid_template_rows": null,
       "height": null,
       "justify_content": null,
       "justify_items": null,
       "left": null,
       "margin": null,
       "max_height": null,
       "max_width": null,
       "min_height": null,
       "min_width": null,
       "object_fit": null,
       "object_position": null,
       "order": null,
       "overflow": null,
       "padding": null,
       "right": null,
       "top": null,
       "visibility": null,
       "width": null
      }
     },
     "b59a11741cb74582bf252e3d33252fb9": {
      "model_module": "@jupyter-widgets/controls",
      "model_module_version": "2.0.0",
      "model_name": "FloatProgressModel",
      "state": {
       "_dom_classes": [],
       "_model_module": "@jupyter-widgets/controls",
       "_model_module_version": "2.0.0",
       "_model_name": "FloatProgressModel",
       "_view_count": null,
       "_view_module": "@jupyter-widgets/controls",
       "_view_module_version": "2.0.0",
       "_view_name": "ProgressView",
       "bar_style": "success",
       "description": "",
       "description_allow_html": false,
       "layout": "IPY_MODEL_2c8a84ca725b47cebbe1bc47d9dac1cf",
       "max": 10.0,
       "min": 0.0,
       "orientation": "horizontal",
       "style": "IPY_MODEL_9d8a7c8a6401437f9f3bc372e61d506a",
       "tabbable": null,
       "tooltip": null,
       "value": 10.0
      }
     },
     "ee0b6706454e4a22a84b579f1e7c0472": {
      "model_module": "@jupyter-widgets/controls",
      "model_module_version": "2.0.0",
      "model_name": "HBoxModel",
      "state": {
       "_dom_classes": [],
       "_model_module": "@jupyter-widgets/controls",
       "_model_module_version": "2.0.0",
       "_model_name": "HBoxModel",
       "_view_count": null,
       "_view_module": "@jupyter-widgets/controls",
       "_view_module_version": "2.0.0",
       "_view_name": "HBoxView",
       "box_style": "",
       "children": [
        "IPY_MODEL_0ca24d567ef04de59d52586d3b688aa0",
        "IPY_MODEL_b59a11741cb74582bf252e3d33252fb9",
        "IPY_MODEL_725bb0ab266b45e3bd4741572bb99b87"
       ],
       "layout": "IPY_MODEL_a026fc3ff1c244f2a7c0a632cb96ff05",
       "tabbable": null,
       "tooltip": null
      }
     }
    },
    "version_major": 2,
    "version_minor": 0
   }
  }
 },
 "nbformat": 4,
 "nbformat_minor": 5
}
