{
 "cells": [
  {
   "cell_type": "markdown",
   "id": "29ffba06",
   "metadata": {
    "papermill": {
     "duration": 0.006302,
     "end_time": "2025-02-26T10:38:12.678221",
     "exception": false,
     "start_time": "2025-02-26T10:38:12.671919",
     "status": "completed"
    },
    "tags": []
   },
   "source": [
    "# NLP. Lab 6. Word sense disambiguation (WSD). Lesk algorithm\n",
    "\n",
    "[Competition link](https://www.kaggle.com/t/c2b819e33879426c94a91b7e77f35af1)"
   ]
  },
  {
   "cell_type": "markdown",
   "id": "ff0b1022",
   "metadata": {
    "papermill": {
     "duration": 0.005377,
     "end_time": "2025-02-26T10:38:12.689436",
     "exception": false,
     "start_time": "2025-02-26T10:38:12.684059",
     "status": "completed"
    },
    "tags": []
   },
   "source": [
    "## 1. Wordnet structure in nltk\n",
    "\n",
    "`nltk` [WordNet](https://www.nltk.org/howto/wordnet.html) is a convenient tool for working with WordNet corpus - one of the largest lexical database on English:\n",
    "\n",
    "> Nouns, verbs, adjectives and adverbs are grouped into sets of cognitive synonyms (synsets), each expressing a distinct concept. Synsets are interlinked by means of conceptual-semantic and lexical relations. *[link](https://wordnet.princeton.edu)*\n",
    "\n",
    "That means, the one can get the sense(s) of a word from the WordNet, and considering the context, disambiguate the most appropriate meaning of the word. Also synsets are useful for comparing words, for example, finding the most similar ones. In comparison to Word2Vec, WordNet distinguesh between antonyms and synonyms (and also alsohypernyms and hyponyms) because of manual labeling of words by the linguists."
   ]
  },
  {
   "cell_type": "code",
   "execution_count": 1,
   "id": "336d60f9",
   "metadata": {
    "execution": {
     "iopub.execute_input": "2025-02-26T10:38:12.701864Z",
     "iopub.status.busy": "2025-02-26T10:38:12.701465Z",
     "iopub.status.idle": "2025-02-26T10:38:36.992351Z",
     "shell.execute_reply": "2025-02-26T10:38:36.990924Z"
    },
    "papermill": {
     "duration": 24.299523,
     "end_time": "2025-02-26T10:38:36.994456",
     "exception": false,
     "start_time": "2025-02-26T10:38:12.694933",
     "status": "completed"
    },
    "tags": []
   },
   "outputs": [
    {
     "name": "stdout",
     "output_type": "stream",
     "text": [
      "[nltk_data] Downloading collection 'all'\n",
      "[nltk_data]    | \n",
      "[nltk_data]    | Downloading package abc to /usr/share/nltk_data...\n",
      "[nltk_data]    |   Package abc is already up-to-date!\n",
      "[nltk_data]    | Downloading package alpino to /usr/share/nltk_data...\n",
      "[nltk_data]    |   Package alpino is already up-to-date!\n",
      "[nltk_data]    | Downloading package averaged_perceptron_tagger to\n",
      "[nltk_data]    |     /usr/share/nltk_data...\n",
      "[nltk_data]    |   Package averaged_perceptron_tagger is already up-\n",
      "[nltk_data]    |       to-date!\n",
      "[nltk_data]    | Downloading package averaged_perceptron_tagger_eng to\n",
      "[nltk_data]    |     /usr/share/nltk_data...\n",
      "[nltk_data]    |   Unzipping\n",
      "[nltk_data]    |       taggers/averaged_perceptron_tagger_eng.zip.\n",
      "[nltk_data]    | Downloading package averaged_perceptron_tagger_ru to\n",
      "[nltk_data]    |     /usr/share/nltk_data...\n",
      "[nltk_data]    |   Unzipping\n",
      "[nltk_data]    |       taggers/averaged_perceptron_tagger_ru.zip.\n",
      "[nltk_data]    | Downloading package averaged_perceptron_tagger_rus to\n",
      "[nltk_data]    |     /usr/share/nltk_data...\n",
      "[nltk_data]    |   Unzipping\n",
      "[nltk_data]    |       taggers/averaged_perceptron_tagger_rus.zip.\n",
      "[nltk_data]    | Downloading package basque_grammars to\n",
      "[nltk_data]    |     /usr/share/nltk_data...\n",
      "[nltk_data]    |   Package basque_grammars is already up-to-date!\n",
      "[nltk_data]    | Downloading package bcp47 to /usr/share/nltk_data...\n",
      "[nltk_data]    | Downloading package biocreative_ppi to\n",
      "[nltk_data]    |     /usr/share/nltk_data...\n",
      "[nltk_data]    |   Package biocreative_ppi is already up-to-date!\n",
      "[nltk_data]    | Downloading package bllip_wsj_no_aux to\n",
      "[nltk_data]    |     /usr/share/nltk_data...\n",
      "[nltk_data]    |   Package bllip_wsj_no_aux is already up-to-date!\n",
      "[nltk_data]    | Downloading package book_grammars to\n",
      "[nltk_data]    |     /usr/share/nltk_data...\n",
      "[nltk_data]    |   Package book_grammars is already up-to-date!\n",
      "[nltk_data]    | Downloading package brown to /usr/share/nltk_data...\n",
      "[nltk_data]    |   Package brown is already up-to-date!\n",
      "[nltk_data]    | Downloading package brown_tei to\n",
      "[nltk_data]    |     /usr/share/nltk_data...\n",
      "[nltk_data]    |   Package brown_tei is already up-to-date!\n",
      "[nltk_data]    | Downloading package cess_cat to\n",
      "[nltk_data]    |     /usr/share/nltk_data...\n",
      "[nltk_data]    |   Package cess_cat is already up-to-date!\n",
      "[nltk_data]    | Downloading package cess_esp to\n",
      "[nltk_data]    |     /usr/share/nltk_data...\n",
      "[nltk_data]    |   Package cess_esp is already up-to-date!\n",
      "[nltk_data]    | Downloading package chat80 to /usr/share/nltk_data...\n",
      "[nltk_data]    |   Package chat80 is already up-to-date!\n",
      "[nltk_data]    | Downloading package city_database to\n",
      "[nltk_data]    |     /usr/share/nltk_data...\n",
      "[nltk_data]    |   Package city_database is already up-to-date!\n",
      "[nltk_data]    | Downloading package cmudict to\n",
      "[nltk_data]    |     /usr/share/nltk_data...\n",
      "[nltk_data]    |   Package cmudict is already up-to-date!\n",
      "[nltk_data]    | Downloading package comparative_sentences to\n",
      "[nltk_data]    |     /usr/share/nltk_data...\n",
      "[nltk_data]    |   Unzipping corpora/comparative_sentences.zip.\n",
      "[nltk_data]    | Downloading package comtrans to\n",
      "[nltk_data]    |     /usr/share/nltk_data...\n",
      "[nltk_data]    |   Package comtrans is already up-to-date!\n",
      "[nltk_data]    | Downloading package conll2000 to\n",
      "[nltk_data]    |     /usr/share/nltk_data...\n",
      "[nltk_data]    |   Package conll2000 is already up-to-date!\n",
      "[nltk_data]    | Downloading package conll2002 to\n",
      "[nltk_data]    |     /usr/share/nltk_data...\n",
      "[nltk_data]    |   Package conll2002 is already up-to-date!\n",
      "[nltk_data]    | Downloading package conll2007 to\n",
      "[nltk_data]    |     /usr/share/nltk_data...\n",
      "[nltk_data]    |   Package conll2007 is already up-to-date!\n",
      "[nltk_data]    | Downloading package crubadan to\n",
      "[nltk_data]    |     /usr/share/nltk_data...\n",
      "[nltk_data]    |   Package crubadan is already up-to-date!\n",
      "[nltk_data]    | Downloading package dependency_treebank to\n",
      "[nltk_data]    |     /usr/share/nltk_data...\n",
      "[nltk_data]    |   Package dependency_treebank is already up-to-date!\n",
      "[nltk_data]    | Downloading package dolch to /usr/share/nltk_data...\n",
      "[nltk_data]    |   Unzipping corpora/dolch.zip.\n",
      "[nltk_data]    | Downloading package europarl_raw to\n",
      "[nltk_data]    |     /usr/share/nltk_data...\n",
      "[nltk_data]    |   Package europarl_raw is already up-to-date!\n",
      "[nltk_data]    | Downloading package extended_omw to\n",
      "[nltk_data]    |     /usr/share/nltk_data...\n",
      "[nltk_data]    | Downloading package floresta to\n",
      "[nltk_data]    |     /usr/share/nltk_data...\n",
      "[nltk_data]    |   Package floresta is already up-to-date!\n",
      "[nltk_data]    | Downloading package framenet_v15 to\n",
      "[nltk_data]    |     /usr/share/nltk_data...\n",
      "[nltk_data]    |   Unzipping corpora/framenet_v15.zip.\n",
      "[nltk_data]    | Downloading package framenet_v17 to\n",
      "[nltk_data]    |     /usr/share/nltk_data...\n",
      "[nltk_data]    |   Unzipping corpora/framenet_v17.zip.\n",
      "[nltk_data]    | Downloading package gazetteers to\n",
      "[nltk_data]    |     /usr/share/nltk_data...\n",
      "[nltk_data]    |   Package gazetteers is already up-to-date!\n",
      "[nltk_data]    | Downloading package genesis to\n",
      "[nltk_data]    |     /usr/share/nltk_data...\n",
      "[nltk_data]    |   Package genesis is already up-to-date!\n",
      "[nltk_data]    | Downloading package gutenberg to\n",
      "[nltk_data]    |     /usr/share/nltk_data...\n",
      "[nltk_data]    |   Package gutenberg is already up-to-date!\n",
      "[nltk_data]    | Downloading package ieer to /usr/share/nltk_data...\n",
      "[nltk_data]    |   Package ieer is already up-to-date!\n",
      "[nltk_data]    | Downloading package inaugural to\n",
      "[nltk_data]    |     /usr/share/nltk_data...\n",
      "[nltk_data]    |   Unzipping corpora/inaugural.zip.\n",
      "[nltk_data]    | Downloading package indian to /usr/share/nltk_data...\n",
      "[nltk_data]    |   Package indian is already up-to-date!\n",
      "[nltk_data]    | Downloading package jeita to /usr/share/nltk_data...\n",
      "[nltk_data]    |   Package jeita is already up-to-date!\n",
      "[nltk_data]    | Downloading package kimmo to /usr/share/nltk_data...\n",
      "[nltk_data]    |   Package kimmo is already up-to-date!\n",
      "[nltk_data]    | Downloading package knbc to /usr/share/nltk_data...\n",
      "[nltk_data]    |   Package knbc is already up-to-date!\n",
      "[nltk_data]    | Downloading package large_grammars to\n",
      "[nltk_data]    |     /usr/share/nltk_data...\n",
      "[nltk_data]    |   Package large_grammars is already up-to-date!\n",
      "[nltk_data]    | Downloading package lin_thesaurus to\n",
      "[nltk_data]    |     /usr/share/nltk_data...\n",
      "[nltk_data]    |   Package lin_thesaurus is already up-to-date!\n",
      "[nltk_data]    | Downloading package mac_morpho to\n",
      "[nltk_data]    |     /usr/share/nltk_data...\n",
      "[nltk_data]    |   Package mac_morpho is already up-to-date!\n",
      "[nltk_data]    | Downloading package machado to\n",
      "[nltk_data]    |     /usr/share/nltk_data...\n",
      "[nltk_data]    |   Package machado is already up-to-date!\n",
      "[nltk_data]    | Downloading package masc_tagged to\n",
      "[nltk_data]    |     /usr/share/nltk_data...\n",
      "[nltk_data]    |   Package masc_tagged is already up-to-date!\n",
      "[nltk_data]    | Downloading package maxent_ne_chunker to\n",
      "[nltk_data]    |     /usr/share/nltk_data...\n",
      "[nltk_data]    |   Package maxent_ne_chunker is already up-to-date!\n",
      "[nltk_data]    | Downloading package maxent_ne_chunker_tab to\n",
      "[nltk_data]    |     /usr/share/nltk_data...\n",
      "[nltk_data]    |   Unzipping chunkers/maxent_ne_chunker_tab.zip.\n",
      "[nltk_data]    | Downloading package maxent_treebank_pos_tagger to\n",
      "[nltk_data]    |     /usr/share/nltk_data...\n",
      "[nltk_data]    |   Package maxent_treebank_pos_tagger is already up-\n",
      "[nltk_data]    |       to-date!\n",
      "[nltk_data]    | Downloading package maxent_treebank_pos_tagger_tab to\n",
      "[nltk_data]    |     /usr/share/nltk_data...\n",
      "[nltk_data]    |   Unzipping\n",
      "[nltk_data]    |       taggers/maxent_treebank_pos_tagger_tab.zip.\n",
      "[nltk_data]    | Downloading package moses_sample to\n",
      "[nltk_data]    |     /usr/share/nltk_data...\n",
      "[nltk_data]    |   Package moses_sample is already up-to-date!\n",
      "[nltk_data]    | Downloading package movie_reviews to\n",
      "[nltk_data]    |     /usr/share/nltk_data...\n",
      "[nltk_data]    |   Package movie_reviews is already up-to-date!\n",
      "[nltk_data]    | Downloading package mte_teip5 to\n",
      "[nltk_data]    |     /usr/share/nltk_data...\n",
      "[nltk_data]    |   Package mte_teip5 is already up-to-date!\n",
      "[nltk_data]    | Downloading package mwa_ppdb to\n",
      "[nltk_data]    |     /usr/share/nltk_data...\n",
      "[nltk_data]    |   Unzipping misc/mwa_ppdb.zip.\n",
      "[nltk_data]    | Downloading package names to /usr/share/nltk_data...\n",
      "[nltk_data]    |   Package names is already up-to-date!\n",
      "[nltk_data]    | Downloading package nombank.1.0 to\n",
      "[nltk_data]    |     /usr/share/nltk_data...\n",
      "[nltk_data]    | Downloading package nonbreaking_prefixes to\n",
      "[nltk_data]    |     /usr/share/nltk_data...\n",
      "[nltk_data]    |   Unzipping corpora/nonbreaking_prefixes.zip.\n",
      "[nltk_data]    | Downloading package nps_chat to\n",
      "[nltk_data]    |     /usr/share/nltk_data...\n",
      "[nltk_data]    |   Package nps_chat is already up-to-date!\n",
      "[nltk_data]    | Downloading package omw to /usr/share/nltk_data...\n",
      "[nltk_data]    |   Package omw is already up-to-date!\n",
      "[nltk_data]    | Downloading package omw-1.4 to\n",
      "[nltk_data]    |     /usr/share/nltk_data...\n",
      "[nltk_data]    | Downloading package opinion_lexicon to\n",
      "[nltk_data]    |     /usr/share/nltk_data...\n",
      "[nltk_data]    |   Package opinion_lexicon is already up-to-date!\n",
      "[nltk_data]    | Downloading package panlex_swadesh to\n",
      "[nltk_data]    |     /usr/share/nltk_data...\n",
      "[nltk_data]    | Downloading package paradigms to\n",
      "[nltk_data]    |     /usr/share/nltk_data...\n",
      "[nltk_data]    |   Package paradigms is already up-to-date!\n",
      "[nltk_data]    | Downloading package pe08 to /usr/share/nltk_data...\n",
      "[nltk_data]    |   Unzipping corpora/pe08.zip.\n",
      "[nltk_data]    | Downloading package perluniprops to\n",
      "[nltk_data]    |     /usr/share/nltk_data...\n",
      "[nltk_data]    |   Unzipping misc/perluniprops.zip.\n",
      "[nltk_data]    | Downloading package pil to /usr/share/nltk_data...\n",
      "[nltk_data]    |   Package pil is already up-to-date!\n",
      "[nltk_data]    | Downloading package pl196x to /usr/share/nltk_data...\n",
      "[nltk_data]    |   Package pl196x is already up-to-date!\n",
      "[nltk_data]    | Downloading package porter_test to\n",
      "[nltk_data]    |     /usr/share/nltk_data...\n",
      "[nltk_data]    |   Package porter_test is already up-to-date!\n",
      "[nltk_data]    | Downloading package ppattach to\n",
      "[nltk_data]    |     /usr/share/nltk_data...\n",
      "[nltk_data]    |   Package ppattach is already up-to-date!\n",
      "[nltk_data]    | Downloading package problem_reports to\n",
      "[nltk_data]    |     /usr/share/nltk_data...\n",
      "[nltk_data]    |   Package problem_reports is already up-to-date!\n",
      "[nltk_data]    | Downloading package product_reviews_1 to\n",
      "[nltk_data]    |     /usr/share/nltk_data...\n",
      "[nltk_data]    |   Package product_reviews_1 is already up-to-date!\n",
      "[nltk_data]    | Downloading package product_reviews_2 to\n",
      "[nltk_data]    |     /usr/share/nltk_data...\n",
      "[nltk_data]    |   Package product_reviews_2 is already up-to-date!\n",
      "[nltk_data]    | Downloading package propbank to\n",
      "[nltk_data]    |     /usr/share/nltk_data...\n",
      "[nltk_data]    |   Package propbank is already up-to-date!\n",
      "[nltk_data]    | Downloading package pros_cons to\n",
      "[nltk_data]    |     /usr/share/nltk_data...\n",
      "[nltk_data]    |   Package pros_cons is already up-to-date!\n",
      "[nltk_data]    | Downloading package ptb to /usr/share/nltk_data...\n",
      "[nltk_data]    |   Package ptb is already up-to-date!\n",
      "[nltk_data]    | Downloading package punkt to /usr/share/nltk_data...\n",
      "[nltk_data]    |   Package punkt is already up-to-date!\n",
      "[nltk_data]    | Downloading package punkt_tab to\n",
      "[nltk_data]    |     /usr/share/nltk_data...\n",
      "[nltk_data]    |   Unzipping tokenizers/punkt_tab.zip.\n",
      "[nltk_data]    | Downloading package qc to /usr/share/nltk_data...\n",
      "[nltk_data]    |   Package qc is already up-to-date!\n",
      "[nltk_data]    | Downloading package reuters to\n",
      "[nltk_data]    |     /usr/share/nltk_data...\n",
      "[nltk_data]    |   Package reuters is already up-to-date!\n",
      "[nltk_data]    | Downloading package rslp to /usr/share/nltk_data...\n",
      "[nltk_data]    |   Package rslp is already up-to-date!\n",
      "[nltk_data]    | Downloading package rte to /usr/share/nltk_data...\n",
      "[nltk_data]    |   Package rte is already up-to-date!\n",
      "[nltk_data]    | Downloading package sample_grammars to\n",
      "[nltk_data]    |     /usr/share/nltk_data...\n",
      "[nltk_data]    |   Package sample_grammars is already up-to-date!\n",
      "[nltk_data]    | Downloading package semcor to /usr/share/nltk_data...\n",
      "[nltk_data]    |   Package semcor is already up-to-date!\n",
      "[nltk_data]    | Downloading package senseval to\n",
      "[nltk_data]    |     /usr/share/nltk_data...\n",
      "[nltk_data]    |   Package senseval is already up-to-date!\n",
      "[nltk_data]    | Downloading package sentence_polarity to\n",
      "[nltk_data]    |     /usr/share/nltk_data...\n",
      "[nltk_data]    |   Package sentence_polarity is already up-to-date!\n",
      "[nltk_data]    | Downloading package sentiwordnet to\n",
      "[nltk_data]    |     /usr/share/nltk_data...\n",
      "[nltk_data]    |   Package sentiwordnet is already up-to-date!\n",
      "[nltk_data]    | Downloading package shakespeare to\n",
      "[nltk_data]    |     /usr/share/nltk_data...\n",
      "[nltk_data]    |   Package shakespeare is already up-to-date!\n",
      "[nltk_data]    | Downloading package sinica_treebank to\n",
      "[nltk_data]    |     /usr/share/nltk_data...\n",
      "[nltk_data]    |   Package sinica_treebank is already up-to-date!\n",
      "[nltk_data]    | Downloading package smultron to\n",
      "[nltk_data]    |     /usr/share/nltk_data...\n",
      "[nltk_data]    |   Package smultron is already up-to-date!\n",
      "[nltk_data]    | Downloading package snowball_data to\n",
      "[nltk_data]    |     /usr/share/nltk_data...\n",
      "[nltk_data]    |   Package snowball_data is already up-to-date!\n",
      "[nltk_data]    | Downloading package spanish_grammars to\n",
      "[nltk_data]    |     /usr/share/nltk_data...\n",
      "[nltk_data]    |   Package spanish_grammars is already up-to-date!\n",
      "[nltk_data]    | Downloading package state_union to\n",
      "[nltk_data]    |     /usr/share/nltk_data...\n",
      "[nltk_data]    |   Package state_union is already up-to-date!\n",
      "[nltk_data]    | Downloading package stopwords to\n",
      "[nltk_data]    |     /usr/share/nltk_data...\n",
      "[nltk_data]    |   Unzipping corpora/stopwords.zip.\n",
      "[nltk_data]    | Downloading package subjectivity to\n",
      "[nltk_data]    |     /usr/share/nltk_data...\n",
      "[nltk_data]    |   Package subjectivity is already up-to-date!\n",
      "[nltk_data]    | Downloading package swadesh to\n",
      "[nltk_data]    |     /usr/share/nltk_data...\n",
      "[nltk_data]    |   Package swadesh is already up-to-date!\n",
      "[nltk_data]    | Downloading package switchboard to\n",
      "[nltk_data]    |     /usr/share/nltk_data...\n",
      "[nltk_data]    |   Package switchboard is already up-to-date!\n",
      "[nltk_data]    | Downloading package tagsets to\n",
      "[nltk_data]    |     /usr/share/nltk_data...\n",
      "[nltk_data]    |   Package tagsets is already up-to-date!\n",
      "[nltk_data]    | Downloading package tagsets_json to\n",
      "[nltk_data]    |     /usr/share/nltk_data...\n",
      "[nltk_data]    |   Unzipping help/tagsets_json.zip.\n",
      "[nltk_data]    | Downloading package timit to /usr/share/nltk_data...\n",
      "[nltk_data]    |   Package timit is already up-to-date!\n",
      "[nltk_data]    | Downloading package toolbox to\n",
      "[nltk_data]    |     /usr/share/nltk_data...\n",
      "[nltk_data]    |   Package toolbox is already up-to-date!\n",
      "[nltk_data]    | Downloading package treebank to\n",
      "[nltk_data]    |     /usr/share/nltk_data...\n",
      "[nltk_data]    |   Package treebank is already up-to-date!\n",
      "[nltk_data]    | Downloading package twitter_samples to\n",
      "[nltk_data]    |     /usr/share/nltk_data...\n",
      "[nltk_data]    |   Package twitter_samples is already up-to-date!\n",
      "[nltk_data]    | Downloading package udhr to /usr/share/nltk_data...\n",
      "[nltk_data]    |   Package udhr is already up-to-date!\n",
      "[nltk_data]    | Downloading package udhr2 to /usr/share/nltk_data...\n",
      "[nltk_data]    |   Package udhr2 is already up-to-date!\n",
      "[nltk_data]    | Downloading package unicode_samples to\n",
      "[nltk_data]    |     /usr/share/nltk_data...\n",
      "[nltk_data]    |   Package unicode_samples is already up-to-date!\n",
      "[nltk_data]    | Downloading package universal_tagset to\n",
      "[nltk_data]    |     /usr/share/nltk_data...\n",
      "[nltk_data]    |   Package universal_tagset is already up-to-date!\n",
      "[nltk_data]    | Downloading package universal_treebanks_v20 to\n",
      "[nltk_data]    |     /usr/share/nltk_data...\n",
      "[nltk_data]    |   Package universal_treebanks_v20 is already up-to-\n",
      "[nltk_data]    |       date!\n",
      "[nltk_data]    | Downloading package vader_lexicon to\n",
      "[nltk_data]    |     /usr/share/nltk_data...\n",
      "[nltk_data]    |   Package vader_lexicon is already up-to-date!\n",
      "[nltk_data]    | Downloading package verbnet to\n",
      "[nltk_data]    |     /usr/share/nltk_data...\n",
      "[nltk_data]    |   Package verbnet is already up-to-date!\n",
      "[nltk_data]    | Downloading package verbnet3 to\n",
      "[nltk_data]    |     /usr/share/nltk_data...\n",
      "[nltk_data]    |   Unzipping corpora/verbnet3.zip.\n",
      "[nltk_data]    | Downloading package webtext to\n",
      "[nltk_data]    |     /usr/share/nltk_data...\n",
      "[nltk_data]    |   Package webtext is already up-to-date!\n",
      "[nltk_data]    | Downloading package wmt15_eval to\n",
      "[nltk_data]    |     /usr/share/nltk_data...\n",
      "[nltk_data]    |   Unzipping models/wmt15_eval.zip.\n",
      "[nltk_data]    | Downloading package word2vec_sample to\n",
      "[nltk_data]    |     /usr/share/nltk_data...\n",
      "[nltk_data]    |   Package word2vec_sample is already up-to-date!\n",
      "[nltk_data]    | Downloading package wordnet to\n",
      "[nltk_data]    |     /usr/share/nltk_data...\n",
      "[nltk_data]    |   Package wordnet is already up-to-date!\n",
      "[nltk_data]    | Downloading package wordnet2021 to\n",
      "[nltk_data]    |     /usr/share/nltk_data...\n",
      "[nltk_data]    | Downloading package wordnet2022 to\n",
      "[nltk_data]    |     /usr/share/nltk_data...\n",
      "[nltk_data]    |   Unzipping corpora/wordnet2022.zip.\n",
      "[nltk_data]    | Downloading package wordnet31 to\n",
      "[nltk_data]    |     /usr/share/nltk_data...\n",
      "[nltk_data]    | Downloading package wordnet_ic to\n",
      "[nltk_data]    |     /usr/share/nltk_data...\n",
      "[nltk_data]    |   Package wordnet_ic is already up-to-date!\n",
      "[nltk_data]    | Downloading package words to /usr/share/nltk_data...\n",
      "[nltk_data]    |   Package words is already up-to-date!\n",
      "[nltk_data]    | Downloading package ycoe to /usr/share/nltk_data...\n",
      "[nltk_data]    |   Package ycoe is already up-to-date!\n",
      "[nltk_data]    | \n",
      "[nltk_data]  Done downloading collection all\n",
      "[nltk_data] Downloading package wordnet to /kaggle/working/...\n"
     ]
    }
   ],
   "source": [
    "import pandas as pd\n",
    "import numpy as np\n",
    "import nltk\n",
    "import subprocess\n",
    "nltk.download('all')\n",
    "\n",
    "try:\n",
    "    nltk.data.find('wordnet.zip')\n",
    "except:\n",
    "    nltk.download('wordnet', download_dir='/kaggle/working/')\n",
    "    command = \"unzip /kaggle/working/corpora/wordnet.zip -d /kaggle/working/corpora\"\n",
    "    subprocess.run(command.split())\n",
    "    nltk.data.path.append('/kaggle/working/')\n",
    "\n",
    "from nltk.corpus import wordnet as wn"
   ]
  },
  {
   "cell_type": "markdown",
   "id": "4cdf612d",
   "metadata": {
    "papermill": {
     "duration": 0.008442,
     "end_time": "2025-02-26T10:38:37.011573",
     "exception": false,
     "start_time": "2025-02-26T10:38:37.003131",
     "status": "completed"
    },
    "tags": []
   },
   "source": [
    "## 3. Competition. Implementation of Lesk algorithm(s) from scratch\n",
    "\n",
    "We've seen that Lesk algorithm sometimes works incorrectly, at least, its `nltk` implementation. However, it can be modified in the ways of (1) calculation of overlapping; (2) considering PoS of a ambigous word; (3) lemmatization of words, ...\n",
    "\n",
    "Your task (both for class and competition) on this week is to finish the implementation of Lesk algorithm"
   ]
  },
  {
   "cell_type": "code",
   "execution_count": 2,
   "id": "1be14468",
   "metadata": {
    "execution": {
     "iopub.execute_input": "2025-02-26T10:38:37.029999Z",
     "iopub.status.busy": "2025-02-26T10:38:37.029442Z",
     "iopub.status.idle": "2025-02-26T10:38:37.035445Z",
     "shell.execute_reply": "2025-02-26T10:38:37.034520Z"
    },
    "papermill": {
     "duration": 0.017651,
     "end_time": "2025-02-26T10:38:37.037183",
     "exception": false,
     "start_time": "2025-02-26T10:38:37.019532",
     "status": "completed"
    },
    "tags": []
   },
   "outputs": [],
   "source": [
    "from nltk import pos_tag\n",
    "from nltk.stem import PorterStemmer, WordNetLemmatizer\n",
    "from nltk import sent_tokenize\n",
    "import re, math\n",
    "from collections import Counter\n",
    "from itertools import chain\n",
    "import pandas as pd"
   ]
  },
  {
   "cell_type": "markdown",
   "id": "f16dcdca",
   "metadata": {
    "papermill": {
     "duration": 0.007556,
     "end_time": "2025-02-26T10:38:37.052866",
     "exception": false,
     "start_time": "2025-02-26T10:38:37.045310",
     "status": "completed"
    },
    "tags": []
   },
   "source": [
    "Lesk algorithm compares the overlapping of the sentence with the **signature** of every lemma of ambigous word (optionally, all lemmas with given PoS tag). By the signature we mean set of words from definitions of ambigous word. The one can extend it synset examples in WordNet; hyper-/hyponyms and  signatures from the related senses. \n",
    "\n",
    "We provide you pre-computed signatures in *signatures.pkl*. You can access to a signature by a synset name and pocking one of the signature \"modes\", i.e. the way they were constructed. Check the example to see the difference"
   ]
  },
  {
   "cell_type": "code",
   "execution_count": 3,
   "id": "ce611bc8",
   "metadata": {
    "execution": {
     "iopub.execute_input": "2025-02-26T10:38:37.070003Z",
     "iopub.status.busy": "2025-02-26T10:38:37.069486Z",
     "iopub.status.idle": "2025-02-26T10:38:42.178700Z",
     "shell.execute_reply": "2025-02-26T10:38:42.177490Z"
    },
    "papermill": {
     "duration": 5.12028,
     "end_time": "2025-02-26T10:38:42.180785",
     "exception": false,
     "start_time": "2025-02-26T10:38:37.060505",
     "status": "completed"
    },
    "tags": []
   },
   "outputs": [],
   "source": [
    "cached_signatures = pd.read_pickle('/kaggle/input/nlp-lab-6-word-sense-disambiguation-wsd/signatures.pkl')"
   ]
  },
  {
   "cell_type": "code",
   "execution_count": 4,
   "id": "32d76ae0",
   "metadata": {
    "execution": {
     "iopub.execute_input": "2025-02-26T10:38:42.211178Z",
     "iopub.status.busy": "2025-02-26T10:38:42.210649Z",
     "iopub.status.idle": "2025-02-26T10:38:42.245799Z",
     "shell.execute_reply": "2025-02-26T10:38:42.244352Z"
    },
    "papermill": {
     "duration": 0.054061,
     "end_time": "2025-02-26T10:38:42.247847",
     "exception": false,
     "start_time": "2025-02-26T10:38:42.193786",
     "status": "completed"
    },
    "tags": []
   },
   "outputs": [
    {
     "name": "stdout",
     "output_type": "stream",
     "text": [
      "Original {'as', 'device', 'surface', 'a', 'that', 'ball', 'computer', ';', 'coordinates', 'move', 'your', 'the', 'bottom', 'you', 'around', 'hand-operated', 'on', 'it', 'controls', 'rolls', 'is', 'of', 'pad', 'screen', 'cursor', 'electronic'}\n",
      "Simple {'device', 'surface', 'room', 'roll', 'trackball', 'coordinate', 'control', 'take', 'ball', 'computer', 'mouse', 'computer_mouse', 'move', 'bottom', 'around', 'hand-operated', 'electronic_device', 'much', 'pad', 'screen', 'cursor', 'electronic'}\n",
      "Adapted {'device', 'surface', 'room', 'roll', 'trackball', 'coordinate', 'control', 'ball', 'take', 'computer', 'mouse', 'computer_mouse', 'move', 'bottom', 'around', 'hand-operated', 'mouse_button', 'electronic_device', 'much', 'pad', 'screen', 'cursor', 'electronic'}\n"
     ]
    }
   ],
   "source": [
    "# Example of access to cached signatures\n",
    "print(f\"Original {cached_signatures['mouse.n.04']['original']}\") # set of words from 'mouse.n.04' definition\n",
    "print(f\"Simple {cached_signatures['mouse.n.04']['simple']}\") # set of words from 'mouse.n.04' (definition +  hypernymy and hyponymy)\n",
    "print(f\"Adapted {cached_signatures['mouse.n.04']['adapted']}\") # set of words from 'mouse.n.04' (definition +  hypernymy and hyponymy + holonyms + meronyms +  troponym)"
   ]
  },
  {
   "cell_type": "code",
   "execution_count": 5,
   "id": "85a7b27c",
   "metadata": {
    "execution": {
     "iopub.execute_input": "2025-02-26T10:38:42.273183Z",
     "iopub.status.busy": "2025-02-26T10:38:42.272784Z",
     "iopub.status.idle": "2025-02-26T10:38:42.279891Z",
     "shell.execute_reply": "2025-02-26T10:38:42.278702Z"
    },
    "papermill": {
     "duration": 0.019183,
     "end_time": "2025-02-26T10:38:42.282024",
     "exception": false,
     "start_time": "2025-02-26T10:38:42.262841",
     "status": "completed"
    },
    "tags": []
   },
   "outputs": [],
   "source": [
    "# Support function\n",
    "def signatures(ambiguous_word: str, pos: str = None, mode=\"simple\") -> dict:\n",
    "    \"\"\"\n",
    "    Takes an ambiguous word and optionally its Part-Of-Speech and returns\n",
    "    a dictionary where keys are the synsets and values are sets of signatures.\n",
    "\n",
    "    :param ambiguous_word: String, a single word.\n",
    "    :param pos: String, one of 'a', 'r', 's', 'n', 'v', or None.\n",
    "    :return: dict(synset:{signatures}).\n",
    "    \"\"\"\n",
    "    if mode not in [\"original\", \"simple\", \"adapted\"]:\n",
    "        raise AttributeError\n",
    "    # Ensure that the POS is supported.\n",
    "    pos = pos if pos in ['a', 'r', 's', 'n', 'v', None] else None\n",
    "\n",
    "    # If the POS specified isn't found but other POS is in wordnet.\n",
    "    if not wn.synsets(ambiguous_word, pos) and wn.synsets(ambiguous_word):\n",
    "        pos = None\n",
    "\n",
    "    # Holds the synset->signature dictionary\n",
    "    ss_sign = {}\n",
    "    for sysnset in wn.synsets(ambiguous_word, pos):\n",
    "        ss_sign[sysnset] = cached_signatures[sysnset.name()][mode]\n",
    "\n",
    "    # Matching exact words may cause sparsity, so do optional stemming\n",
    "    return {ss:[PorterStemmer().stem(s) for s in signature] for ss, signature in ss_sign.items()}"
   ]
  },
  {
   "cell_type": "code",
   "execution_count": 6,
   "id": "da634fd0",
   "metadata": {
    "execution": {
     "iopub.execute_input": "2025-02-26T10:38:42.299879Z",
     "iopub.status.busy": "2025-02-26T10:38:42.299425Z",
     "iopub.status.idle": "2025-02-26T10:38:44.059297Z",
     "shell.execute_reply": "2025-02-26T10:38:44.057802Z"
    },
    "papermill": {
     "duration": 1.771046,
     "end_time": "2025-02-26T10:38:44.061520",
     "exception": false,
     "start_time": "2025-02-26T10:38:42.290474",
     "status": "completed"
    },
    "tags": []
   },
   "outputs": [
    {
     "name": "stdout",
     "output_type": "stream",
     "text": [
      "{Synset('button.n.01'): ['shirt_button', 'fix', 'sewn', 'fasten', 'round', 'fasten', 'coat_button', 'shirt', 'fit', 'holdfast', 'buttonhol', 'coat', 'etc', 'button'], Synset('push_button.n.01'): ['bed', 'horn_button', 'doorbel', 'push_button', 'besid', 'electr', 'elev', 'press', 'bell', 'reset_button', 'electrical_switch', 'desk', 'button', 'oper', 'switch', 'buzzer', 'mouse_button', 'bell_push', 'push', 'panic_button', 'electric_switch'], Synset('button.n.03'): ['resembl', 'plant_part', 'variou', 'part', 'plant_structur', 'button', 'plant'], Synset('button.n.04'): ['pass', 'flat', 'round', 'onto', 'pin', 'garment', 'inform', 'candid', 'suitabl', 'badg', 'display', 'button', 'campaign'], Synset('clitoris.n.01'): ['peni', 'organ', 'femal', 'erectile_organ', 'clit', 'sexual', 'clitori', 'homolog', 'button'], Synset('release.n.08'): ['press', 'devic', 'mechan', 'part', 'releas', 'button'], Synset('button.n.07'): ['resembl', 'artefact', 'button', 'artifact']}\n"
     ]
    }
   ],
   "source": [
    "print(signatures(\"button\", 'n', mode='simple'))"
   ]
  },
  {
   "cell_type": "markdown",
   "id": "36548ec3",
   "metadata": {
    "papermill": {
     "duration": 0.007795,
     "end_time": "2025-02-26T10:38:44.077344",
     "exception": false,
     "start_time": "2025-02-26T10:38:44.069549",
     "status": "completed"
    },
    "tags": []
   },
   "source": [
    "### 3.1 [Vanila Lesk]()\n",
    "\n",
    "Algorithm:\n",
    "\n",
    "0) *(optional) Get lemma form of the ambiguous word and use it instead of word;*\n",
    "1) Get the signatures of the ambiguous words synset, i.e. the definition of *every synset* for the word;\n",
    "2) *(optional) On the previous step, consider PoS tagging;*\n",
    "3) *(optional) Apply lemmatization on the context as well for better robustness;*\n",
    "4) For every pair of synset and its signature, calculate intersection between the context and the signature;\n",
    "5) Save a synset with the biggest intersection."
   ]
  },
  {
   "cell_type": "code",
   "execution_count": 7,
   "id": "e87e8af7",
   "metadata": {
    "execution": {
     "iopub.execute_input": "2025-02-26T10:38:44.094534Z",
     "iopub.status.busy": "2025-02-26T10:38:44.094112Z",
     "iopub.status.idle": "2025-02-26T10:38:44.100616Z",
     "shell.execute_reply": "2025-02-26T10:38:44.099103Z"
    },
    "papermill": {
     "duration": 0.017045,
     "end_time": "2025-02-26T10:38:44.102332",
     "exception": false,
     "start_time": "2025-02-26T10:38:44.085287",
     "status": "completed"
    },
    "tags": []
   },
   "outputs": [
    {
     "name": "stdout",
     "output_type": "stream",
     "text": [
      "['i', 'went', 'to', 'the', 'bank', 'to', 'deposit', 'my', 'money']\n"
     ]
    }
   ],
   "source": [
    "def tmp(context):\n",
    "    stemmed_context = [PorterStemmer().stem(s.lower()) for s in context.split()]\n",
    "    print(stemmed_context)\n",
    "\n",
    "tmp(\"I went to the bank to deposit my money\")"
   ]
  },
  {
   "cell_type": "code",
   "execution_count": 8,
   "id": "2c95cbcc",
   "metadata": {
    "execution": {
     "iopub.execute_input": "2025-02-26T10:38:44.120294Z",
     "iopub.status.busy": "2025-02-26T10:38:44.119892Z",
     "iopub.status.idle": "2025-02-26T10:38:44.126253Z",
     "shell.execute_reply": "2025-02-26T10:38:44.125214Z"
    },
    "papermill": {
     "duration": 0.017257,
     "end_time": "2025-02-26T10:38:44.127987",
     "exception": false,
     "start_time": "2025-02-26T10:38:44.110730",
     "status": "completed"
    },
    "tags": []
   },
   "outputs": [],
   "source": [
    "def split_stem(context):\n",
    "    return [PorterStemmer().stem(s) for s in context.split()]\n",
    "\n",
    "def overlap(signature, context):\n",
    "    stemmed_context = set(split_stem(context))\n",
    "    overlap_count = sum(1 for word in signature if word in stemmed_context)\n",
    "    return overlap_count\n",
    "\n",
    "def original_lesk(context_sentence: str, ambiguous_word: str) -> wn.synset:\n",
    "    \"\"\"\n",
    "    Implementation of the original Lesk algorithm (1986).\n",
    "\n",
    "    :param context_sentence: String, sentence or document.\n",
    "    :param ambiguous_word: String, a single word.\n",
    "    :return: A Synset for the estimated best sense.\n",
    "    \"\"\"\n",
    "    candidates = signatures(ambiguous_word)\n",
    "\n",
    "    max_overlap = 0\n",
    "    best_synset = None\n",
    "    for synset, signature in candidates.items():\n",
    "        overlapped = overlap(signature, context_sentence)\n",
    "        if overlapped > max_overlap:\n",
    "            max_overlap = overlapped\n",
    "            best_synset = synset\n",
    "    \n",
    "    return best_synset\n"
   ]
  },
  {
   "cell_type": "code",
   "execution_count": 9,
   "id": "ef8b6d26",
   "metadata": {
    "execution": {
     "iopub.execute_input": "2025-02-26T10:38:44.145805Z",
     "iopub.status.busy": "2025-02-26T10:38:44.145335Z",
     "iopub.status.idle": "2025-02-26T10:38:44.161898Z",
     "shell.execute_reply": "2025-02-26T10:38:44.160721Z"
    },
    "papermill": {
     "duration": 0.027654,
     "end_time": "2025-02-26T10:38:44.163891",
     "exception": false,
     "start_time": "2025-02-26T10:38:44.136237",
     "status": "completed"
    },
    "tags": []
   },
   "outputs": [],
   "source": [
    "vanila_lesk_definition = original_lesk('I went to the bank to deposit my money', 'bank').definition()\n",
    "assert vanila_lesk_definition == 'a financial institution that accepts deposits and channels the money into lending activities'"
   ]
  },
  {
   "cell_type": "markdown",
   "id": "87ac0eb6",
   "metadata": {
    "papermill": {
     "duration": 0.007581,
     "end_time": "2025-02-26T10:38:44.179591",
     "exception": false,
     "start_time": "2025-02-26T10:38:44.172010",
     "status": "completed"
    },
    "tags": []
   },
   "source": [
    "### 3.2 Cosine Lesk\n",
    "\n",
    "The initial version of the Lesk algorithm can be slightly updated in the overlap calculation part. Leave steps 0-3 as in the section.  As overlapping, calculate a cosine similarity between a signature and context. Finally, return a synset with the highest similarity of its signature with the given context. \n",
    "\n",
    "How to define a cos sim for the sentences?\n",
    "\n",
    "$$cos(A,B) = \\frac{\\sum(A_i, B_i)}{\\sum(A_i^2) * \\sum(B_i^2)}$$\n",
    "\n",
    "For example, you can count every word in context and signature. Multiply the counts of the intersected words between context and signature. Sum these multiplications, that would represent $\\sum(A_i, B_i)$ in the formula above. Normalize it by counts of every words in the sentences."
   ]
  },
  {
   "cell_type": "code",
   "execution_count": 10,
   "id": "de1b2134",
   "metadata": {
    "execution": {
     "iopub.execute_input": "2025-02-26T10:38:44.197246Z",
     "iopub.status.busy": "2025-02-26T10:38:44.196870Z",
     "iopub.status.idle": "2025-02-26T10:38:44.204289Z",
     "shell.execute_reply": "2025-02-26T10:38:44.203107Z"
    },
    "papermill": {
     "duration": 0.018203,
     "end_time": "2025-02-26T10:38:44.206032",
     "exception": false,
     "start_time": "2025-02-26T10:38:44.187829",
     "status": "completed"
    },
    "tags": []
   },
   "outputs": [],
   "source": [
    "from collections import Counter\n",
    "import math\n",
    "\n",
    "def cosine_similarity(sent1: str, sent2: str) -> float:\n",
    "    \"\"\"\n",
    "    Calculates cosine similarity between 2 sentences\n",
    "    \"\"\"\n",
    "    freq1 = Counter(split_stem(sent1))\n",
    "    freq2 = Counter(split_stem(sent2))\n",
    "\n",
    "    intersect = set(freq1.keys()).union(set(freq2.keys()))\n",
    "\n",
    "    vec1 = [freq1[word] for word in intersect]\n",
    "    vec2 = [freq2[word] for word in intersect]\n",
    "\n",
    "    dot = sum([v1 * v2 for v1, v2 in zip(vec1, vec2)])\n",
    "    \n",
    "    magnitude1 = math.sqrt(sum([v ** 2 for v in vec1]))\n",
    "    magnitude2 = math.sqrt(sum([v ** 2 for v in vec2]))\n",
    "\n",
    "    if magnitude1 == 0 or magnitude2 == 0:\n",
    "        return .0\n",
    "\n",
    "    cosine = dot / (magnitude1 * magnitude2)\n",
    "    \n",
    "    # Write your code here\n",
    "    return cosine"
   ]
  },
  {
   "cell_type": "code",
   "execution_count": 11,
   "id": "6e49df29",
   "metadata": {
    "execution": {
     "iopub.execute_input": "2025-02-26T10:38:44.223949Z",
     "iopub.status.busy": "2025-02-26T10:38:44.223562Z",
     "iopub.status.idle": "2025-02-26T10:38:44.229860Z",
     "shell.execute_reply": "2025-02-26T10:38:44.228475Z"
    },
    "papermill": {
     "duration": 0.017737,
     "end_time": "2025-02-26T10:38:44.231859",
     "exception": false,
     "start_time": "2025-02-26T10:38:44.214122",
     "status": "completed"
    },
    "tags": []
   },
   "outputs": [
    {
     "name": "stdout",
     "output_type": "stream",
     "text": [
      "0.6236095644623235\n"
     ]
    }
   ],
   "source": [
    "# mouse: 3, house: 1, claus: 2\n",
    "sent1 = \"mouse mouse house mouse claus claus\"\n",
    "# mouse: 2, house: 1, faust: 2 \n",
    "sent2 = \"faust house faust mouse mouse\"\n",
    "\n",
    "# cos_sim = (3*2 + 1*1) / [sqrt((3^2 + 1^2 2^2 ))*sqrt((2^2 + 1^2 + 2^2))] = 7 / 11.22 ~= 0.62\n",
    "print(cosine_similarity(sent1, sent2))"
   ]
  },
  {
   "cell_type": "code",
   "execution_count": 12,
   "id": "d7c0f93e",
   "metadata": {
    "execution": {
     "iopub.execute_input": "2025-02-26T10:38:44.251964Z",
     "iopub.status.busy": "2025-02-26T10:38:44.251557Z",
     "iopub.status.idle": "2025-02-26T10:38:44.259063Z",
     "shell.execute_reply": "2025-02-26T10:38:44.257946Z"
    },
    "papermill": {
     "duration": 0.019598,
     "end_time": "2025-02-26T10:38:44.261039",
     "exception": false,
     "start_time": "2025-02-26T10:38:44.241441",
     "status": "completed"
    },
    "tags": []
   },
   "outputs": [],
   "source": [
    "def cosine_lesk(context_sentence: str, ambiguous_word: str, pos: str = None) -> wn.synset:\n",
    "    \"\"\"\n",
    "    In line with vector space models, we can use cosine to calculate overlaps\n",
    "    instead of using raw overlap counts. Essentially, the idea of using\n",
    "    signatures (aka 'sense paraphrases') is lesk-like.\n",
    "\n",
    "    :param context_sentence: String, sentence or document.\n",
    "    :param ambiguous_word: String, a single word.\n",
    "    :param pos: String, one of 'a', 'r', 's', 'n', 'v', or None.\n",
    "    :return: A Synset for the estimated best sense.\n",
    "    \"\"\"\n",
    "\n",
    "    candidates = signatures(ambiguous_word)\n",
    "\n",
    "    max_overlap = 0.\n",
    "    best_synset = None\n",
    "    for synset, signature in candidates.items():\n",
    "        overlapped = cosine_similarity(\" \".join(signature), context_sentence)\n",
    "        if overlapped > max_overlap:\n",
    "            max_overlap = overlapped\n",
    "            best_synset = synset\n",
    "    \n",
    "    return best_synset"
   ]
  },
  {
   "cell_type": "code",
   "execution_count": 13,
   "id": "9cfc2dc9",
   "metadata": {
    "execution": {
     "iopub.execute_input": "2025-02-26T10:38:44.280036Z",
     "iopub.status.busy": "2025-02-26T10:38:44.279629Z",
     "iopub.status.idle": "2025-02-26T10:38:44.301082Z",
     "shell.execute_reply": "2025-02-26T10:38:44.299974Z"
    },
    "papermill": {
     "duration": 0.033591,
     "end_time": "2025-02-26T10:38:44.303141",
     "exception": false,
     "start_time": "2025-02-26T10:38:44.269550",
     "status": "completed"
    },
    "tags": []
   },
   "outputs": [],
   "source": [
    "cosine_lesk_definition = cosine_lesk('I went to the bank to deposit my money', 'bank').definition()\n",
    "assert (cosine_lesk_definition == 'a building in which the business of banking transacted')"
   ]
  },
  {
   "cell_type": "markdown",
   "id": "515226ad",
   "metadata": {
    "papermill": {
     "duration": 0.008535,
     "end_time": "2025-02-26T10:38:44.319902",
     "exception": false,
     "start_time": "2025-02-26T10:38:44.311367",
     "status": "completed"
    },
    "tags": []
   },
   "source": [
    "### 3.3 Adapted Lesk\n",
    "\n",
    "Another improvement of original Lesk algorithm is considering *wider* signature. As you know, we considered the words from definition as signature before. What if we include words from the neighbour relations of the synsets? That could be their  hypernymy and hyponymy, holonyms, meronyms and  troponym. What is the main idea of **adapted** Lesk algorithm. \n",
    "\n",
    "We don't ask you to collect all these relations from scratch - precomputed signatures contains in `signatures.pkl[\"adapted\"]`. Repeat the implementation of original Lesk with these signatures and compare their performance"
   ]
  },
  {
   "cell_type": "code",
   "execution_count": 14,
   "id": "5b3e6c7c",
   "metadata": {
    "execution": {
     "iopub.execute_input": "2025-02-26T10:38:44.338880Z",
     "iopub.status.busy": "2025-02-26T10:38:44.338476Z",
     "iopub.status.idle": "2025-02-26T10:38:44.345566Z",
     "shell.execute_reply": "2025-02-26T10:38:44.344241Z"
    },
    "papermill": {
     "duration": 0.018445,
     "end_time": "2025-02-26T10:38:44.347501",
     "exception": false,
     "start_time": "2025-02-26T10:38:44.329056",
     "status": "completed"
    },
    "tags": []
   },
   "outputs": [],
   "source": [
    "from nltk.tokenize import TreebankWordTokenizer\n",
    "from nltk import pos_tag\n",
    "\n",
    "\n",
    "def adapted_lesk(context_sentence: str, ambiguous_word: str,\n",
    "                pos: str = None) -> wn.synset:\n",
    "    \"\"\"\n",
    "    This function is the implementation of the Adapted Lesk algorithm,\n",
    "    described in Banerjee and Pederson (2002). It makes use of the lexical\n",
    "    items from semantically related senses within the wordnet\n",
    "    hierarchies and to generate more lexical items for each sense.\n",
    "    see www.d.umn.edu/~tpederse/Pubs/cicling2002-b.pdf\n",
    "\n",
    "    You don't need to apply window on every word to get its signature, as \n",
    "\n",
    "    \n",
    "    :param context_sentence: String, sentence or document.\n",
    "    :param ambiguous_word: String, a single word.\n",
    "    :param pos: String, one of 'a', 'r', 's', 'n', 'v', or None.\n",
    "    :return: A synset for the estimated best sense.\n",
    "    \"\"\"\n",
    "\n",
    "    candidates = signatures(ambiguous_word, mode= \"adapted\")\n",
    "\n",
    "    max_overlap = 0\n",
    "    best_synset = list(candidates.keys())[0]\n",
    "    for synset, signature in candidates.items():\n",
    "        overlapped = overlap(signature, context_sentence)\n",
    "        if overlapped > max_overlap:\n",
    "            max_overlap = overlapped\n",
    "            best_synset = synset\n",
    "    \n",
    "    return best_synset\n"
   ]
  },
  {
   "cell_type": "code",
   "execution_count": 15,
   "id": "d7561ed1",
   "metadata": {
    "execution": {
     "iopub.execute_input": "2025-02-26T10:38:44.365346Z",
     "iopub.status.busy": "2025-02-26T10:38:44.364998Z",
     "iopub.status.idle": "2025-02-26T10:38:44.381033Z",
     "shell.execute_reply": "2025-02-26T10:38:44.379980Z"
    },
    "papermill": {
     "duration": 0.027163,
     "end_time": "2025-02-26T10:38:44.383040",
     "exception": false,
     "start_time": "2025-02-26T10:38:44.355877",
     "status": "completed"
    },
    "tags": []
   },
   "outputs": [],
   "source": [
    "adapted_lesk_definition = adapted_lesk('I went to the bank to deposit my money', 'bank').definition()\n",
    "assert (adapted_lesk_definition == 'a financial institution that accepts deposits and channels the money into lending activities')"
   ]
  },
  {
   "cell_type": "markdown",
   "id": "cbd95cb4",
   "metadata": {
    "papermill": {
     "duration": 0.016746,
     "end_time": "2025-02-26T10:38:44.408004",
     "exception": false,
     "start_time": "2025-02-26T10:38:44.391258",
     "status": "completed"
    },
    "tags": []
   },
   "source": [
    "### 3.4 Competition\n",
    "\n",
    "As a competition, you're asked to return a definition from WordNet dictionary for an ambigous word with respect to its context. You're given only raw sentences (with punctuation and other junk) and the target word. `val.csv` contains some examples on which you can test the performance of your solution.\n",
    "\n",
    "**Note:** You can use only modifications of Lesk algorithm on this competition, i.e. BERT-based WSD solvers are allowed. However, you can use PoS taggers from other libraries to improve the performance of the implementation."
   ]
  },
  {
   "cell_type": "code",
   "execution_count": 16,
   "id": "6abf946d",
   "metadata": {
    "execution": {
     "iopub.execute_input": "2025-02-26T10:38:44.425764Z",
     "iopub.status.busy": "2025-02-26T10:38:44.425358Z",
     "iopub.status.idle": "2025-02-26T10:38:55.088483Z",
     "shell.execute_reply": "2025-02-26T10:38:55.087016Z"
    },
    "papermill": {
     "duration": 10.674669,
     "end_time": "2025-02-26T10:38:55.090660",
     "exception": false,
     "start_time": "2025-02-26T10:38:44.415991",
     "status": "completed"
    },
    "tags": []
   },
   "outputs": [
    {
     "name": "stdout",
     "output_type": "stream",
     "text": [
      "Collecting Levenshtein\r\n",
      "  Downloading levenshtein-0.26.1-cp310-cp310-manylinux_2_17_x86_64.manylinux2014_x86_64.whl.metadata (3.2 kB)\r\n",
      "Collecting rapidfuzz<4.0.0,>=3.9.0 (from Levenshtein)\r\n",
      "  Downloading rapidfuzz-3.12.1-cp310-cp310-manylinux_2_17_x86_64.manylinux2014_x86_64.whl.metadata (11 kB)\r\n",
      "Downloading levenshtein-0.26.1-cp310-cp310-manylinux_2_17_x86_64.manylinux2014_x86_64.whl (162 kB)\r\n",
      "\u001b[2K   \u001b[90m━━━━━━━━━━━━━━━━━━━━━━━━━━━━━━━━━━━━━━━━\u001b[0m \u001b[32m162.6/162.6 kB\u001b[0m \u001b[31m6.7 MB/s\u001b[0m eta \u001b[36m0:00:00\u001b[0m\r\n",
      "\u001b[?25hDownloading rapidfuzz-3.12.1-cp310-cp310-manylinux_2_17_x86_64.manylinux2014_x86_64.whl (3.1 MB)\r\n",
      "\u001b[2K   \u001b[90m━━━━━━━━━━━━━━━━━━━━━━━━━━━━━━━━━━━━━━━━\u001b[0m \u001b[32m3.1/3.1 MB\u001b[0m \u001b[31m56.8 MB/s\u001b[0m eta \u001b[36m0:00:00\u001b[0m\r\n",
      "\u001b[?25hInstalling collected packages: rapidfuzz, Levenshtein\r\n",
      "Successfully installed Levenshtein-0.26.1 rapidfuzz-3.12.1\r\n"
     ]
    }
   ],
   "source": [
    "!pip install Levenshtein"
   ]
  },
  {
   "cell_type": "code",
   "execution_count": 17,
   "id": "e21ab6e7",
   "metadata": {
    "execution": {
     "iopub.execute_input": "2025-02-26T10:38:55.109953Z",
     "iopub.status.busy": "2025-02-26T10:38:55.109545Z",
     "iopub.status.idle": "2025-02-26T10:38:55.176846Z",
     "shell.execute_reply": "2025-02-26T10:38:55.175789Z"
    },
    "papermill": {
     "duration": 0.078658,
     "end_time": "2025-02-26T10:38:55.178583",
     "exception": false,
     "start_time": "2025-02-26T10:38:55.099925",
     "status": "completed"
    },
    "tags": []
   },
   "outputs": [
    {
     "data": {
      "text/html": [
       "<div>\n",
       "<style scoped>\n",
       "    .dataframe tbody tr th:only-of-type {\n",
       "        vertical-align: middle;\n",
       "    }\n",
       "\n",
       "    .dataframe tbody tr th {\n",
       "        vertical-align: top;\n",
       "    }\n",
       "\n",
       "    .dataframe thead th {\n",
       "        text-align: right;\n",
       "    }\n",
       "</style>\n",
       "<table border=\"1\" class=\"dataframe\">\n",
       "  <thead>\n",
       "    <tr style=\"text-align: right;\">\n",
       "      <th></th>\n",
       "      <th>sentence</th>\n",
       "      <th>ambigous word</th>\n",
       "      <th>definition</th>\n",
       "    </tr>\n",
       "  </thead>\n",
       "  <tbody>\n",
       "    <tr>\n",
       "      <th>0</th>\n",
       "      <td>joan beck is right on target when she says tha...</td>\n",
       "      <td>hard</td>\n",
       "      <td>dispassionate</td>\n",
       "    </tr>\n",
       "    <tr>\n",
       "      <th>1</th>\n",
       "      <td>sugar refiners attracted buying interest after...</td>\n",
       "      <td>interest</td>\n",
       "      <td>a sense of concern with and curiosity about so...</td>\n",
       "    </tr>\n",
       "    <tr>\n",
       "      <th>2</th>\n",
       "      <td>signs of a weakening economy, such as friday '...</td>\n",
       "      <td>interest</td>\n",
       "      <td>a fixed charge for borrowing money; usually a ...</td>\n",
       "    </tr>\n",
       "    <tr>\n",
       "      <th>3</th>\n",
       "      <td>stir in the bread crumbs and season to taste w...</td>\n",
       "      <td>serve</td>\n",
       "      <td>provide (usually but not necessarily food)</td>\n",
       "    </tr>\n",
       "    <tr>\n",
       "      <th>4</th>\n",
       "      <td>tom fast, of scotts valley, stepped out of the...</td>\n",
       "      <td>hard</td>\n",
       "      <td>dispassionate</td>\n",
       "    </tr>\n",
       "  </tbody>\n",
       "</table>\n",
       "</div>"
      ],
      "text/plain": [
       "                                            sentence ambigous word  \\\n",
       "0  joan beck is right on target when she says tha...          hard   \n",
       "1  sugar refiners attracted buying interest after...      interest   \n",
       "2  signs of a weakening economy, such as friday '...      interest   \n",
       "3  stir in the bread crumbs and season to taste w...         serve   \n",
       "4  tom fast, of scotts valley, stepped out of the...          hard   \n",
       "\n",
       "                                          definition  \n",
       "0                                      dispassionate  \n",
       "1  a sense of concern with and curiosity about so...  \n",
       "2  a fixed charge for borrowing money; usually a ...  \n",
       "3         provide (usually but not necessarily food)  \n",
       "4                                      dispassionate  "
      ]
     },
     "execution_count": 17,
     "metadata": {},
     "output_type": "execute_result"
    }
   ],
   "source": [
    "import pandas as pd\n",
    "from Levenshtein import distance\n",
    "\n",
    "df_val = pd.read_csv('/kaggle/input/nlp-lab-6-word-sense-disambiguation-wsd/val.csv')\n",
    "\n",
    "df_val.head()"
   ]
  },
  {
   "cell_type": "code",
   "execution_count": 18,
   "id": "416a6c3b",
   "metadata": {
    "execution": {
     "iopub.execute_input": "2025-02-26T10:38:55.197912Z",
     "iopub.status.busy": "2025-02-26T10:38:55.197503Z",
     "iopub.status.idle": "2025-02-26T10:38:55.926246Z",
     "shell.execute_reply": "2025-02-26T10:38:55.924820Z"
    },
    "papermill": {
     "duration": 0.740568,
     "end_time": "2025-02-26T10:38:55.928217",
     "exception": false,
     "start_time": "2025-02-26T10:38:55.187649",
     "status": "completed"
    },
    "tags": []
   },
   "outputs": [
    {
     "name": "stdout",
     "output_type": "stream",
     "text": [
      "Average Levenshtein distance: 41.84444444444444\n"
     ]
    }
   ],
   "source": [
    "total_distance = 0.\n",
    "\n",
    "for _, row in df_val.iterrows():\n",
    "    pred = adapted_lesk(row['sentence'], row['ambigous word']).definition()\n",
    "    gold = row['definition']\n",
    "    total_distance += distance(pred, gold)\n",
    "\n",
    "print(\"Average Levenshtein distance:\", total_distance / len(df_val))"
   ]
  },
  {
   "cell_type": "code",
   "execution_count": 19,
   "id": "f5bf21cb",
   "metadata": {
    "execution": {
     "iopub.execute_input": "2025-02-26T10:38:55.947052Z",
     "iopub.status.busy": "2025-02-26T10:38:55.946631Z",
     "iopub.status.idle": "2025-02-26T10:39:00.038687Z",
     "shell.execute_reply": "2025-02-26T10:39:00.037409Z"
    },
    "papermill": {
     "duration": 4.103632,
     "end_time": "2025-02-26T10:39:00.040768",
     "exception": false,
     "start_time": "2025-02-26T10:38:55.937136",
     "status": "completed"
    },
    "tags": []
   },
   "outputs": [],
   "source": [
    "df_test = pd.read_csv(\"/kaggle/input/nlp-lab-6-word-sense-disambiguation-wsd/test.csv\")\n",
    "pred = []\n",
    "for _, row in df_test.iterrows():\n",
    "    prediction = adapted_lesk(row['sentence'], row[\"ambigous word\"]).definition()\n",
    "    pred.append(prediction)"
   ]
  },
  {
   "cell_type": "code",
   "execution_count": 20,
   "id": "36eed47f",
   "metadata": {
    "execution": {
     "iopub.execute_input": "2025-02-26T10:39:00.060022Z",
     "iopub.status.busy": "2025-02-26T10:39:00.059605Z",
     "iopub.status.idle": "2025-02-26T10:39:00.080769Z",
     "shell.execute_reply": "2025-02-26T10:39:00.079556Z"
    },
    "papermill": {
     "duration": 0.032636,
     "end_time": "2025-02-26T10:39:00.082628",
     "exception": false,
     "start_time": "2025-02-26T10:39:00.049992",
     "status": "completed"
    },
    "tags": []
   },
   "outputs": [],
   "source": [
    "df_test[\"prediction\"] = pred\n",
    "df_test = df_test.drop([\"ambigous word\", \"sentence\"],axis=1)\n",
    "df_test.to_csv(\"submission.csv\",index_label=\"ID\", index=False)"
   ]
  },
  {
   "cell_type": "code",
   "execution_count": null,
   "id": "24a5548a",
   "metadata": {
    "papermill": {
     "duration": 0.008645,
     "end_time": "2025-02-26T10:39:00.100272",
     "exception": false,
     "start_time": "2025-02-26T10:39:00.091627",
     "status": "completed"
    },
    "tags": []
   },
   "outputs": [],
   "source": []
  }
 ],
 "metadata": {
  "kaggle": {
   "accelerator": "none",
   "dataSources": [
    {
     "databundleVersionId": 11213492,
     "sourceId": 94133,
     "sourceType": "competition"
    },
    {
     "datasetId": 6744926,
     "sourceId": 10858386,
     "sourceType": "datasetVersion"
    }
   ],
   "dockerImageVersionId": 30918,
   "isGpuEnabled": false,
   "isInternetEnabled": true,
   "language": "python",
   "sourceType": "notebook"
  },
  "kernelspec": {
   "display_name": "Python 3",
   "language": "python",
   "name": "python3"
  },
  "language_info": {
   "codemirror_mode": {
    "name": "ipython",
    "version": 3
   },
   "file_extension": ".py",
   "mimetype": "text/x-python",
   "name": "python",
   "nbconvert_exporter": "python",
   "pygments_lexer": "ipython3",
   "version": "3.10.12"
  },
  "papermill": {
   "default_parameters": {},
   "duration": 53.634943,
   "end_time": "2025-02-26T10:39:03.381015",
   "environment_variables": {},
   "exception": null,
   "input_path": "__notebook__.ipynb",
   "output_path": "__notebook__.ipynb",
   "parameters": {},
   "start_time": "2025-02-26T10:38:09.746072",
   "version": "2.6.0"
  }
 },
 "nbformat": 4,
 "nbformat_minor": 5
}
