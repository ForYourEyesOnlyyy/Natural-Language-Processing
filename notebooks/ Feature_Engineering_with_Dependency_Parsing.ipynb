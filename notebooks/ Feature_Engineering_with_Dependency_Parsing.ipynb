{
 "cells": [
  {
   "cell_type": "markdown",
   "id": "a53b7be6",
   "metadata": {
    "papermill": {
     "duration": 0.007402,
     "end_time": "2025-02-20T12:40:34.972305",
     "exception": false,
     "start_time": "2025-02-20T12:40:34.964903",
     "status": "completed"
    },
    "tags": []
   },
   "source": [
    "# Natural Language Processing. Lab 5. Feature Engineering with Parsing Competition."
   ]
  },
  {
   "cell_type": "markdown",
   "id": "012a16ce",
   "metadata": {
    "papermill": {
     "duration": 0.006262,
     "end_time": "2025-02-20T12:40:34.985521",
     "exception": false,
     "start_time": "2025-02-20T12:40:34.979259",
     "status": "completed"
    },
    "tags": []
   },
   "source": [
    "## Feature Engineering with Parsing"
   ]
  },
  {
   "cell_type": "markdown",
   "id": "e8f68eb8",
   "metadata": {
    "papermill": {
     "duration": 0.006166,
     "end_time": "2025-02-20T12:40:34.998303",
     "exception": false,
     "start_time": "2025-02-20T12:40:34.992137",
     "status": "completed"
    },
    "tags": []
   },
   "source": [
    "Constituency and dependency parsing could be a useful tool for creating text features that could be used for text classification. For example, one may use constituency parsing to obtain phrases to pass to the text classifier. Or, in case of dependency parsing, one may filter the words by the types of relationships."
   ]
  },
  {
   "cell_type": "markdown",
   "id": "4f651735",
   "metadata": {
    "papermill": {
     "duration": 0.007707,
     "end_time": "2025-02-20T12:40:35.012560",
     "exception": false,
     "start_time": "2025-02-20T12:40:35.004853",
     "status": "completed"
    },
    "tags": []
   },
   "source": [
    "### Data\n"
   ]
  },
  {
   "cell_type": "code",
   "execution_count": 1,
   "id": "cc43cfe4",
   "metadata": {
    "_cell_guid": "b1076dfc-b9ad-4769-8c92-a6c4dae69d19",
    "_uuid": "8f2839f25d086af736a60e9eeb907d3b93b6e0e5",
    "execution": {
     "iopub.execute_input": "2025-02-20T12:40:35.027191Z",
     "iopub.status.busy": "2025-02-20T12:40:35.026776Z",
     "iopub.status.idle": "2025-02-20T12:40:36.115780Z",
     "shell.execute_reply": "2025-02-20T12:40:36.114709Z"
    },
    "papermill": {
     "duration": 1.09834,
     "end_time": "2025-02-20T12:40:36.117611",
     "exception": false,
     "start_time": "2025-02-20T12:40:35.019271",
     "status": "completed"
    },
    "tags": []
   },
   "outputs": [
    {
     "data": {
      "text/html": [
       "<div>\n",
       "<style scoped>\n",
       "    .dataframe tbody tr th:only-of-type {\n",
       "        vertical-align: middle;\n",
       "    }\n",
       "\n",
       "    .dataframe tbody tr th {\n",
       "        vertical-align: top;\n",
       "    }\n",
       "\n",
       "    .dataframe thead th {\n",
       "        text-align: right;\n",
       "    }\n",
       "</style>\n",
       "<table border=\"1\" class=\"dataframe\">\n",
       "  <thead>\n",
       "    <tr style=\"text-align: right;\">\n",
       "      <th></th>\n",
       "      <th>id</th>\n",
       "      <th>medical_specialty</th>\n",
       "      <th>transcription</th>\n",
       "    </tr>\n",
       "  </thead>\n",
       "  <tbody>\n",
       "    <tr>\n",
       "      <th>0</th>\n",
       "      <td>0</td>\n",
       "      <td>Cardiovascular / Pulmonary</td>\n",
       "      <td>PREOPERATIVE DIAGNOSIS: , Persistent pneumonia...</td>\n",
       "    </tr>\n",
       "    <tr>\n",
       "      <th>1</th>\n",
       "      <td>1</td>\n",
       "      <td>General Medicine</td>\n",
       "      <td>REASON FOR VISIT: , Mr. ABC is a 30-year-old m...</td>\n",
       "    </tr>\n",
       "    <tr>\n",
       "      <th>2</th>\n",
       "      <td>2</td>\n",
       "      <td>Cardiovascular / Pulmonary</td>\n",
       "      <td>REASON FOR CONSULTATION: , Mesothelioma.,HISTO...</td>\n",
       "    </tr>\n",
       "    <tr>\n",
       "      <th>3</th>\n",
       "      <td>3</td>\n",
       "      <td>General Medicine</td>\n",
       "      <td>DISCHARGE DIAGNOSES:,1. Chronic obstructive pu...</td>\n",
       "    </tr>\n",
       "    <tr>\n",
       "      <th>4</th>\n",
       "      <td>4</td>\n",
       "      <td>Cardiovascular / Pulmonary</td>\n",
       "      <td>CHIEF COMPLAINT:, The patient complains of che...</td>\n",
       "    </tr>\n",
       "  </tbody>\n",
       "</table>\n",
       "</div>"
      ],
      "text/plain": [
       "   id            medical_specialty  \\\n",
       "0   0   Cardiovascular / Pulmonary   \n",
       "1   1             General Medicine   \n",
       "2   2   Cardiovascular / Pulmonary   \n",
       "3   3             General Medicine   \n",
       "4   4   Cardiovascular / Pulmonary   \n",
       "\n",
       "                                       transcription  \n",
       "0  PREOPERATIVE DIAGNOSIS: , Persistent pneumonia...  \n",
       "1  REASON FOR VISIT: , Mr. ABC is a 30-year-old m...  \n",
       "2  REASON FOR CONSULTATION: , Mesothelioma.,HISTO...  \n",
       "3  DISCHARGE DIAGNOSES:,1. Chronic obstructive pu...  \n",
       "4  CHIEF COMPLAINT:, The patient complains of che...  "
      ]
     },
     "execution_count": 1,
     "metadata": {},
     "output_type": "execute_result"
    }
   ],
   "source": [
    "import pandas as pd\n",
    "\n",
    "df = pd.read_csv(\"/kaggle/input/nlp-week-5-feature-engineering-using-parsing/train.csv\")\n",
    "df.head()"
   ]
  },
  {
   "cell_type": "code",
   "execution_count": 2,
   "id": "7f3fe2c4",
   "metadata": {
    "execution": {
     "iopub.execute_input": "2025-02-20T12:40:36.133011Z",
     "iopub.status.busy": "2025-02-20T12:40:36.132619Z",
     "iopub.status.idle": "2025-02-20T12:40:36.143312Z",
     "shell.execute_reply": "2025-02-20T12:40:36.142320Z"
    },
    "papermill": {
     "duration": 0.020205,
     "end_time": "2025-02-20T12:40:36.144901",
     "exception": false,
     "start_time": "2025-02-20T12:40:36.124696",
     "status": "completed"
    },
    "tags": []
   },
   "outputs": [
    {
     "data": {
      "text/plain": [
       "array(['Cardiovascular / Pulmonary', 'General Medicine', 'Surgery',\n",
       "       'Gastroenterology', 'Consult - History and Phy.'], dtype=object)"
      ]
     },
     "execution_count": 2,
     "metadata": {},
     "output_type": "execute_result"
    }
   ],
   "source": [
    "df['medical_specialty'] = df['medical_specialty'].apply(lambda x: x.strip())\n",
    "df['medical_specialty'].unique()"
   ]
  },
  {
   "cell_type": "code",
   "execution_count": 3,
   "id": "97e764df",
   "metadata": {
    "execution": {
     "iopub.execute_input": "2025-02-20T12:40:36.160570Z",
     "iopub.status.busy": "2025-02-20T12:40:36.160240Z",
     "iopub.status.idle": "2025-02-20T12:40:36.166528Z",
     "shell.execute_reply": "2025-02-20T12:40:36.165478Z"
    },
    "papermill": {
     "duration": 0.015751,
     "end_time": "2025-02-20T12:40:36.168024",
     "exception": false,
     "start_time": "2025-02-20T12:40:36.152273",
     "status": "completed"
    },
    "tags": []
   },
   "outputs": [
    {
     "data": {
      "text/plain": [
       "{'Cardiovascular / Pulmonary': 0,\n",
       " 'Consult - History and Phy.': 1,\n",
       " 'Gastroenterology': 2,\n",
       " 'General Medicine': 3,\n",
       " 'Surgery': 4}"
      ]
     },
     "execution_count": 3,
     "metadata": {},
     "output_type": "execute_result"
    }
   ],
   "source": [
    "class_mapping = {\n",
    "    0: \"Cardiovascular / Pulmonary\",\n",
    "    1: \"Consult - History and Phy.\",\n",
    "    2: \"Gastroenterology\",\n",
    "    3: \"General Medicine\",\n",
    "    4: \"Surgery\"\n",
    "}\n",
    "\n",
    "inverse_class_mapping = {v: k for k, v in class_mapping.items()}\n",
    "\n",
    "inverse_class_mapping"
   ]
  },
  {
   "cell_type": "code",
   "execution_count": 4,
   "id": "f48a5002",
   "metadata": {
    "execution": {
     "iopub.execute_input": "2025-02-20T12:40:36.183513Z",
     "iopub.status.busy": "2025-02-20T12:40:36.183135Z",
     "iopub.status.idle": "2025-02-20T12:40:36.194469Z",
     "shell.execute_reply": "2025-02-20T12:40:36.193333Z"
    },
    "papermill": {
     "duration": 0.020855,
     "end_time": "2025-02-20T12:40:36.196064",
     "exception": false,
     "start_time": "2025-02-20T12:40:36.175209",
     "status": "completed"
    },
    "tags": []
   },
   "outputs": [
    {
     "data": {
      "text/html": [
       "<div>\n",
       "<style scoped>\n",
       "    .dataframe tbody tr th:only-of-type {\n",
       "        vertical-align: middle;\n",
       "    }\n",
       "\n",
       "    .dataframe tbody tr th {\n",
       "        vertical-align: top;\n",
       "    }\n",
       "\n",
       "    .dataframe thead th {\n",
       "        text-align: right;\n",
       "    }\n",
       "</style>\n",
       "<table border=\"1\" class=\"dataframe\">\n",
       "  <thead>\n",
       "    <tr style=\"text-align: right;\">\n",
       "      <th></th>\n",
       "      <th>id</th>\n",
       "      <th>medical_specialty</th>\n",
       "      <th>transcription</th>\n",
       "    </tr>\n",
       "  </thead>\n",
       "  <tbody>\n",
       "    <tr>\n",
       "      <th>0</th>\n",
       "      <td>0</td>\n",
       "      <td>0</td>\n",
       "      <td>PREOPERATIVE DIAGNOSIS: , Persistent pneumonia...</td>\n",
       "    </tr>\n",
       "    <tr>\n",
       "      <th>1</th>\n",
       "      <td>1</td>\n",
       "      <td>3</td>\n",
       "      <td>REASON FOR VISIT: , Mr. ABC is a 30-year-old m...</td>\n",
       "    </tr>\n",
       "    <tr>\n",
       "      <th>2</th>\n",
       "      <td>2</td>\n",
       "      <td>0</td>\n",
       "      <td>REASON FOR CONSULTATION: , Mesothelioma.,HISTO...</td>\n",
       "    </tr>\n",
       "    <tr>\n",
       "      <th>3</th>\n",
       "      <td>3</td>\n",
       "      <td>3</td>\n",
       "      <td>DISCHARGE DIAGNOSES:,1. Chronic obstructive pu...</td>\n",
       "    </tr>\n",
       "    <tr>\n",
       "      <th>4</th>\n",
       "      <td>4</td>\n",
       "      <td>0</td>\n",
       "      <td>CHIEF COMPLAINT:, The patient complains of che...</td>\n",
       "    </tr>\n",
       "  </tbody>\n",
       "</table>\n",
       "</div>"
      ],
      "text/plain": [
       "   id  medical_specialty                                      transcription\n",
       "0   0                  0  PREOPERATIVE DIAGNOSIS: , Persistent pneumonia...\n",
       "1   1                  3  REASON FOR VISIT: , Mr. ABC is a 30-year-old m...\n",
       "2   2                  0  REASON FOR CONSULTATION: , Mesothelioma.,HISTO...\n",
       "3   3                  3  DISCHARGE DIAGNOSES:,1. Chronic obstructive pu...\n",
       "4   4                  0  CHIEF COMPLAINT:, The patient complains of che..."
      ]
     },
     "execution_count": 4,
     "metadata": {},
     "output_type": "execute_result"
    }
   ],
   "source": [
    "df['medical_specialty'] = df['medical_specialty'].apply(lambda x: inverse_class_mapping[x])\n",
    "df.head()"
   ]
  },
  {
   "cell_type": "code",
   "execution_count": 5,
   "id": "e368f9d3",
   "metadata": {
    "execution": {
     "iopub.execute_input": "2025-02-20T12:40:36.212593Z",
     "iopub.status.busy": "2025-02-20T12:40:36.212271Z",
     "iopub.status.idle": "2025-02-20T12:40:36.219432Z",
     "shell.execute_reply": "2025-02-20T12:40:36.218522Z"
    },
    "papermill": {
     "duration": 0.016859,
     "end_time": "2025-02-20T12:40:36.220865",
     "exception": false,
     "start_time": "2025-02-20T12:40:36.204006",
     "status": "completed"
    },
    "tags": []
   },
   "outputs": [
    {
     "data": {
      "text/plain": [
       "array([0, 3, 4, 2, 1])"
      ]
     },
     "execution_count": 5,
     "metadata": {},
     "output_type": "execute_result"
    }
   ],
   "source": [
    "df['medical_specialty'].unique()"
   ]
  },
  {
   "cell_type": "code",
   "execution_count": 6,
   "id": "c87050f5",
   "metadata": {
    "execution": {
     "iopub.execute_input": "2025-02-20T12:40:36.236751Z",
     "iopub.status.busy": "2025-02-20T12:40:36.236427Z",
     "iopub.status.idle": "2025-02-20T12:40:36.242321Z",
     "shell.execute_reply": "2025-02-20T12:40:36.241145Z"
    },
    "papermill": {
     "duration": 0.015598,
     "end_time": "2025-02-20T12:40:36.243882",
     "exception": false,
     "start_time": "2025-02-20T12:40:36.228284",
     "status": "completed"
    },
    "tags": []
   },
   "outputs": [
    {
     "data": {
      "text/plain": [
       "\"HISTORY: , The patient is a 15-year-old female who was seen in consultation at the request of Dr. X on 05/15/2008 regarding enlarged tonsils.  The patient has been having difficult time with having two to three bouts of tonsillitis this year.  She does average about four bouts of tonsillitis per year for the past several years.  She notes that throat pain and fever with the actual infections.  She is having no difficulty with swallowing.  She does have loud snoring, though there have been no witnessed observed sleep apnea episodes.  She is a mouth breather at nighttime, however.  The patient does feel that she has a cold at today's visit.  She has had tonsil problems again for many years.  She does note a history of intermittent hoarseness as well.  This is particularly prominent with the current cold that she has had.  She had been seen by Dr. Y in Muskegon who had also recommended a tonsillectomy, but she reports she would like to get the surgery done here in the Ludington area as this is much closer to home.  For the two tonsillitis, she is on antibiotics again on an average about four times per year.  They do seem to help with the infections, but they tend to continue to recur.  The patient presents today for further workup, evaluation, and treatment of the above-listed symptoms.,REVIEW OF SYSTEMS:,ALLERGY/IMMUNOLOGIC:  Negative.,CARDIOVASCULAR:  Negative.,PULMONARY:  Negative.,GASTROINTESTINAL:  Negative.,GENITOURINARY:  Negative.,NEUROLOGIC:  Negative.,VISUAL:  Negative.,DERMATOLOGIC:  Negative.,ENDOCRINE:  Negative.,MUSCULOSKELETAL:  Negative.,CONSTITUTIONAL:  Negative.,PAST SURGICAL HISTORY: , Pertinent for previous cholecystectomy.,FAMILY HISTORY:,  No family history of bleeding disorder.  She does have a sister with a current ear infection.  There is a family history of cancer, diabetes, heart disease, and hypertension.,CURRENT MEDICATIONS: , None.,ALLERGIES: , She has no known drug allergies.,SOCIAL HISTORY: , The patient is single.  She is a student.  Denies tobacco or alcohol use.,PHYSICAL EXAMINATION: ,VITAL SIGNS:  Pulse is 80 and regular, temperature 98.4, weight is 184 pounds.,GENERAL:  The patient is an alert, cooperative, obese, 15-year-old female, with a normal-sounding voice and good memory.,HEAD & FACE:  Inspected with no scars, lesions or masses noted.  Sinuses palpated and are normal.  Salivary glands also palpated and are normal with no masses noted.  The patient also has full facial function.,CARDIOVASCULAR:  Heart regular rate and rhythm without murmur.,RESPIRATORY:  Lungs auscultated and noted to be clear to auscultation bilaterally with no wheezing or rubs and normal respiratory effort.,EYES:  Extraocular muscles were tested and within normal limits.,EARS:  The external ears are normal.  The ear canals are clean and dry.  The drums are intact and mobile.  Hearing is grossly normal.  Tuning fork examination with normal speech reception thresholds noted.,NASAL:  She has clear drainage, large inferior turbinates, no erythema.,ORAL:  Her tongue, lip, floor of mouth are noted to be normal.  Oropharynx does reveal very large tonsils measuring 3+/4+; they were exophytic.  Mirror examination of the larynx reveals some mild edema of the larynx at this time.  The nasopharynx could not be visualized on mirror exam today.,NECK:  Obese, supple.  Trachea is midline.  Thyroid is nonpalpable.,NEUROLOGIC:  Cranial nerves II through XII evaluated and noted to be normal.  Patient oriented times 3.,DERMATOLOGIC:  Evaluation reveals no masses or lesions.  Skin turgor is normal.,IMPRESSION: , ,1.  Chronic adenotonsillitis with adenotonsillar hypertrophy.,2.  Upper respiratory tract infection with mild acute laryngitis.,3.  Obesity.,RECOMMENDATIONS: , We are going to go ahead and proceed with an adenotonsillectomy.  All risks, benefits, and alternatives regarding the surgery have been reviewed in detail with the patient and her family.  This includes risk of bleeding, infection, scarring, regrowth of the adenotonsillar tissue, need for further surgery, persistent sore throat, voice changes, etc.  The parents are agreeable to the planned procedure, and we will schedule this accordingly at Memorial Medical Center here within the next few weeks.  We will make further recommendations afterwards.\""
      ]
     },
     "execution_count": 6,
     "metadata": {},
     "output_type": "execute_result"
    }
   ],
   "source": [
    "df['transcription'][99]"
   ]
  },
  {
   "cell_type": "code",
   "execution_count": 7,
   "id": "7cbb32d0",
   "metadata": {
    "execution": {
     "iopub.execute_input": "2025-02-20T12:40:36.260399Z",
     "iopub.status.busy": "2025-02-20T12:40:36.260033Z",
     "iopub.status.idle": "2025-02-20T12:40:36.768187Z",
     "shell.execute_reply": "2025-02-20T12:40:36.767044Z"
    },
    "papermill": {
     "duration": 0.518408,
     "end_time": "2025-02-20T12:40:36.770163",
     "exception": false,
     "start_time": "2025-02-20T12:40:36.251755",
     "status": "completed"
    },
    "tags": []
   },
   "outputs": [
    {
     "data": {
      "text/plain": [
       "(2332.0, 1.0, 476.18797758532855, 299.2589859824925)"
      ]
     },
     "execution_count": 7,
     "metadata": {},
     "output_type": "execute_result"
    }
   ],
   "source": [
    "df['transcription'].str.split().str.len().max(), df['transcription'].str.split().str.len().min(), df['transcription'].str.split().str.len().mean(), df['transcription'].str.split().str.len().std()"
   ]
  },
  {
   "cell_type": "code",
   "execution_count": 8,
   "id": "bdd88ab7",
   "metadata": {
    "execution": {
     "iopub.execute_input": "2025-02-20T12:40:36.790391Z",
     "iopub.status.busy": "2025-02-20T12:40:36.790045Z",
     "iopub.status.idle": "2025-02-20T12:40:36.798782Z",
     "shell.execute_reply": "2025-02-20T12:40:36.797769Z"
    },
    "papermill": {
     "duration": 0.020211,
     "end_time": "2025-02-20T12:40:36.800404",
     "exception": false,
     "start_time": "2025-02-20T12:40:36.780193",
     "status": "completed"
    },
    "tags": []
   },
   "outputs": [
    {
     "data": {
      "text/plain": [
       "id                    0\n",
       "medical_specialty     0\n",
       "transcription        18\n",
       "dtype: int64"
      ]
     },
     "execution_count": 8,
     "metadata": {},
     "output_type": "execute_result"
    }
   ],
   "source": [
    "df.isna().sum()"
   ]
  },
  {
   "cell_type": "code",
   "execution_count": 9,
   "id": "8224392a",
   "metadata": {
    "execution": {
     "iopub.execute_input": "2025-02-20T12:40:36.817519Z",
     "iopub.status.busy": "2025-02-20T12:40:36.817192Z",
     "iopub.status.idle": "2025-02-20T12:40:36.827903Z",
     "shell.execute_reply": "2025-02-20T12:40:36.827030Z"
    },
    "papermill": {
     "duration": 0.021255,
     "end_time": "2025-02-20T12:40:36.829691",
     "exception": false,
     "start_time": "2025-02-20T12:40:36.808436",
     "status": "completed"
    },
    "tags": []
   },
   "outputs": [],
   "source": [
    "df.dropna(inplace=True)"
   ]
  },
  {
   "cell_type": "code",
   "execution_count": 10,
   "id": "e22a696b",
   "metadata": {
    "execution": {
     "iopub.execute_input": "2025-02-20T12:40:36.846507Z",
     "iopub.status.busy": "2025-02-20T12:40:36.846133Z",
     "iopub.status.idle": "2025-02-20T12:40:36.852522Z",
     "shell.execute_reply": "2025-02-20T12:40:36.851430Z"
    },
    "papermill": {
     "duration": 0.016564,
     "end_time": "2025-02-20T12:40:36.854154",
     "exception": false,
     "start_time": "2025-02-20T12:40:36.837590",
     "status": "completed"
    },
    "tags": []
   },
   "outputs": [
    {
     "data": {
      "text/plain": [
       "array([0, 3, 4, 2, 1])"
      ]
     },
     "execution_count": 10,
     "metadata": {},
     "output_type": "execute_result"
    }
   ],
   "source": [
    "df['medical_specialty'].unique()"
   ]
  },
  {
   "cell_type": "markdown",
   "id": "baccf3fe",
   "metadata": {
    "papermill": {
     "duration": 0.007546,
     "end_time": "2025-02-20T12:40:36.869276",
     "exception": false,
     "start_time": "2025-02-20T12:40:36.861730",
     "status": "completed"
    },
    "tags": []
   },
   "source": [
    "### Dependency parsing\n"
   ]
  },
  {
   "cell_type": "code",
   "execution_count": 11,
   "id": "324aa8c3",
   "metadata": {
    "execution": {
     "iopub.execute_input": "2025-02-20T12:40:36.886077Z",
     "iopub.status.busy": "2025-02-20T12:40:36.885691Z",
     "iopub.status.idle": "2025-02-20T12:40:42.319565Z",
     "shell.execute_reply": "2025-02-20T12:40:42.318209Z"
    },
    "papermill": {
     "duration": 5.444301,
     "end_time": "2025-02-20T12:40:42.321321",
     "exception": false,
     "start_time": "2025-02-20T12:40:36.877020",
     "status": "completed"
    },
    "tags": []
   },
   "outputs": [
    {
     "name": "stdout",
     "output_type": "stream",
     "text": [
      "Requirement already satisfied: spacy in /usr/local/lib/python3.10/dist-packages (3.7.5)\r\n",
      "Requirement already satisfied: networkx in /usr/local/lib/python3.10/dist-packages (3.4.2)\r\n",
      "Requirement already satisfied: spacy-legacy<3.1.0,>=3.0.11 in /usr/local/lib/python3.10/dist-packages (from spacy) (3.0.12)\r\n",
      "Requirement already satisfied: spacy-loggers<2.0.0,>=1.0.0 in /usr/local/lib/python3.10/dist-packages (from spacy) (1.0.5)\r\n",
      "Requirement already satisfied: murmurhash<1.1.0,>=0.28.0 in /usr/local/lib/python3.10/dist-packages (from spacy) (1.0.11)\r\n",
      "Requirement already satisfied: cymem<2.1.0,>=2.0.2 in /usr/local/lib/python3.10/dist-packages (from spacy) (2.0.10)\r\n",
      "Requirement already satisfied: preshed<3.1.0,>=3.0.2 in /usr/local/lib/python3.10/dist-packages (from spacy) (3.0.9)\r\n",
      "Requirement already satisfied: thinc<8.3.0,>=8.2.2 in /usr/local/lib/python3.10/dist-packages (from spacy) (8.2.5)\r\n",
      "Requirement already satisfied: wasabi<1.2.0,>=0.9.1 in /usr/local/lib/python3.10/dist-packages (from spacy) (1.1.3)\r\n",
      "Requirement already satisfied: srsly<3.0.0,>=2.4.3 in /usr/local/lib/python3.10/dist-packages (from spacy) (2.5.0)\r\n",
      "Requirement already satisfied: catalogue<2.1.0,>=2.0.6 in /usr/local/lib/python3.10/dist-packages (from spacy) (2.0.10)\r\n",
      "Requirement already satisfied: weasel<0.5.0,>=0.1.0 in /usr/local/lib/python3.10/dist-packages (from spacy) (0.4.1)\r\n",
      "Requirement already satisfied: typer<1.0.0,>=0.3.0 in /usr/local/lib/python3.10/dist-packages (from spacy) (0.15.1)\r\n",
      "Requirement already satisfied: tqdm<5.0.0,>=4.38.0 in /usr/local/lib/python3.10/dist-packages (from spacy) (4.67.1)\r\n",
      "Requirement already satisfied: requests<3.0.0,>=2.13.0 in /usr/local/lib/python3.10/dist-packages (from spacy) (2.32.3)\r\n",
      "Requirement already satisfied: pydantic!=1.8,!=1.8.1,<3.0.0,>=1.7.4 in /usr/local/lib/python3.10/dist-packages (from spacy) (2.11.0a1)\r\n",
      "Requirement already satisfied: jinja2 in /usr/local/lib/python3.10/dist-packages (from spacy) (3.1.4)\r\n",
      "Requirement already satisfied: setuptools in /usr/local/lib/python3.10/dist-packages (from spacy) (75.1.0)\r\n",
      "Requirement already satisfied: packaging>=20.0 in /usr/local/lib/python3.10/dist-packages (from spacy) (24.2)\r\n",
      "Requirement already satisfied: langcodes<4.0.0,>=3.2.0 in /usr/local/lib/python3.10/dist-packages (from spacy) (3.5.0)\r\n",
      "Requirement already satisfied: numpy>=1.19.0 in /usr/local/lib/python3.10/dist-packages (from spacy) (1.26.4)\r\n",
      "Requirement already satisfied: language-data>=1.2 in /usr/local/lib/python3.10/dist-packages (from langcodes<4.0.0,>=3.2.0->spacy) (1.3.0)\r\n",
      "Requirement already satisfied: mkl_fft in /usr/local/lib/python3.10/dist-packages (from numpy>=1.19.0->spacy) (1.3.8)\r\n",
      "Requirement already satisfied: mkl_random in /usr/local/lib/python3.10/dist-packages (from numpy>=1.19.0->spacy) (1.2.4)\r\n",
      "Requirement already satisfied: mkl_umath in /usr/local/lib/python3.10/dist-packages (from numpy>=1.19.0->spacy) (0.1.1)\r\n",
      "Requirement already satisfied: mkl in /usr/local/lib/python3.10/dist-packages (from numpy>=1.19.0->spacy) (2025.0.1)\r\n",
      "Requirement already satisfied: tbb4py in /usr/local/lib/python3.10/dist-packages (from numpy>=1.19.0->spacy) (2022.0.0)\r\n",
      "Requirement already satisfied: mkl-service in /usr/local/lib/python3.10/dist-packages (from numpy>=1.19.0->spacy) (2.4.1)\r\n",
      "Requirement already satisfied: annotated-types>=0.6.0 in /usr/local/lib/python3.10/dist-packages (from pydantic!=1.8,!=1.8.1,<3.0.0,>=1.7.4->spacy) (0.7.0)\r\n",
      "Requirement already satisfied: pydantic-core==2.28.0 in /usr/local/lib/python3.10/dist-packages (from pydantic!=1.8,!=1.8.1,<3.0.0,>=1.7.4->spacy) (2.28.0)\r\n",
      "Requirement already satisfied: typing-extensions>=4.12.2 in /usr/local/lib/python3.10/dist-packages (from pydantic!=1.8,!=1.8.1,<3.0.0,>=1.7.4->spacy) (4.12.2)\r\n",
      "Requirement already satisfied: charset-normalizer<4,>=2 in /usr/local/lib/python3.10/dist-packages (from requests<3.0.0,>=2.13.0->spacy) (3.4.1)\r\n",
      "Requirement already satisfied: idna<4,>=2.5 in /usr/local/lib/python3.10/dist-packages (from requests<3.0.0,>=2.13.0->spacy) (3.10)\r\n",
      "Requirement already satisfied: urllib3<3,>=1.21.1 in /usr/local/lib/python3.10/dist-packages (from requests<3.0.0,>=2.13.0->spacy) (2.3.0)\r\n",
      "Requirement already satisfied: certifi>=2017.4.17 in /usr/local/lib/python3.10/dist-packages (from requests<3.0.0,>=2.13.0->spacy) (2025.1.31)\r\n",
      "Requirement already satisfied: blis<0.8.0,>=0.7.8 in /usr/local/lib/python3.10/dist-packages (from thinc<8.3.0,>=8.2.2->spacy) (0.7.11)\r\n",
      "Requirement already satisfied: confection<1.0.0,>=0.0.1 in /usr/local/lib/python3.10/dist-packages (from thinc<8.3.0,>=8.2.2->spacy) (0.1.5)\r\n",
      "Requirement already satisfied: click>=8.0.0 in /usr/local/lib/python3.10/dist-packages (from typer<1.0.0,>=0.3.0->spacy) (8.1.7)\r\n",
      "Requirement already satisfied: shellingham>=1.3.0 in /usr/local/lib/python3.10/dist-packages (from typer<1.0.0,>=0.3.0->spacy) (1.5.4)\r\n",
      "Requirement already satisfied: rich>=10.11.0 in /usr/local/lib/python3.10/dist-packages (from typer<1.0.0,>=0.3.0->spacy) (13.9.4)\r\n",
      "Requirement already satisfied: cloudpathlib<1.0.0,>=0.7.0 in /usr/local/lib/python3.10/dist-packages (from weasel<0.5.0,>=0.1.0->spacy) (0.20.0)\r\n",
      "Requirement already satisfied: smart-open<8.0.0,>=5.2.1 in /usr/local/lib/python3.10/dist-packages (from weasel<0.5.0,>=0.1.0->spacy) (7.0.5)\r\n",
      "Requirement already satisfied: MarkupSafe>=2.0 in /usr/local/lib/python3.10/dist-packages (from jinja2->spacy) (3.0.2)\r\n",
      "Requirement already satisfied: marisa-trie>=1.1.0 in /usr/local/lib/python3.10/dist-packages (from language-data>=1.2->langcodes<4.0.0,>=3.2.0->spacy) (1.2.1)\r\n",
      "Requirement already satisfied: markdown-it-py>=2.2.0 in /usr/local/lib/python3.10/dist-packages (from rich>=10.11.0->typer<1.0.0,>=0.3.0->spacy) (3.0.0)\r\n",
      "Requirement already satisfied: pygments<3.0.0,>=2.13.0 in /usr/local/lib/python3.10/dist-packages (from rich>=10.11.0->typer<1.0.0,>=0.3.0->spacy) (2.19.1)\r\n",
      "Requirement already satisfied: wrapt in /usr/local/lib/python3.10/dist-packages (from smart-open<8.0.0,>=5.2.1->weasel<0.5.0,>=0.1.0->spacy) (1.17.0)\r\n",
      "Requirement already satisfied: intel-openmp>=2024 in /usr/local/lib/python3.10/dist-packages (from mkl->numpy>=1.19.0->spacy) (2024.2.0)\r\n",
      "Requirement already satisfied: tbb==2022.* in /usr/local/lib/python3.10/dist-packages (from mkl->numpy>=1.19.0->spacy) (2022.0.0)\r\n",
      "Requirement already satisfied: tcmlib==1.* in /usr/local/lib/python3.10/dist-packages (from tbb==2022.*->mkl->numpy>=1.19.0->spacy) (1.2.0)\r\n",
      "Requirement already satisfied: intel-cmplr-lib-rt in /usr/local/lib/python3.10/dist-packages (from mkl_umath->numpy>=1.19.0->spacy) (2024.2.0)\r\n",
      "Requirement already satisfied: intel-cmplr-lib-ur==2024.2.0 in /usr/local/lib/python3.10/dist-packages (from intel-openmp>=2024->mkl->numpy>=1.19.0->spacy) (2024.2.0)\r\n",
      "Requirement already satisfied: mdurl~=0.1 in /usr/local/lib/python3.10/dist-packages (from markdown-it-py>=2.2.0->rich>=10.11.0->typer<1.0.0,>=0.3.0->spacy) (0.1.2)\r\n",
      "Note: you may need to restart the kernel to use updated packages.\n"
     ]
    }
   ],
   "source": [
    "%pip install spacy networkx"
   ]
  },
  {
   "cell_type": "code",
   "execution_count": 12,
   "id": "fd7ac15d",
   "metadata": {
    "execution": {
     "iopub.execute_input": "2025-02-20T12:40:42.340170Z",
     "iopub.status.busy": "2025-02-20T12:40:42.339771Z",
     "iopub.status.idle": "2025-02-20T12:40:52.741809Z",
     "shell.execute_reply": "2025-02-20T12:40:52.740932Z"
    },
    "papermill": {
     "duration": 10.413791,
     "end_time": "2025-02-20T12:40:52.743725",
     "exception": false,
     "start_time": "2025-02-20T12:40:42.329934",
     "status": "completed"
    },
    "tags": []
   },
   "outputs": [],
   "source": [
    "import spacy\n",
    "import networkx as nx\n",
    "spacy.prefer_gpu()\n",
    "nlp = spacy.load(\"en_core_web_sm\")\n",
    "\n",
    "def extract_features(text):\n",
    "    doc = nlp(text)\n",
    "\n",
    "    svos = []\n",
    "    for token in doc:\n",
    "        if \"subj\" in token.dep_:\n",
    "            subject = token.text\n",
    "            verb = token.head.text\n",
    "            obj = None\n",
    "            for child in token.head.children:\n",
    "                if \"obj\" in child.dep_:\n",
    "                    obj = child.text\n",
    "            if obj:\n",
    "                svos.append(f\"{subject} {verb} {obj}\")\n",
    "\n",
    "    head_modifiers_cntr = 0\n",
    "    for token in doc:\n",
    "        if token.dep_ in (\"amod\", \"advmod\"):  \n",
    "            head_modifiers_cntr += 1\n",
    "\n",
    "    dep_graph = nx.Graph()\n",
    "    for token in doc:\n",
    "        for child in token.children:\n",
    "            dep_graph.add_edge(token.text, child.text)\n",
    "\n",
    "    avg_dep_path = 0\n",
    "    if len(dep_graph.nodes) > 1:\n",
    "        path_lengths = [len(nx.shortest_path(dep_graph, source=token.text, target=child.text))\n",
    "                        for token in doc for child in token.children if nx.has_path(dep_graph, token.text, child.text)]\n",
    "        avg_dep_path = sum(path_lengths) / len(path_lengths) if path_lengths else 0\n",
    "\n",
    "    return {\n",
    "        \"number_of_words\": len(text.split()),\n",
    "        \"svo_count\": len(svos),\n",
    "        \"head_modifier_count\": head_modifiers_cntr,\n",
    "        \"avg_dep_path\": avg_dep_path,\n",
    "        \"svo_features\": \" \".join(svos).lower(),\n",
    "       \n",
    "    }"
   ]
  },
  {
   "cell_type": "markdown",
   "id": "0949ede6",
   "metadata": {
    "papermill": {
     "duration": 0.007691,
     "end_time": "2025-02-20T12:40:52.760186",
     "exception": false,
     "start_time": "2025-02-20T12:40:52.752495",
     "status": "completed"
    },
    "tags": []
   },
   "source": [
    "### Preprocess data"
   ]
  },
  {
   "cell_type": "code",
   "execution_count": 13,
   "id": "7b4c3717",
   "metadata": {
    "execution": {
     "iopub.execute_input": "2025-02-20T12:40:52.778300Z",
     "iopub.status.busy": "2025-02-20T12:40:52.777632Z",
     "iopub.status.idle": "2025-02-20T12:43:56.851976Z",
     "shell.execute_reply": "2025-02-20T12:43:56.850604Z"
    },
    "papermill": {
     "duration": 184.08585,
     "end_time": "2025-02-20T12:43:56.854192",
     "exception": false,
     "start_time": "2025-02-20T12:40:52.768342",
     "status": "completed"
    },
    "tags": []
   },
   "outputs": [
    {
     "name": "stderr",
     "output_type": "stream",
     "text": [
      "Extracting Features: 100%|██████████| 1963/1963 [03:04<00:00, 10.67it/s]\n"
     ]
    },
    {
     "data": {
      "text/html": [
       "<div>\n",
       "<style scoped>\n",
       "    .dataframe tbody tr th:only-of-type {\n",
       "        vertical-align: middle;\n",
       "    }\n",
       "\n",
       "    .dataframe tbody tr th {\n",
       "        vertical-align: top;\n",
       "    }\n",
       "\n",
       "    .dataframe thead th {\n",
       "        text-align: right;\n",
       "    }\n",
       "</style>\n",
       "<table border=\"1\" class=\"dataframe\">\n",
       "  <thead>\n",
       "    <tr style=\"text-align: right;\">\n",
       "      <th></th>\n",
       "      <th>id</th>\n",
       "      <th>medical_specialty</th>\n",
       "      <th>number_of_words</th>\n",
       "      <th>svo_count</th>\n",
       "      <th>head_modifier_count</th>\n",
       "      <th>avg_dep_path</th>\n",
       "      <th>svo_features</th>\n",
       "    </tr>\n",
       "  </thead>\n",
       "  <tbody>\n",
       "    <tr>\n",
       "      <th>0</th>\n",
       "      <td>0</td>\n",
       "      <td>0</td>\n",
       "      <td>247</td>\n",
       "      <td>4</td>\n",
       "      <td>33</td>\n",
       "      <td>1.996491</td>\n",
       "      <td>he underwent anesthesia trachea had appearance...</td>\n",
       "    </tr>\n",
       "    <tr>\n",
       "      <th>1</th>\n",
       "      <td>1</td>\n",
       "      <td>3</td>\n",
       "      <td>497</td>\n",
       "      <td>14</td>\n",
       "      <td>47</td>\n",
       "      <td>2.000000</td>\n",
       "      <td>that disrupted sleep cpap limited snoring part...</td>\n",
       "    </tr>\n",
       "    <tr>\n",
       "      <th>2</th>\n",
       "      <td>2</td>\n",
       "      <td>0</td>\n",
       "      <td>769</td>\n",
       "      <td>17</td>\n",
       "      <td>104</td>\n",
       "      <td>1.997897</td>\n",
       "      <td>he underwent vats he had tube he had fibrillat...</td>\n",
       "    </tr>\n",
       "    <tr>\n",
       "      <th>3</th>\n",
       "      <td>3</td>\n",
       "      <td>3</td>\n",
       "      <td>364</td>\n",
       "      <td>5</td>\n",
       "      <td>48</td>\n",
       "      <td>2.000000</td>\n",
       "      <td>she denied history she received steroids medic...</td>\n",
       "    </tr>\n",
       "    <tr>\n",
       "      <th>4</th>\n",
       "      <td>4</td>\n",
       "      <td>0</td>\n",
       "      <td>495</td>\n",
       "      <td>13</td>\n",
       "      <td>62</td>\n",
       "      <td>1.998314</td>\n",
       "      <td>he had infarctions patient used amphetamines h...</td>\n",
       "    </tr>\n",
       "  </tbody>\n",
       "</table>\n",
       "</div>"
      ],
      "text/plain": [
       "   id  medical_specialty  number_of_words  svo_count  head_modifier_count  \\\n",
       "0   0                  0              247          4                   33   \n",
       "1   1                  3              497         14                   47   \n",
       "2   2                  0              769         17                  104   \n",
       "3   3                  3              364          5                   48   \n",
       "4   4                  0              495         13                   62   \n",
       "\n",
       "   avg_dep_path                                       svo_features  \n",
       "0      1.996491  he underwent anesthesia trachea had appearance...  \n",
       "1      2.000000  that disrupted sleep cpap limited snoring part...  \n",
       "2      1.997897  he underwent vats he had tube he had fibrillat...  \n",
       "3      2.000000  she denied history she received steroids medic...  \n",
       "4      1.998314  he had infarctions patient used amphetamines h...  "
      ]
     },
     "execution_count": 13,
     "metadata": {},
     "output_type": "execute_result"
    }
   ],
   "source": [
    "from tqdm import tqdm\n",
    "\n",
    "features_list = []\n",
    "\n",
    "for text in tqdm(df[\"transcription\"], desc=\"Extracting Features\"):\n",
    "    features_list.append(extract_features(text))\n",
    "\n",
    "new_features = pd.DataFrame(features_list)\n",
    "\n",
    "df = df.reset_index(drop=True)\n",
    "new_features = new_features.reset_index(drop=True)\n",
    "\n",
    "df_processed = pd.concat([df.drop(columns=[\"transcription\"]), new_features], axis=1)\n",
    "\n",
    "df_processed.head()\n"
   ]
  },
  {
   "cell_type": "code",
   "execution_count": 14,
   "id": "82824a3c",
   "metadata": {
    "execution": {
     "iopub.execute_input": "2025-02-20T12:43:56.973475Z",
     "iopub.status.busy": "2025-02-20T12:43:56.973083Z",
     "iopub.status.idle": "2025-02-20T12:43:57.007323Z",
     "shell.execute_reply": "2025-02-20T12:43:57.006203Z"
    },
    "papermill": {
     "duration": 0.0938,
     "end_time": "2025-02-20T12:43:57.009102",
     "exception": false,
     "start_time": "2025-02-20T12:43:56.915302",
     "status": "completed"
    },
    "tags": []
   },
   "outputs": [
    {
     "data": {
      "text/html": [
       "<div>\n",
       "<style scoped>\n",
       "    .dataframe tbody tr th:only-of-type {\n",
       "        vertical-align: middle;\n",
       "    }\n",
       "\n",
       "    .dataframe tbody tr th {\n",
       "        vertical-align: top;\n",
       "    }\n",
       "\n",
       "    .dataframe thead th {\n",
       "        text-align: right;\n",
       "    }\n",
       "</style>\n",
       "<table border=\"1\" class=\"dataframe\">\n",
       "  <thead>\n",
       "    <tr style=\"text-align: right;\">\n",
       "      <th></th>\n",
       "      <th>id</th>\n",
       "      <th>medical_specialty</th>\n",
       "      <th>number_of_words</th>\n",
       "      <th>svo_count</th>\n",
       "      <th>head_modifier_count</th>\n",
       "      <th>avg_dep_path</th>\n",
       "    </tr>\n",
       "  </thead>\n",
       "  <tbody>\n",
       "    <tr>\n",
       "      <th>count</th>\n",
       "      <td>1963.000000</td>\n",
       "      <td>1963.000000</td>\n",
       "      <td>1963.000000</td>\n",
       "      <td>1963.000000</td>\n",
       "      <td>1963.000000</td>\n",
       "      <td>1963.000000</td>\n",
       "    </tr>\n",
       "    <tr>\n",
       "      <th>mean</th>\n",
       "      <td>992.479878</td>\n",
       "      <td>2.463576</td>\n",
       "      <td>476.187978</td>\n",
       "      <td>8.481915</td>\n",
       "      <td>66.633214</td>\n",
       "      <td>1.996249</td>\n",
       "    </tr>\n",
       "    <tr>\n",
       "      <th>std</th>\n",
       "      <td>570.852881</td>\n",
       "      <td>1.570651</td>\n",
       "      <td>299.258986</td>\n",
       "      <td>8.575625</td>\n",
       "      <td>45.898471</td>\n",
       "      <td>0.004142</td>\n",
       "    </tr>\n",
       "    <tr>\n",
       "      <th>min</th>\n",
       "      <td>0.000000</td>\n",
       "      <td>0.000000</td>\n",
       "      <td>1.000000</td>\n",
       "      <td>0.000000</td>\n",
       "      <td>0.000000</td>\n",
       "      <td>1.925926</td>\n",
       "    </tr>\n",
       "    <tr>\n",
       "      <th>25%</th>\n",
       "      <td>499.500000</td>\n",
       "      <td>1.000000</td>\n",
       "      <td>258.000000</td>\n",
       "      <td>3.000000</td>\n",
       "      <td>33.500000</td>\n",
       "      <td>1.994636</td>\n",
       "    </tr>\n",
       "    <tr>\n",
       "      <th>50%</th>\n",
       "      <td>991.000000</td>\n",
       "      <td>3.000000</td>\n",
       "      <td>412.000000</td>\n",
       "      <td>6.000000</td>\n",
       "      <td>56.000000</td>\n",
       "      <td>1.996928</td>\n",
       "    </tr>\n",
       "    <tr>\n",
       "      <th>75%</th>\n",
       "      <td>1487.500000</td>\n",
       "      <td>4.000000</td>\n",
       "      <td>622.500000</td>\n",
       "      <td>11.500000</td>\n",
       "      <td>89.000000</td>\n",
       "      <td>2.000000</td>\n",
       "    </tr>\n",
       "    <tr>\n",
       "      <th>max</th>\n",
       "      <td>1980.000000</td>\n",
       "      <td>4.000000</td>\n",
       "      <td>2332.000000</td>\n",
       "      <td>73.000000</td>\n",
       "      <td>342.000000</td>\n",
       "      <td>2.000000</td>\n",
       "    </tr>\n",
       "  </tbody>\n",
       "</table>\n",
       "</div>"
      ],
      "text/plain": [
       "                id  medical_specialty  number_of_words    svo_count  \\\n",
       "count  1963.000000        1963.000000      1963.000000  1963.000000   \n",
       "mean    992.479878           2.463576       476.187978     8.481915   \n",
       "std     570.852881           1.570651       299.258986     8.575625   \n",
       "min       0.000000           0.000000         1.000000     0.000000   \n",
       "25%     499.500000           1.000000       258.000000     3.000000   \n",
       "50%     991.000000           3.000000       412.000000     6.000000   \n",
       "75%    1487.500000           4.000000       622.500000    11.500000   \n",
       "max    1980.000000           4.000000      2332.000000    73.000000   \n",
       "\n",
       "       head_modifier_count  avg_dep_path  \n",
       "count          1963.000000   1963.000000  \n",
       "mean             66.633214      1.996249  \n",
       "std              45.898471      0.004142  \n",
       "min               0.000000      1.925926  \n",
       "25%              33.500000      1.994636  \n",
       "50%              56.000000      1.996928  \n",
       "75%              89.000000      2.000000  \n",
       "max             342.000000      2.000000  "
      ]
     },
     "execution_count": 14,
     "metadata": {},
     "output_type": "execute_result"
    }
   ],
   "source": [
    "df_processed.describe()"
   ]
  },
  {
   "cell_type": "code",
   "execution_count": 15,
   "id": "16e416c7",
   "metadata": {
    "execution": {
     "iopub.execute_input": "2025-02-20T12:43:57.126337Z",
     "iopub.status.busy": "2025-02-20T12:43:57.125917Z",
     "iopub.status.idle": "2025-02-20T12:43:57.132388Z",
     "shell.execute_reply": "2025-02-20T12:43:57.131357Z"
    },
    "papermill": {
     "duration": 0.06725,
     "end_time": "2025-02-20T12:43:57.134150",
     "exception": false,
     "start_time": "2025-02-20T12:43:57.066900",
     "status": "completed"
    },
    "tags": []
   },
   "outputs": [
    {
     "data": {
      "text/plain": [
       "array([0, 3, 4, 2, 1])"
      ]
     },
     "execution_count": 15,
     "metadata": {},
     "output_type": "execute_result"
    }
   ],
   "source": [
    "df_processed['medical_specialty'].unique()"
   ]
  },
  {
   "cell_type": "code",
   "execution_count": 16,
   "id": "97992da1",
   "metadata": {
    "execution": {
     "iopub.execute_input": "2025-02-20T12:43:57.332596Z",
     "iopub.status.busy": "2025-02-20T12:43:57.332215Z",
     "iopub.status.idle": "2025-02-20T12:43:57.348015Z",
     "shell.execute_reply": "2025-02-20T12:43:57.347191Z"
    },
    "papermill": {
     "duration": 0.077307,
     "end_time": "2025-02-20T12:43:57.349650",
     "exception": false,
     "start_time": "2025-02-20T12:43:57.272343",
     "status": "completed"
    },
    "tags": []
   },
   "outputs": [
    {
     "data": {
      "text/plain": [
       "219"
      ]
     },
     "execution_count": 16,
     "metadata": {},
     "output_type": "execute_result"
    }
   ],
   "source": [
    "df_processed['svo_features'].str.split().str.len().max()"
   ]
  },
  {
   "cell_type": "markdown",
   "id": "9d35ae6a",
   "metadata": {
    "papermill": {
     "duration": 0.057521,
     "end_time": "2025-02-20T12:43:57.466345",
     "exception": false,
     "start_time": "2025-02-20T12:43:57.408824",
     "status": "completed"
    },
    "tags": []
   },
   "source": [
    "We will embed data in model section. For now we just do the data stuff"
   ]
  },
  {
   "cell_type": "code",
   "execution_count": 17,
   "id": "20feefec",
   "metadata": {
    "execution": {
     "iopub.execute_input": "2025-02-20T12:43:57.583323Z",
     "iopub.status.busy": "2025-02-20T12:43:57.582910Z",
     "iopub.status.idle": "2025-02-20T12:44:05.995301Z",
     "shell.execute_reply": "2025-02-20T12:44:05.994196Z"
    },
    "papermill": {
     "duration": 8.473926,
     "end_time": "2025-02-20T12:44:05.997404",
     "exception": false,
     "start_time": "2025-02-20T12:43:57.523478",
     "status": "completed"
    },
    "tags": []
   },
   "outputs": [
    {
     "data": {
      "application/vnd.jupyter.widget-view+json": {
       "model_id": "70ff1f4d68444a05a35dd3636b1e024d",
       "version_major": 2,
       "version_minor": 0
      },
      "text/plain": [
       "tokenizer_config.json:   0%|          | 0.00/48.0 [00:00<?, ?B/s]"
      ]
     },
     "metadata": {},
     "output_type": "display_data"
    },
    {
     "data": {
      "application/vnd.jupyter.widget-view+json": {
       "model_id": "b9ff8343d513459eb021cdd7de446ad7",
       "version_major": 2,
       "version_minor": 0
      },
      "text/plain": [
       "vocab.txt:   0%|          | 0.00/232k [00:00<?, ?B/s]"
      ]
     },
     "metadata": {},
     "output_type": "display_data"
    },
    {
     "data": {
      "application/vnd.jupyter.widget-view+json": {
       "model_id": "04c41773c6524180af732c6eb700d5a6",
       "version_major": 2,
       "version_minor": 0
      },
      "text/plain": [
       "tokenizer.json:   0%|          | 0.00/466k [00:00<?, ?B/s]"
      ]
     },
     "metadata": {},
     "output_type": "display_data"
    },
    {
     "data": {
      "application/vnd.jupyter.widget-view+json": {
       "model_id": "f648a1b46500428d99654175fae78f25",
       "version_major": 2,
       "version_minor": 0
      },
      "text/plain": [
       "config.json:   0%|          | 0.00/570 [00:00<?, ?B/s]"
      ]
     },
     "metadata": {},
     "output_type": "display_data"
    }
   ],
   "source": [
    "import torch\n",
    "from torch.utils.data import Dataset, DataLoader\n",
    "from transformers import BertTokenizer\n",
    "\n",
    "bert_model_name = \"bert-base-uncased\"\n",
    "tokenizer = BertTokenizer.from_pretrained(bert_model_name)\n",
    "\n",
    "class MedDataset(Dataset):\n",
    "    def __init__(self, df):\n",
    "        self.texts = df['svo_features'].fillna(\"\").astype(str).tolist()\n",
    "        self.labels = df['medical_specialty'].astype(int).values\n",
    "        self.numerical_features = df[[\"number_of_words\", \n",
    "                                      \"svo_count\", \n",
    "                                      \"head_modifier_count\", \n",
    "                                      \"avg_dep_path\"]].values\n",
    "    def __len__(self):\n",
    "        return len(self.texts)\n",
    "\n",
    "    def __getitem__(self, idx):\n",
    "        text = self.texts[idx]\n",
    "        label = torch.tensor(self.labels[idx], dtype=torch.long)\n",
    "        num_features = torch.tensor(self.numerical_features[idx], dtype=torch.float32)\n",
    "\n",
    "        if not isinstance(text, str) or text.strip() == \"\":\n",
    "            text = \"[UNK]\"\n",
    "        \n",
    "        encoding = tokenizer(\n",
    "            text,\n",
    "            return_tensors=\"pt\",\n",
    "            padding=\"max_length\",\n",
    "            truncation=True,\n",
    "            max_length=220\n",
    "        )\n",
    "\n",
    "        input_ids = encoding[\"input_ids\"].squeeze(0)\n",
    "        attention_mask = encoding [\"attention_mask\"].squeeze(0)\n",
    "\n",
    "\n",
    "        return input_ids, attention_mask, num_features, label"
   ]
  },
  {
   "cell_type": "code",
   "execution_count": 18,
   "id": "56bea624",
   "metadata": {
    "execution": {
     "iopub.execute_input": "2025-02-20T12:44:06.118332Z",
     "iopub.status.busy": "2025-02-20T12:44:06.117523Z",
     "iopub.status.idle": "2025-02-20T12:44:06.144179Z",
     "shell.execute_reply": "2025-02-20T12:44:06.143158Z"
    },
    "papermill": {
     "duration": 0.089001,
     "end_time": "2025-02-20T12:44:06.146208",
     "exception": false,
     "start_time": "2025-02-20T12:44:06.057207",
     "status": "completed"
    },
    "tags": []
   },
   "outputs": [],
   "source": [
    "from sklearn.model_selection import train_test_split\n",
    "from torch.utils.data import Subset\n",
    "\n",
    "dataset = MedDataset(df_processed)\n",
    "\n",
    "train_indices, val_indices  = train_test_split(range(len(dataset)), test_size=0.05, random_state=42)\n",
    "\n",
    "train_data = Subset(dataset, train_indices)\n",
    "val_data = Subset(dataset, val_indices)"
   ]
  },
  {
   "cell_type": "code",
   "execution_count": 19,
   "id": "f2bf715c",
   "metadata": {
    "execution": {
     "iopub.execute_input": "2025-02-20T12:44:06.273386Z",
     "iopub.status.busy": "2025-02-20T12:44:06.272933Z",
     "iopub.status.idle": "2025-02-20T12:44:06.279985Z",
     "shell.execute_reply": "2025-02-20T12:44:06.278896Z"
    },
    "papermill": {
     "duration": 0.071396,
     "end_time": "2025-02-20T12:44:06.281457",
     "exception": false,
     "start_time": "2025-02-20T12:44:06.210061",
     "status": "completed"
    },
    "tags": []
   },
   "outputs": [],
   "source": [
    "batch_size = 16\n",
    "\n",
    "def collate_fn(batch):\n",
    "    input_ids = torch.stack([item[0] for item in batch])\n",
    "    attention_mask = torch.stack([item[1] for item in batch])\n",
    "    num_features = torch.stack([item[2] for item in batch])\n",
    "    labels = torch.stack([item[3] for item in batch])\n",
    "    \n",
    "    return input_ids, attention_mask, num_features, labels\n",
    "\n",
    "# Create DataLoaders\n",
    "train_loader = DataLoader(train_data, batch_size=16, shuffle=True, collate_fn=collate_fn)\n",
    "val_loader = DataLoader(val_data, batch_size=16, shuffle=False, collate_fn=collate_fn)\n"
   ]
  },
  {
   "cell_type": "markdown",
   "id": "bab009ea",
   "metadata": {
    "papermill": {
     "duration": 0.059212,
     "end_time": "2025-02-20T12:44:06.400825",
     "exception": false,
     "start_time": "2025-02-20T12:44:06.341613",
     "status": "completed"
    },
    "tags": []
   },
   "source": [
    "### Create model"
   ]
  },
  {
   "cell_type": "code",
   "execution_count": 20,
   "id": "06737a22",
   "metadata": {
    "execution": {
     "iopub.execute_input": "2025-02-20T12:44:06.520399Z",
     "iopub.status.busy": "2025-02-20T12:44:06.519932Z",
     "iopub.status.idle": "2025-02-20T12:44:19.855258Z",
     "shell.execute_reply": "2025-02-20T12:44:19.854103Z"
    },
    "papermill": {
     "duration": 13.397486,
     "end_time": "2025-02-20T12:44:19.857267",
     "exception": false,
     "start_time": "2025-02-20T12:44:06.459781",
     "status": "completed"
    },
    "tags": []
   },
   "outputs": [],
   "source": [
    "import torch\n",
    "import torch.nn as nn\n",
    "import torch.optim as optim\n",
    "from transformers import BertTokenizer, BertModel\n",
    "\n",
    "class MedicalClassifier(nn.Module):\n",
    "    def __init__(self, num_classes, num_structured_features):\n",
    "        super(MedicalClassifier, self).__init__()\n",
    "        self.bert = BertModel.from_pretrained(\"bert-base-uncased\")  # Load BERT\n",
    "        \n",
    "        self.feature_fc = nn.Sequential(\n",
    "            nn.Linear(num_structured_features, 16),\n",
    "            nn.ReLU(),\n",
    "            nn.Linear(16, 8),\n",
    "            nn.ReLU()\n",
    "        )\n",
    "        \n",
    "        self.final_fc = nn.Linear(768 + 8, num_classes)\n",
    "\n",
    "\n",
    "    def forward(self, input_ids, attention_mask, num_features):\n",
    "        bert_out = self.bert(input_ids=input_ids, attention_mask=attention_mask)\n",
    "        cls = bert_out.last_hidden_state[:, 0, :]\n",
    "        structured_output = self.feature_fc(num_features)\n",
    "\n",
    "        combined_features = torch.cat((cls, structured_output), dim=1)\n",
    "\n",
    "        logits = self.final_fc(combined_features)\n",
    "\n",
    "        return logits\n",
    "        "
   ]
  },
  {
   "cell_type": "code",
   "execution_count": 21,
   "id": "73d30e6e",
   "metadata": {
    "execution": {
     "iopub.execute_input": "2025-02-20T12:44:19.974801Z",
     "iopub.status.busy": "2025-02-20T12:44:19.973978Z",
     "iopub.status.idle": "2025-02-20T12:44:22.539977Z",
     "shell.execute_reply": "2025-02-20T12:44:22.539002Z"
    },
    "papermill": {
     "duration": 2.626093,
     "end_time": "2025-02-20T12:44:22.541618",
     "exception": false,
     "start_time": "2025-02-20T12:44:19.915525",
     "status": "completed"
    },
    "tags": []
   },
   "outputs": [
    {
     "data": {
      "application/vnd.jupyter.widget-view+json": {
       "model_id": "6662c010cf454c548990713b5c54d4c1",
       "version_major": 2,
       "version_minor": 0
      },
      "text/plain": [
       "model.safetensors:   0%|          | 0.00/440M [00:00<?, ?B/s]"
      ]
     },
     "metadata": {},
     "output_type": "display_data"
    },
    {
     "data": {
      "text/plain": [
       "MedicalClassifier(\n",
       "  (bert): BertModel(\n",
       "    (embeddings): BertEmbeddings(\n",
       "      (word_embeddings): Embedding(30522, 768, padding_idx=0)\n",
       "      (position_embeddings): Embedding(512, 768)\n",
       "      (token_type_embeddings): Embedding(2, 768)\n",
       "      (LayerNorm): LayerNorm((768,), eps=1e-12, elementwise_affine=True)\n",
       "      (dropout): Dropout(p=0.1, inplace=False)\n",
       "    )\n",
       "    (encoder): BertEncoder(\n",
       "      (layer): ModuleList(\n",
       "        (0-11): 12 x BertLayer(\n",
       "          (attention): BertAttention(\n",
       "            (self): BertSdpaSelfAttention(\n",
       "              (query): Linear(in_features=768, out_features=768, bias=True)\n",
       "              (key): Linear(in_features=768, out_features=768, bias=True)\n",
       "              (value): Linear(in_features=768, out_features=768, bias=True)\n",
       "              (dropout): Dropout(p=0.1, inplace=False)\n",
       "            )\n",
       "            (output): BertSelfOutput(\n",
       "              (dense): Linear(in_features=768, out_features=768, bias=True)\n",
       "              (LayerNorm): LayerNorm((768,), eps=1e-12, elementwise_affine=True)\n",
       "              (dropout): Dropout(p=0.1, inplace=False)\n",
       "            )\n",
       "          )\n",
       "          (intermediate): BertIntermediate(\n",
       "            (dense): Linear(in_features=768, out_features=3072, bias=True)\n",
       "            (intermediate_act_fn): GELUActivation()\n",
       "          )\n",
       "          (output): BertOutput(\n",
       "            (dense): Linear(in_features=3072, out_features=768, bias=True)\n",
       "            (LayerNorm): LayerNorm((768,), eps=1e-12, elementwise_affine=True)\n",
       "            (dropout): Dropout(p=0.1, inplace=False)\n",
       "          )\n",
       "        )\n",
       "      )\n",
       "    )\n",
       "    (pooler): BertPooler(\n",
       "      (dense): Linear(in_features=768, out_features=768, bias=True)\n",
       "      (activation): Tanh()\n",
       "    )\n",
       "  )\n",
       "  (feature_fc): Sequential(\n",
       "    (0): Linear(in_features=4, out_features=16, bias=True)\n",
       "    (1): ReLU()\n",
       "    (2): Linear(in_features=16, out_features=8, bias=True)\n",
       "    (3): ReLU()\n",
       "  )\n",
       "  (final_fc): Linear(in_features=776, out_features=5, bias=True)\n",
       ")"
      ]
     },
     "execution_count": 21,
     "metadata": {},
     "output_type": "execute_result"
    }
   ],
   "source": [
    "model = MedicalClassifier(5, 4)\n",
    "criterion = nn.CrossEntropyLoss()\n",
    "optimizer = optim.AdamW(model.parameters(), lr=2e-5)\n",
    "device = torch.device(\"cuda\" if torch.cuda.is_available() else \"cpu\")\n",
    "model.to(device)"
   ]
  },
  {
   "cell_type": "code",
   "execution_count": 22,
   "id": "0873f5c6",
   "metadata": {
    "execution": {
     "iopub.execute_input": "2025-02-20T12:44:22.664553Z",
     "iopub.status.busy": "2025-02-20T12:44:22.664210Z",
     "iopub.status.idle": "2025-02-20T12:48:04.313352Z",
     "shell.execute_reply": "2025-02-20T12:48:04.312064Z"
    },
    "papermill": {
     "duration": 221.712468,
     "end_time": "2025-02-20T12:48:04.315332",
     "exception": false,
     "start_time": "2025-02-20T12:44:22.602864",
     "status": "completed"
    },
    "tags": []
   },
   "outputs": [
    {
     "name": "stderr",
     "output_type": "stream",
     "text": [
      "Epoch 1/5 [Training]: 100%|██████████| 117/117 [00:43<00:00,  2.68it/s]\n",
      "Epoch 1/5 [Validation]: 100%|██████████| 7/7 [00:00<00:00,  9.30it/s]\n"
     ]
    },
    {
     "name": "stdout",
     "output_type": "stream",
     "text": [
      "Epoch 1 | Train Loss: 1.2487 | Train Acc: 0.5456 | Train F1: 0.3307\n",
      "Epoch 1 | Val Loss: 0.9957 | Val Acc: 0.6465 | Val F1: 0.3407\n"
     ]
    },
    {
     "name": "stderr",
     "output_type": "stream",
     "text": [
      "Epoch 2/5 [Training]: 100%|██████████| 117/117 [00:43<00:00,  2.71it/s]\n",
      "Epoch 2/5 [Validation]: 100%|██████████| 7/7 [00:00<00:00,  9.24it/s]\n"
     ]
    },
    {
     "name": "stdout",
     "output_type": "stream",
     "text": [
      "Epoch 2 | Train Loss: 1.0277 | Train Acc: 0.6068 | Train F1: 0.4064\n",
      "Epoch 2 | Val Loss: 1.0205 | Val Acc: 0.6263 | Val F1: 0.3914\n"
     ]
    },
    {
     "name": "stderr",
     "output_type": "stream",
     "text": [
      "Epoch 3/5 [Training]: 100%|██████████| 117/117 [00:43<00:00,  2.69it/s]\n",
      "Epoch 3/5 [Validation]: 100%|██████████| 7/7 [00:00<00:00,  8.98it/s]\n"
     ]
    },
    {
     "name": "stdout",
     "output_type": "stream",
     "text": [
      "Epoch 3 | Train Loss: 0.8938 | Train Acc: 0.6513 | Train F1: 0.4756\n",
      "Epoch 3 | Val Loss: 1.0477 | Val Acc: 0.6465 | Val F1: 0.3571\n"
     ]
    },
    {
     "name": "stderr",
     "output_type": "stream",
     "text": [
      "Epoch 4/5 [Training]: 100%|██████████| 117/117 [00:43<00:00,  2.68it/s]\n",
      "Epoch 4/5 [Validation]: 100%|██████████| 7/7 [00:00<00:00,  8.99it/s]\n"
     ]
    },
    {
     "name": "stdout",
     "output_type": "stream",
     "text": [
      "Epoch 4 | Train Loss: 0.7735 | Train Acc: 0.6786 | Train F1: 0.5369\n",
      "Epoch 4 | Val Loss: 1.2206 | Val Acc: 0.5758 | Val F1: 0.3502\n"
     ]
    },
    {
     "name": "stderr",
     "output_type": "stream",
     "text": [
      "Epoch 5/5 [Training]: 100%|██████████| 117/117 [00:43<00:00,  2.67it/s]\n",
      "Epoch 5/5 [Validation]: 100%|██████████| 7/7 [00:00<00:00,  9.18it/s]"
     ]
    },
    {
     "name": "stdout",
     "output_type": "stream",
     "text": [
      "Epoch 5 | Train Loss: 0.7181 | Train Acc: 0.6819 | Train F1: 0.5556\n",
      "Epoch 5 | Val Loss: 1.3115 | Val Acc: 0.5657 | Val F1: 0.3589\n"
     ]
    },
    {
     "name": "stderr",
     "output_type": "stream",
     "text": [
      "\n"
     ]
    }
   ],
   "source": [
    "from sklearn.metrics import accuracy_score, f1_score\n",
    "\n",
    "\n",
    "epochs = 5\n",
    "\n",
    "for epoch in range(epochs):\n",
    "    model.train()\n",
    "    total_train_loss = 0\n",
    "    all_train_preds, all_train_labels = [], []\n",
    "\n",
    "    # Training\n",
    "    for input_ids, attention_mask, num_features, labels in tqdm(train_loader, desc=f\"Epoch {epoch+1}/{epochs} [Training]\"):\n",
    "        # Move tensors to device\n",
    "        input_ids, attention_mask, num_features, labels = (\n",
    "            input_ids.to(device), \n",
    "            attention_mask.to(device), \n",
    "            num_features.to(device), \n",
    "            labels.to(device)\n",
    "        )\n",
    "\n",
    "        optimizer.zero_grad()\n",
    "        outputs = model(input_ids, attention_mask, num_features)\n",
    "        loss = criterion(outputs, labels)\n",
    "        loss.backward()\n",
    "        optimizer.step()\n",
    "\n",
    "        total_train_loss += loss.item()\n",
    "\n",
    "        # Store predictions & labels\n",
    "        preds = torch.argmax(outputs, dim=1).cpu().numpy()\n",
    "        all_train_preds.extend(preds)\n",
    "        all_train_labels.extend(labels.cpu().numpy())\n",
    "\n",
    "    avg_train_loss = total_train_loss / len(train_loader)\n",
    "    train_accuracy = accuracy_score(all_train_labels, all_train_preds)\n",
    "    train_f1 = f1_score(all_train_labels, all_train_preds, average=\"macro\")  # 🔹 Compute Macro F1\n",
    "\n",
    "    # Validation\n",
    "    model.eval()\n",
    "    total_val_loss = 0\n",
    "    all_val_preds, all_val_labels = [], []\n",
    "\n",
    "    with torch.no_grad():\n",
    "        for input_ids, attention_mask, num_features, labels in tqdm(val_loader, desc=f\"Epoch {epoch+1}/{epochs} [Validation]\"):\n",
    "            # Move tensors to device\n",
    "            input_ids, attention_mask, num_features, labels = (\n",
    "                input_ids.to(device), \n",
    "                attention_mask.to(device), \n",
    "                num_features.to(device), \n",
    "                labels.to(device)\n",
    "            )\n",
    "\n",
    "            outputs = model(input_ids, attention_mask, num_features)\n",
    "            loss = criterion(outputs, labels)\n",
    "            total_val_loss += loss.item()\n",
    "\n",
    "            preds = torch.argmax(outputs, dim=1).cpu().numpy()\n",
    "            all_val_preds.extend(preds)\n",
    "            all_val_labels.extend(labels.cpu().numpy())\n",
    "\n",
    "    avg_val_loss = total_val_loss / len(val_loader)\n",
    "    val_accuracy = accuracy_score(all_val_labels, all_val_preds)\n",
    "    val_f1 = f1_score(all_val_labels, all_val_preds, average=\"macro\")  # 🔹 Compute Macro F1\n",
    "\n",
    "    print(f\"Epoch {epoch+1} | Train Loss: {avg_train_loss:.4f} | Train Acc: {train_accuracy:.4f} | Train F1: {train_f1:.4f}\")\n",
    "    print(f\"Epoch {epoch+1} | Val Loss: {avg_val_loss:.4f} | Val Acc: {val_accuracy:.4f} | Val F1: {val_f1:.4f}\")"
   ]
  },
  {
   "cell_type": "markdown",
   "id": "3c0e9d33",
   "metadata": {
    "papermill": {
     "duration": 0.092563,
     "end_time": "2025-02-20T12:48:04.510941",
     "exception": false,
     "start_time": "2025-02-20T12:48:04.418378",
     "status": "completed"
    },
    "tags": []
   },
   "source": [
    "### Perform prediction\n"
   ]
  },
  {
   "cell_type": "code",
   "execution_count": 23,
   "id": "91c73ec4",
   "metadata": {
    "execution": {
     "iopub.execute_input": "2025-02-20T12:48:04.696901Z",
     "iopub.status.busy": "2025-02-20T12:48:04.696513Z",
     "iopub.status.idle": "2025-02-20T12:48:04.761143Z",
     "shell.execute_reply": "2025-02-20T12:48:04.760033Z"
    },
    "papermill": {
     "duration": 0.158435,
     "end_time": "2025-02-20T12:48:04.762725",
     "exception": false,
     "start_time": "2025-02-20T12:48:04.604290",
     "status": "completed"
    },
    "tags": []
   },
   "outputs": [
    {
     "data": {
      "text/html": [
       "<div>\n",
       "<style scoped>\n",
       "    .dataframe tbody tr th:only-of-type {\n",
       "        vertical-align: middle;\n",
       "    }\n",
       "\n",
       "    .dataframe tbody tr th {\n",
       "        vertical-align: top;\n",
       "    }\n",
       "\n",
       "    .dataframe thead th {\n",
       "        text-align: right;\n",
       "    }\n",
       "</style>\n",
       "<table border=\"1\" class=\"dataframe\">\n",
       "  <thead>\n",
       "    <tr style=\"text-align: right;\">\n",
       "      <th></th>\n",
       "      <th>id</th>\n",
       "      <th>transcription</th>\n",
       "    </tr>\n",
       "  </thead>\n",
       "  <tbody>\n",
       "    <tr>\n",
       "      <th>0</th>\n",
       "      <td>0</td>\n",
       "      <td>INDICATIONS FOR PROCEDURE:, The patient has pr...</td>\n",
       "    </tr>\n",
       "    <tr>\n",
       "      <th>1</th>\n",
       "      <td>1</td>\n",
       "      <td>CLINICAL HISTORY: ,This 78-year-old black woma...</td>\n",
       "    </tr>\n",
       "    <tr>\n",
       "      <th>2</th>\n",
       "      <td>2</td>\n",
       "      <td>PREOPERATIVE DIAGNOSIS: , Penoscrotal abscess....</td>\n",
       "    </tr>\n",
       "    <tr>\n",
       "      <th>3</th>\n",
       "      <td>3</td>\n",
       "      <td>INDICATIONS:,  Ischemic cardiomyopathy, status...</td>\n",
       "    </tr>\n",
       "    <tr>\n",
       "      <th>4</th>\n",
       "      <td>4</td>\n",
       "      <td>PREOPERATIVE DIAGNOSIS: , Ruptured distal bice...</td>\n",
       "    </tr>\n",
       "  </tbody>\n",
       "</table>\n",
       "</div>"
      ],
      "text/plain": [
       "   id                                      transcription\n",
       "0   0  INDICATIONS FOR PROCEDURE:, The patient has pr...\n",
       "1   1  CLINICAL HISTORY: ,This 78-year-old black woma...\n",
       "2   2  PREOPERATIVE DIAGNOSIS: , Penoscrotal abscess....\n",
       "3   3  INDICATIONS:,  Ischemic cardiomyopathy, status...\n",
       "4   4  PREOPERATIVE DIAGNOSIS: , Ruptured distal bice..."
      ]
     },
     "execution_count": 23,
     "metadata": {},
     "output_type": "execute_result"
    }
   ],
   "source": [
    "test_df = pd.read_csv(\"/kaggle/input/nlp-week-5-feature-engineering-using-parsing/test.csv\")\n",
    "test_df.head()"
   ]
  },
  {
   "cell_type": "code",
   "execution_count": 24,
   "id": "af975781",
   "metadata": {
    "execution": {
     "iopub.execute_input": "2025-02-20T12:48:04.954997Z",
     "iopub.status.busy": "2025-02-20T12:48:04.954545Z",
     "iopub.status.idle": "2025-02-20T12:48:48.300921Z",
     "shell.execute_reply": "2025-02-20T12:48:48.299918Z"
    },
    "papermill": {
     "duration": 43.444619,
     "end_time": "2025-02-20T12:48:48.302902",
     "exception": false,
     "start_time": "2025-02-20T12:48:04.858283",
     "status": "completed"
    },
    "tags": []
   },
   "outputs": [
    {
     "name": "stderr",
     "output_type": "stream",
     "text": [
      "Extracting Features: 100%|██████████| 495/495 [00:43<00:00, 11.43it/s]\n"
     ]
    },
    {
     "data": {
      "text/html": [
       "<div>\n",
       "<style scoped>\n",
       "    .dataframe tbody tr th:only-of-type {\n",
       "        vertical-align: middle;\n",
       "    }\n",
       "\n",
       "    .dataframe tbody tr th {\n",
       "        vertical-align: top;\n",
       "    }\n",
       "\n",
       "    .dataframe thead th {\n",
       "        text-align: right;\n",
       "    }\n",
       "</style>\n",
       "<table border=\"1\" class=\"dataframe\">\n",
       "  <thead>\n",
       "    <tr style=\"text-align: right;\">\n",
       "      <th></th>\n",
       "      <th>id</th>\n",
       "      <th>number_of_words</th>\n",
       "      <th>svo_count</th>\n",
       "      <th>head_modifier_count</th>\n",
       "      <th>avg_dep_path</th>\n",
       "      <th>svo_features</th>\n",
       "    </tr>\n",
       "  </thead>\n",
       "  <tbody>\n",
       "    <tr>\n",
       "      <th>0</th>\n",
       "      <td>0</td>\n",
       "      <td>303</td>\n",
       "      <td>5</td>\n",
       "      <td>78</td>\n",
       "      <td>1.988981</td>\n",
       "      <td>she had stenosis ultrasound showed stenosis sh...</td>\n",
       "    </tr>\n",
       "    <tr>\n",
       "      <th>1</th>\n",
       "      <td>1</td>\n",
       "      <td>481</td>\n",
       "      <td>6</td>\n",
       "      <td>59</td>\n",
       "      <td>1.998172</td>\n",
       "      <td>woman has history she noted complaints ecg sho...</td>\n",
       "    </tr>\n",
       "    <tr>\n",
       "      <th>2</th>\n",
       "      <td>2</td>\n",
       "      <td>453</td>\n",
       "      <td>5</td>\n",
       "      <td>58</td>\n",
       "      <td>2.000000</td>\n",
       "      <td>patient had changes he need penectomy patient ...</td>\n",
       "    </tr>\n",
       "    <tr>\n",
       "      <th>3</th>\n",
       "      <td>3</td>\n",
       "      <td>87</td>\n",
       "      <td>2</td>\n",
       "      <td>9</td>\n",
       "      <td>2.000000</td>\n",
       "      <td>electrocardiogram revealed pacemaker fibrillat...</td>\n",
       "    </tr>\n",
       "    <tr>\n",
       "      <th>4</th>\n",
       "      <td>4</td>\n",
       "      <td>615</td>\n",
       "      <td>0</td>\n",
       "      <td>87</td>\n",
       "      <td>1.985896</td>\n",
       "      <td></td>\n",
       "    </tr>\n",
       "  </tbody>\n",
       "</table>\n",
       "</div>"
      ],
      "text/plain": [
       "   id  number_of_words  svo_count  head_modifier_count  avg_dep_path  \\\n",
       "0   0              303          5                   78      1.988981   \n",
       "1   1              481          6                   59      1.998172   \n",
       "2   2              453          5                   58      2.000000   \n",
       "3   3               87          2                    9      2.000000   \n",
       "4   4              615          0                   87      1.985896   \n",
       "\n",
       "                                        svo_features  \n",
       "0  she had stenosis ultrasound showed stenosis sh...  \n",
       "1  woman has history she noted complaints ecg sho...  \n",
       "2  patient had changes he need penectomy patient ...  \n",
       "3  electrocardiogram revealed pacemaker fibrillat...  \n",
       "4                                                     "
      ]
     },
     "execution_count": 24,
     "metadata": {},
     "output_type": "execute_result"
    }
   ],
   "source": [
    "from tqdm import tqdm\n",
    "\n",
    "features_list = []\n",
    "\n",
    "for text in tqdm(test_df[\"transcription\"], desc=\"Extracting Features\"):\n",
    "    features_list.append(extract_features(text))\n",
    "\n",
    "new_features = pd.DataFrame(features_list)\n",
    "\n",
    "test_df = test_df.reset_index(drop=True)\n",
    "new_features = new_features.reset_index(drop=True)\n",
    "\n",
    "test_df = pd.concat([test_df.drop(columns=[\"transcription\"]), new_features], axis=1)\n",
    "\n",
    "test_df.head()"
   ]
  },
  {
   "cell_type": "code",
   "execution_count": 25,
   "id": "b57a33bd",
   "metadata": {
    "execution": {
     "iopub.execute_input": "2025-02-20T12:48:48.522588Z",
     "iopub.status.busy": "2025-02-20T12:48:48.522236Z",
     "iopub.status.idle": "2025-02-20T12:48:48.531716Z",
     "shell.execute_reply": "2025-02-20T12:48:48.530619Z"
    },
    "papermill": {
     "duration": 0.120656,
     "end_time": "2025-02-20T12:48:48.533351",
     "exception": false,
     "start_time": "2025-02-20T12:48:48.412695",
     "status": "completed"
    },
    "tags": []
   },
   "outputs": [],
   "source": [
    "class TestDataset(Dataset):\n",
    "    def __init__(self, df):\n",
    "        self.texts = df['svo_features'].fillna(\"\").astype(str).tolist()\n",
    "        self.numerical_features = df[[\"number_of_words\", \"svo_count\", \"head_modifier_count\", \"avg_dep_path\"]].values\n",
    "        self.ids = df[\"id\"].values  # Store IDs for submission\n",
    "\n",
    "    def __len__(self):\n",
    "        return len(self.texts)\n",
    "\n",
    "    def __getitem__(self, idx):\n",
    "        text = self.texts[idx]\n",
    "        num_features = torch.tensor(self.numerical_features[idx], dtype=torch.float32)\n",
    "        sample_id = self.ids[idx]  # Extract ID\n",
    "\n",
    "        if not isinstance(text, str) or text.strip() == \"\":\n",
    "            text = \"[UNK]\"  # Replace empty text with BERT's unknown token\n",
    "\n",
    "        encoding = tokenizer(\n",
    "            text,\n",
    "            return_tensors=\"pt\",\n",
    "            padding=\"max_length\",\n",
    "            truncation=True,\n",
    "            max_length=220\n",
    "        )\n",
    "\n",
    "        input_ids = encoding[\"input_ids\"].squeeze(0)\n",
    "        attention_mask = encoding[\"attention_mask\"].squeeze(0)\n",
    "\n",
    "        return input_ids, attention_mask, num_features, sample_id\n",
    "\n",
    "# Load test dataset\n",
    "test_dataset = TestDataset(test_df) \n",
    "test_loader = DataLoader(test_dataset, batch_size=16, shuffle=False)\n"
   ]
  },
  {
   "cell_type": "code",
   "execution_count": 26,
   "id": "9353f55a",
   "metadata": {
    "execution": {
     "iopub.execute_input": "2025-02-20T12:48:48.750032Z",
     "iopub.status.busy": "2025-02-20T12:48:48.749628Z",
     "iopub.status.idle": "2025-02-20T12:48:52.560770Z",
     "shell.execute_reply": "2025-02-20T12:48:52.559554Z"
    },
    "papermill": {
     "duration": 3.921868,
     "end_time": "2025-02-20T12:48:52.562373",
     "exception": false,
     "start_time": "2025-02-20T12:48:48.640505",
     "status": "completed"
    },
    "tags": []
   },
   "outputs": [
    {
     "name": "stderr",
     "output_type": "stream",
     "text": [
      "Generating Predictions: 100%|██████████| 31/31 [00:03<00:00,  8.16it/s]\n"
     ]
    }
   ],
   "source": [
    "model.eval() \n",
    "\n",
    "predictions = []\n",
    "\n",
    "with torch.no_grad():\n",
    "    for input_ids, attention_mask, num_features, sample_ids in tqdm(test_loader, desc=\"Generating Predictions\"):\n",
    "        input_ids, attention_mask, num_features = (\n",
    "            input_ids.to(device), \n",
    "            attention_mask.to(device), \n",
    "            num_features.to(device)\n",
    "        )\n",
    "\n",
    "        outputs = model(input_ids, attention_mask, num_features)\n",
    "        preds = torch.argmax(outputs, dim=1).cpu().numpy()  # Convert logits to predicted class\n",
    "\n",
    "        for sample_id, pred in zip(sample_ids, preds):\n",
    "            predictions.append((sample_id.item(), pred))\n"
   ]
  },
  {
   "cell_type": "code",
   "execution_count": 27,
   "id": "40ce7d91",
   "metadata": {
    "execution": {
     "iopub.execute_input": "2025-02-20T12:48:52.852614Z",
     "iopub.status.busy": "2025-02-20T12:48:52.852233Z",
     "iopub.status.idle": "2025-02-20T12:48:52.867980Z",
     "shell.execute_reply": "2025-02-20T12:48:52.866768Z"
    },
    "papermill": {
     "duration": 0.124251,
     "end_time": "2025-02-20T12:48:52.869674",
     "exception": false,
     "start_time": "2025-02-20T12:48:52.745423",
     "status": "completed"
    },
    "tags": []
   },
   "outputs": [
    {
     "name": "stdout",
     "output_type": "stream",
     "text": [
      "Submission file saved as `submission.csv`!\n"
     ]
    }
   ],
   "source": [
    "submission_df = pd.DataFrame(predictions, columns=[\"id\", \"class_id\"])\n",
    "\n",
    "submission_df = submission_df.sort_values(by=\"id\")\n",
    "\n",
    "submission_df.to_csv(\"submission.csv\", index=False)\n",
    "\n",
    "print(\"Submission file saved as `submission.csv`!\")\n"
   ]
  },
  {
   "cell_type": "code",
   "execution_count": null,
   "id": "7f8890cf",
   "metadata": {
    "papermill": {
     "duration": 0.10791,
     "end_time": "2025-02-20T12:48:53.087356",
     "exception": false,
     "start_time": "2025-02-20T12:48:52.979446",
     "status": "completed"
    },
    "tags": []
   },
   "outputs": [],
   "source": []
  }
 ],
 "metadata": {
  "kaggle": {
   "accelerator": "gpu",
   "dataSources": [
    {
     "databundleVersionId": 11130088,
     "sourceId": 93449,
     "sourceType": "competition"
    }
   ],
   "dockerImageVersionId": 30887,
   "isGpuEnabled": true,
   "isInternetEnabled": true,
   "language": "python",
   "sourceType": "notebook"
  },
  "kernelspec": {
   "display_name": "Python 3",
   "language": "python",
   "name": "python3"
  },
  "language_info": {
   "codemirror_mode": {
    "name": "ipython",
    "version": 3
   },
   "file_extension": ".py",
   "mimetype": "text/x-python",
   "name": "python",
   "nbconvert_exporter": "python",
   "pygments_lexer": "ipython3",
   "version": "3.10.12"
  },
  "papermill": {
   "default_parameters": {},
   "duration": 504.164904,
   "end_time": "2025-02-20T12:48:55.980546",
   "environment_variables": {},
   "exception": null,
   "input_path": "__notebook__.ipynb",
   "output_path": "__notebook__.ipynb",
   "parameters": {},
   "start_time": "2025-02-20T12:40:31.815642",
   "version": "2.6.0"
  },
  "widgets": {
   "application/vnd.jupyter.widget-state+json": {
    "state": {
     "003f3e350ab14b5a99e476bd977f9d11": {
      "model_module": "@jupyter-widgets/controls",
      "model_module_version": "2.0.0",
      "model_name": "ProgressStyleModel",
      "state": {
       "_model_module": "@jupyter-widgets/controls",
       "_model_module_version": "2.0.0",
       "_model_name": "ProgressStyleModel",
       "_view_count": null,
       "_view_module": "@jupyter-widgets/base",
       "_view_module_version": "2.0.0",
       "_view_name": "StyleView",
       "bar_color": null,
       "description_width": ""
      }
     },
     "04c41773c6524180af732c6eb700d5a6": {
      "model_module": "@jupyter-widgets/controls",
      "model_module_version": "2.0.0",
      "model_name": "HBoxModel",
      "state": {
       "_dom_classes": [],
       "_model_module": "@jupyter-widgets/controls",
       "_model_module_version": "2.0.0",
       "_model_name": "HBoxModel",
       "_view_count": null,
       "_view_module": "@jupyter-widgets/controls",
       "_view_module_version": "2.0.0",
       "_view_name": "HBoxView",
       "box_style": "",
       "children": [
        "IPY_MODEL_8fd85597818940f4aa14cda9376057a9",
        "IPY_MODEL_fd8b203a9a774d458195b01c310c64a6",
        "IPY_MODEL_518c53f172ee4bf6a21f6e329c26d94e"
       ],
       "layout": "IPY_MODEL_b9dabbc5234c435e82f8f4854bdf171d",
       "tabbable": null,
       "tooltip": null
      }
     },
     "085614e51066495a934f969d969531a3": {
      "model_module": "@jupyter-widgets/controls",
      "model_module_version": "2.0.0",
      "model_name": "FloatProgressModel",
      "state": {
       "_dom_classes": [],
       "_model_module": "@jupyter-widgets/controls",
       "_model_module_version": "2.0.0",
       "_model_name": "FloatProgressModel",
       "_view_count": null,
       "_view_module": "@jupyter-widgets/controls",
       "_view_module_version": "2.0.0",
       "_view_name": "ProgressView",
       "bar_style": "success",
       "description": "",
       "description_allow_html": false,
       "layout": "IPY_MODEL_fc6216da1d87435b8bea96e8c113c9b9",
       "max": 48.0,
       "min": 0.0,
       "orientation": "horizontal",
       "style": "IPY_MODEL_003f3e350ab14b5a99e476bd977f9d11",
       "tabbable": null,
       "tooltip": null,
       "value": 48.0
      }
     },
     "118655e690ed4824adee94e589205a53": {
      "model_module": "@jupyter-widgets/base",
      "model_module_version": "2.0.0",
      "model_name": "LayoutModel",
      "state": {
       "_model_module": "@jupyter-widgets/base",
       "_model_module_version": "2.0.0",
       "_model_name": "LayoutModel",
       "_view_count": null,
       "_view_module": "@jupyter-widgets/base",
       "_view_module_version": "2.0.0",
       "_view_name": "LayoutView",
       "align_content": null,
       "align_items": null,
       "align_self": null,
       "border_bottom": null,
       "border_left": null,
       "border_right": null,
       "border_top": null,
       "bottom": null,
       "display": null,
       "flex": null,
       "flex_flow": null,
       "grid_area": null,
       "grid_auto_columns": null,
       "grid_auto_flow": null,
       "grid_auto_rows": null,
       "grid_column": null,
       "grid_gap": null,
       "grid_row": null,
       "grid_template_areas": null,
       "grid_template_columns": null,
       "grid_template_rows": null,
       "height": null,
       "justify_content": null,
       "justify_items": null,
       "left": null,
       "margin": null,
       "max_height": null,
       "max_width": null,
       "min_height": null,
       "min_width": null,
       "object_fit": null,
       "object_position": null,
       "order": null,
       "overflow": null,
       "padding": null,
       "right": null,
       "top": null,
       "visibility": null,
       "width": null
      }
     },
     "179fa0add1ed41fca6aef40b27395908": {
      "model_module": "@jupyter-widgets/controls",
      "model_module_version": "2.0.0",
      "model_name": "HTMLStyleModel",
      "state": {
       "_model_module": "@jupyter-widgets/controls",
       "_model_module_version": "2.0.0",
       "_model_name": "HTMLStyleModel",
       "_view_count": null,
       "_view_module": "@jupyter-widgets/base",
       "_view_module_version": "2.0.0",
       "_view_name": "StyleView",
       "background": null,
       "description_width": "",
       "font_size": null,
       "text_color": null
      }
     },
     "17ecb92f14024670a33dba6d52ff681f": {
      "model_module": "@jupyter-widgets/controls",
      "model_module_version": "2.0.0",
      "model_name": "HTMLStyleModel",
      "state": {
       "_model_module": "@jupyter-widgets/controls",
       "_model_module_version": "2.0.0",
       "_model_name": "HTMLStyleModel",
       "_view_count": null,
       "_view_module": "@jupyter-widgets/base",
       "_view_module_version": "2.0.0",
       "_view_name": "StyleView",
       "background": null,
       "description_width": "",
       "font_size": null,
       "text_color": null
      }
     },
     "1ac63489b5b3433caaf4485f409bbb05": {
      "model_module": "@jupyter-widgets/controls",
      "model_module_version": "2.0.0",
      "model_name": "HTMLStyleModel",
      "state": {
       "_model_module": "@jupyter-widgets/controls",
       "_model_module_version": "2.0.0",
       "_model_name": "HTMLStyleModel",
       "_view_count": null,
       "_view_module": "@jupyter-widgets/base",
       "_view_module_version": "2.0.0",
       "_view_name": "StyleView",
       "background": null,
       "description_width": "",
       "font_size": null,
       "text_color": null
      }
     },
     "3aef1a7f0af74307843ece4c1c058cad": {
      "model_module": "@jupyter-widgets/controls",
      "model_module_version": "2.0.0",
      "model_name": "HTMLModel",
      "state": {
       "_dom_classes": [],
       "_model_module": "@jupyter-widgets/controls",
       "_model_module_version": "2.0.0",
       "_model_name": "HTMLModel",
       "_view_count": null,
       "_view_module": "@jupyter-widgets/controls",
       "_view_module_version": "2.0.0",
       "_view_name": "HTMLView",
       "description": "",
       "description_allow_html": false,
       "layout": "IPY_MODEL_118655e690ed4824adee94e589205a53",
       "placeholder": "​",
       "style": "IPY_MODEL_17ecb92f14024670a33dba6d52ff681f",
       "tabbable": null,
       "tooltip": null,
       "value": "config.json: 100%"
      }
     },
     "3f230c2ef93a43cabf350e27a85af780": {
      "model_module": "@jupyter-widgets/controls",
      "model_module_version": "2.0.0",
      "model_name": "FloatProgressModel",
      "state": {
       "_dom_classes": [],
       "_model_module": "@jupyter-widgets/controls",
       "_model_module_version": "2.0.0",
       "_model_name": "FloatProgressModel",
       "_view_count": null,
       "_view_module": "@jupyter-widgets/controls",
       "_view_module_version": "2.0.0",
       "_view_name": "ProgressView",
       "bar_style": "success",
       "description": "",
       "description_allow_html": false,
       "layout": "IPY_MODEL_f9202800670c4c74b6669ca983995350",
       "max": 231508.0,
       "min": 0.0,
       "orientation": "horizontal",
       "style": "IPY_MODEL_f78c1867bd8742e2b4509c8e6246c5c7",
       "tabbable": null,
       "tooltip": null,
       "value": 231508.0
      }
     },
     "45c6a0bbf50c49be93ae0780c82fd923": {
      "model_module": "@jupyter-widgets/controls",
      "model_module_version": "2.0.0",
      "model_name": "HTMLStyleModel",
      "state": {
       "_model_module": "@jupyter-widgets/controls",
       "_model_module_version": "2.0.0",
       "_model_name": "HTMLStyleModel",
       "_view_count": null,
       "_view_module": "@jupyter-widgets/base",
       "_view_module_version": "2.0.0",
       "_view_name": "StyleView",
       "background": null,
       "description_width": "",
       "font_size": null,
       "text_color": null
      }
     },
     "49095339fd4242ba8aec6b4fadf49030": {
      "model_module": "@jupyter-widgets/controls",
      "model_module_version": "2.0.0",
      "model_name": "HTMLModel",
      "state": {
       "_dom_classes": [],
       "_model_module": "@jupyter-widgets/controls",
       "_model_module_version": "2.0.0",
       "_model_name": "HTMLModel",
       "_view_count": null,
       "_view_module": "@jupyter-widgets/controls",
       "_view_module_version": "2.0.0",
       "_view_name": "HTMLView",
       "description": "",
       "description_allow_html": false,
       "layout": "IPY_MODEL_f7b749fe4320497e9220fcfe02a057a3",
       "placeholder": "​",
       "style": "IPY_MODEL_45c6a0bbf50c49be93ae0780c82fd923",
       "tabbable": null,
       "tooltip": null,
       "value": " 48.0/48.0 [00:00&lt;00:00, 4.11kB/s]"
      }
     },
     "490ac013a741453285abe87f42e613d9": {
      "model_module": "@jupyter-widgets/base",
      "model_module_version": "2.0.0",
      "model_name": "LayoutModel",
      "state": {
       "_model_module": "@jupyter-widgets/base",
       "_model_module_version": "2.0.0",
       "_model_name": "LayoutModel",
       "_view_count": null,
       "_view_module": "@jupyter-widgets/base",
       "_view_module_version": "2.0.0",
       "_view_name": "LayoutView",
       "align_content": null,
       "align_items": null,
       "align_self": null,
       "border_bottom": null,
       "border_left": null,
       "border_right": null,
       "border_top": null,
       "bottom": null,
       "display": null,
       "flex": null,
       "flex_flow": null,
       "grid_area": null,
       "grid_auto_columns": null,
       "grid_auto_flow": null,
       "grid_auto_rows": null,
       "grid_column": null,
       "grid_gap": null,
       "grid_row": null,
       "grid_template_areas": null,
       "grid_template_columns": null,
       "grid_template_rows": null,
       "height": null,
       "justify_content": null,
       "justify_items": null,
       "left": null,
       "margin": null,
       "max_height": null,
       "max_width": null,
       "min_height": null,
       "min_width": null,
       "object_fit": null,
       "object_position": null,
       "order": null,
       "overflow": null,
       "padding": null,
       "right": null,
       "top": null,
       "visibility": null,
       "width": null
      }
     },
     "50dd2d378cbe45b19844eb47d3bb6122": {
      "model_module": "@jupyter-widgets/base",
      "model_module_version": "2.0.0",
      "model_name": "LayoutModel",
      "state": {
       "_model_module": "@jupyter-widgets/base",
       "_model_module_version": "2.0.0",
       "_model_name": "LayoutModel",
       "_view_count": null,
       "_view_module": "@jupyter-widgets/base",
       "_view_module_version": "2.0.0",
       "_view_name": "LayoutView",
       "align_content": null,
       "align_items": null,
       "align_self": null,
       "border_bottom": null,
       "border_left": null,
       "border_right": null,
       "border_top": null,
       "bottom": null,
       "display": null,
       "flex": null,
       "flex_flow": null,
       "grid_area": null,
       "grid_auto_columns": null,
       "grid_auto_flow": null,
       "grid_auto_rows": null,
       "grid_column": null,
       "grid_gap": null,
       "grid_row": null,
       "grid_template_areas": null,
       "grid_template_columns": null,
       "grid_template_rows": null,
       "height": null,
       "justify_content": null,
       "justify_items": null,
       "left": null,
       "margin": null,
       "max_height": null,
       "max_width": null,
       "min_height": null,
       "min_width": null,
       "object_fit": null,
       "object_position": null,
       "order": null,
       "overflow": null,
       "padding": null,
       "right": null,
       "top": null,
       "visibility": null,
       "width": null
      }
     },
     "518c53f172ee4bf6a21f6e329c26d94e": {
      "model_module": "@jupyter-widgets/controls",
      "model_module_version": "2.0.0",
      "model_name": "HTMLModel",
      "state": {
       "_dom_classes": [],
       "_model_module": "@jupyter-widgets/controls",
       "_model_module_version": "2.0.0",
       "_model_name": "HTMLModel",
       "_view_count": null,
       "_view_module": "@jupyter-widgets/controls",
       "_view_module_version": "2.0.0",
       "_view_name": "HTMLView",
       "description": "",
       "description_allow_html": false,
       "layout": "IPY_MODEL_646f0ab14bc74ddcb42152b41aa786f9",
       "placeholder": "​",
       "style": "IPY_MODEL_179fa0add1ed41fca6aef40b27395908",
       "tabbable": null,
       "tooltip": null,
       "value": " 466k/466k [00:00&lt;00:00, 24.1MB/s]"
      }
     },
     "5df80a75f0674f1db5bd2bbf8f787d00": {
      "model_module": "@jupyter-widgets/base",
      "model_module_version": "2.0.0",
      "model_name": "LayoutModel",
      "state": {
       "_model_module": "@jupyter-widgets/base",
       "_model_module_version": "2.0.0",
       "_model_name": "LayoutModel",
       "_view_count": null,
       "_view_module": "@jupyter-widgets/base",
       "_view_module_version": "2.0.0",
       "_view_name": "LayoutView",
       "align_content": null,
       "align_items": null,
       "align_self": null,
       "border_bottom": null,
       "border_left": null,
       "border_right": null,
       "border_top": null,
       "bottom": null,
       "display": null,
       "flex": null,
       "flex_flow": null,
       "grid_area": null,
       "grid_auto_columns": null,
       "grid_auto_flow": null,
       "grid_auto_rows": null,
       "grid_column": null,
       "grid_gap": null,
       "grid_row": null,
       "grid_template_areas": null,
       "grid_template_columns": null,
       "grid_template_rows": null,
       "height": null,
       "justify_content": null,
       "justify_items": null,
       "left": null,
       "margin": null,
       "max_height": null,
       "max_width": null,
       "min_height": null,
       "min_width": null,
       "object_fit": null,
       "object_position": null,
       "order": null,
       "overflow": null,
       "padding": null,
       "right": null,
       "top": null,
       "visibility": null,
       "width": null
      }
     },
     "5f31d613707b4bdcaeaa2ca20b6bf889": {
      "model_module": "@jupyter-widgets/controls",
      "model_module_version": "2.0.0",
      "model_name": "ProgressStyleModel",
      "state": {
       "_model_module": "@jupyter-widgets/controls",
       "_model_module_version": "2.0.0",
       "_model_name": "ProgressStyleModel",
       "_view_count": null,
       "_view_module": "@jupyter-widgets/base",
       "_view_module_version": "2.0.0",
       "_view_name": "StyleView",
       "bar_color": null,
       "description_width": ""
      }
     },
     "5fc3c21fce954ca4844b3ce8966e461d": {
      "model_module": "@jupyter-widgets/base",
      "model_module_version": "2.0.0",
      "model_name": "LayoutModel",
      "state": {
       "_model_module": "@jupyter-widgets/base",
       "_model_module_version": "2.0.0",
       "_model_name": "LayoutModel",
       "_view_count": null,
       "_view_module": "@jupyter-widgets/base",
       "_view_module_version": "2.0.0",
       "_view_name": "LayoutView",
       "align_content": null,
       "align_items": null,
       "align_self": null,
       "border_bottom": null,
       "border_left": null,
       "border_right": null,
       "border_top": null,
       "bottom": null,
       "display": null,
       "flex": null,
       "flex_flow": null,
       "grid_area": null,
       "grid_auto_columns": null,
       "grid_auto_flow": null,
       "grid_auto_rows": null,
       "grid_column": null,
       "grid_gap": null,
       "grid_row": null,
       "grid_template_areas": null,
       "grid_template_columns": null,
       "grid_template_rows": null,
       "height": null,
       "justify_content": null,
       "justify_items": null,
       "left": null,
       "margin": null,
       "max_height": null,
       "max_width": null,
       "min_height": null,
       "min_width": null,
       "object_fit": null,
       "object_position": null,
       "order": null,
       "overflow": null,
       "padding": null,
       "right": null,
       "top": null,
       "visibility": null,
       "width": null
      }
     },
     "61fbc72890ff41de8b445e24e921c300": {
      "model_module": "@jupyter-widgets/controls",
      "model_module_version": "2.0.0",
      "model_name": "FloatProgressModel",
      "state": {
       "_dom_classes": [],
       "_model_module": "@jupyter-widgets/controls",
       "_model_module_version": "2.0.0",
       "_model_name": "FloatProgressModel",
       "_view_count": null,
       "_view_module": "@jupyter-widgets/controls",
       "_view_module_version": "2.0.0",
       "_view_name": "ProgressView",
       "bar_style": "success",
       "description": "",
       "description_allow_html": false,
       "layout": "IPY_MODEL_cfd9bff3af094f3a957bc202ad364227",
       "max": 440449768.0,
       "min": 0.0,
       "orientation": "horizontal",
       "style": "IPY_MODEL_ff622db3c9f246e8a0ac658ee1a59647",
       "tabbable": null,
       "tooltip": null,
       "value": 440449768.0
      }
     },
     "646f0ab14bc74ddcb42152b41aa786f9": {
      "model_module": "@jupyter-widgets/base",
      "model_module_version": "2.0.0",
      "model_name": "LayoutModel",
      "state": {
       "_model_module": "@jupyter-widgets/base",
       "_model_module_version": "2.0.0",
       "_model_name": "LayoutModel",
       "_view_count": null,
       "_view_module": "@jupyter-widgets/base",
       "_view_module_version": "2.0.0",
       "_view_name": "LayoutView",
       "align_content": null,
       "align_items": null,
       "align_self": null,
       "border_bottom": null,
       "border_left": null,
       "border_right": null,
       "border_top": null,
       "bottom": null,
       "display": null,
       "flex": null,
       "flex_flow": null,
       "grid_area": null,
       "grid_auto_columns": null,
       "grid_auto_flow": null,
       "grid_auto_rows": null,
       "grid_column": null,
       "grid_gap": null,
       "grid_row": null,
       "grid_template_areas": null,
       "grid_template_columns": null,
       "grid_template_rows": null,
       "height": null,
       "justify_content": null,
       "justify_items": null,
       "left": null,
       "margin": null,
       "max_height": null,
       "max_width": null,
       "min_height": null,
       "min_width": null,
       "object_fit": null,
       "object_position": null,
       "order": null,
       "overflow": null,
       "padding": null,
       "right": null,
       "top": null,
       "visibility": null,
       "width": null
      }
     },
     "6662c010cf454c548990713b5c54d4c1": {
      "model_module": "@jupyter-widgets/controls",
      "model_module_version": "2.0.0",
      "model_name": "HBoxModel",
      "state": {
       "_dom_classes": [],
       "_model_module": "@jupyter-widgets/controls",
       "_model_module_version": "2.0.0",
       "_model_name": "HBoxModel",
       "_view_count": null,
       "_view_module": "@jupyter-widgets/controls",
       "_view_module_version": "2.0.0",
       "_view_name": "HBoxView",
       "box_style": "",
       "children": [
        "IPY_MODEL_9aba131fe4084934b7ec56c2f439dfd3",
        "IPY_MODEL_61fbc72890ff41de8b445e24e921c300",
        "IPY_MODEL_b077e034d2e948c9afad2450fda2ff75"
       ],
       "layout": "IPY_MODEL_50dd2d378cbe45b19844eb47d3bb6122",
       "tabbable": null,
       "tooltip": null
      }
     },
     "66f73d0ff8c84dd6be9455cd44fc6d19": {
      "model_module": "@jupyter-widgets/base",
      "model_module_version": "2.0.0",
      "model_name": "LayoutModel",
      "state": {
       "_model_module": "@jupyter-widgets/base",
       "_model_module_version": "2.0.0",
       "_model_name": "LayoutModel",
       "_view_count": null,
       "_view_module": "@jupyter-widgets/base",
       "_view_module_version": "2.0.0",
       "_view_name": "LayoutView",
       "align_content": null,
       "align_items": null,
       "align_self": null,
       "border_bottom": null,
       "border_left": null,
       "border_right": null,
       "border_top": null,
       "bottom": null,
       "display": null,
       "flex": null,
       "flex_flow": null,
       "grid_area": null,
       "grid_auto_columns": null,
       "grid_auto_flow": null,
       "grid_auto_rows": null,
       "grid_column": null,
       "grid_gap": null,
       "grid_row": null,
       "grid_template_areas": null,
       "grid_template_columns": null,
       "grid_template_rows": null,
       "height": null,
       "justify_content": null,
       "justify_items": null,
       "left": null,
       "margin": null,
       "max_height": null,
       "max_width": null,
       "min_height": null,
       "min_width": null,
       "object_fit": null,
       "object_position": null,
       "order": null,
       "overflow": null,
       "padding": null,
       "right": null,
       "top": null,
       "visibility": null,
       "width": null
      }
     },
     "6ac4e93ebbc743f8b510e289cd310268": {
      "model_module": "@jupyter-widgets/base",
      "model_module_version": "2.0.0",
      "model_name": "LayoutModel",
      "state": {
       "_model_module": "@jupyter-widgets/base",
       "_model_module_version": "2.0.0",
       "_model_name": "LayoutModel",
       "_view_count": null,
       "_view_module": "@jupyter-widgets/base",
       "_view_module_version": "2.0.0",
       "_view_name": "LayoutView",
       "align_content": null,
       "align_items": null,
       "align_self": null,
       "border_bottom": null,
       "border_left": null,
       "border_right": null,
       "border_top": null,
       "bottom": null,
       "display": null,
       "flex": null,
       "flex_flow": null,
       "grid_area": null,
       "grid_auto_columns": null,
       "grid_auto_flow": null,
       "grid_auto_rows": null,
       "grid_column": null,
       "grid_gap": null,
       "grid_row": null,
       "grid_template_areas": null,
       "grid_template_columns": null,
       "grid_template_rows": null,
       "height": null,
       "justify_content": null,
       "justify_items": null,
       "left": null,
       "margin": null,
       "max_height": null,
       "max_width": null,
       "min_height": null,
       "min_width": null,
       "object_fit": null,
       "object_position": null,
       "order": null,
       "overflow": null,
       "padding": null,
       "right": null,
       "top": null,
       "visibility": null,
       "width": null
      }
     },
     "6ed0116e5840408f8795abf711ed7e58": {
      "model_module": "@jupyter-widgets/controls",
      "model_module_version": "2.0.0",
      "model_name": "HTMLModel",
      "state": {
       "_dom_classes": [],
       "_model_module": "@jupyter-widgets/controls",
       "_model_module_version": "2.0.0",
       "_model_name": "HTMLModel",
       "_view_count": null,
       "_view_module": "@jupyter-widgets/controls",
       "_view_module_version": "2.0.0",
       "_view_name": "HTMLView",
       "description": "",
       "description_allow_html": false,
       "layout": "IPY_MODEL_d4e283b4d38241858b704b5b1020749d",
       "placeholder": "​",
       "style": "IPY_MODEL_c0f7d079dbc64b6e8d7bdfd5c9ccb0de",
       "tabbable": null,
       "tooltip": null,
       "value": "tokenizer_config.json: 100%"
      }
     },
     "70ff1f4d68444a05a35dd3636b1e024d": {
      "model_module": "@jupyter-widgets/controls",
      "model_module_version": "2.0.0",
      "model_name": "HBoxModel",
      "state": {
       "_dom_classes": [],
       "_model_module": "@jupyter-widgets/controls",
       "_model_module_version": "2.0.0",
       "_model_name": "HBoxModel",
       "_view_count": null,
       "_view_module": "@jupyter-widgets/controls",
       "_view_module_version": "2.0.0",
       "_view_name": "HBoxView",
       "box_style": "",
       "children": [
        "IPY_MODEL_6ed0116e5840408f8795abf711ed7e58",
        "IPY_MODEL_085614e51066495a934f969d969531a3",
        "IPY_MODEL_49095339fd4242ba8aec6b4fadf49030"
       ],
       "layout": "IPY_MODEL_f1ded2356d9843338d48b57661951f96",
       "tabbable": null,
       "tooltip": null
      }
     },
     "71045a221dc646c997ea3c220f353110": {
      "model_module": "@jupyter-widgets/controls",
      "model_module_version": "2.0.0",
      "model_name": "HTMLModel",
      "state": {
       "_dom_classes": [],
       "_model_module": "@jupyter-widgets/controls",
       "_model_module_version": "2.0.0",
       "_model_name": "HTMLModel",
       "_view_count": null,
       "_view_module": "@jupyter-widgets/controls",
       "_view_module_version": "2.0.0",
       "_view_name": "HTMLView",
       "description": "",
       "description_allow_html": false,
       "layout": "IPY_MODEL_c63d3185ef35482fb1130f329a860c20",
       "placeholder": "​",
       "style": "IPY_MODEL_1ac63489b5b3433caaf4485f409bbb05",
       "tabbable": null,
       "tooltip": null,
       "value": " 232k/232k [00:00&lt;00:00, 4.81MB/s]"
      }
     },
     "7395724f2fb849f4835e077cb3f61d56": {
      "model_module": "@jupyter-widgets/controls",
      "model_module_version": "2.0.0",
      "model_name": "HTMLStyleModel",
      "state": {
       "_model_module": "@jupyter-widgets/controls",
       "_model_module_version": "2.0.0",
       "_model_name": "HTMLStyleModel",
       "_view_count": null,
       "_view_module": "@jupyter-widgets/base",
       "_view_module_version": "2.0.0",
       "_view_name": "StyleView",
       "background": null,
       "description_width": "",
       "font_size": null,
       "text_color": null
      }
     },
     "8fd85597818940f4aa14cda9376057a9": {
      "model_module": "@jupyter-widgets/controls",
      "model_module_version": "2.0.0",
      "model_name": "HTMLModel",
      "state": {
       "_dom_classes": [],
       "_model_module": "@jupyter-widgets/controls",
       "_model_module_version": "2.0.0",
       "_model_name": "HTMLModel",
       "_view_count": null,
       "_view_module": "@jupyter-widgets/controls",
       "_view_module_version": "2.0.0",
       "_view_name": "HTMLView",
       "description": "",
       "description_allow_html": false,
       "layout": "IPY_MODEL_d52870d8154e4426abd4d3b2967e971c",
       "placeholder": "​",
       "style": "IPY_MODEL_93495ddf6f3f4294be7f3a22c87c9c5a",
       "tabbable": null,
       "tooltip": null,
       "value": "tokenizer.json: 100%"
      }
     },
     "93495ddf6f3f4294be7f3a22c87c9c5a": {
      "model_module": "@jupyter-widgets/controls",
      "model_module_version": "2.0.0",
      "model_name": "HTMLStyleModel",
      "state": {
       "_model_module": "@jupyter-widgets/controls",
       "_model_module_version": "2.0.0",
       "_model_name": "HTMLStyleModel",
       "_view_count": null,
       "_view_module": "@jupyter-widgets/base",
       "_view_module_version": "2.0.0",
       "_view_name": "StyleView",
       "background": null,
       "description_width": "",
       "font_size": null,
       "text_color": null
      }
     },
     "9aba131fe4084934b7ec56c2f439dfd3": {
      "model_module": "@jupyter-widgets/controls",
      "model_module_version": "2.0.0",
      "model_name": "HTMLModel",
      "state": {
       "_dom_classes": [],
       "_model_module": "@jupyter-widgets/controls",
       "_model_module_version": "2.0.0",
       "_model_name": "HTMLModel",
       "_view_count": null,
       "_view_module": "@jupyter-widgets/controls",
       "_view_module_version": "2.0.0",
       "_view_name": "HTMLView",
       "description": "",
       "description_allow_html": false,
       "layout": "IPY_MODEL_6ac4e93ebbc743f8b510e289cd310268",
       "placeholder": "​",
       "style": "IPY_MODEL_a6da13abca6a44a39ea99233122b0b43",
       "tabbable": null,
       "tooltip": null,
       "value": "model.safetensors: 100%"
      }
     },
     "a68c5e2e6e3643bfbd589b578feeaf77": {
      "model_module": "@jupyter-widgets/controls",
      "model_module_version": "2.0.0",
      "model_name": "HTMLStyleModel",
      "state": {
       "_model_module": "@jupyter-widgets/controls",
       "_model_module_version": "2.0.0",
       "_model_name": "HTMLStyleModel",
       "_view_count": null,
       "_view_module": "@jupyter-widgets/base",
       "_view_module_version": "2.0.0",
       "_view_name": "StyleView",
       "background": null,
       "description_width": "",
       "font_size": null,
       "text_color": null
      }
     },
     "a6da13abca6a44a39ea99233122b0b43": {
      "model_module": "@jupyter-widgets/controls",
      "model_module_version": "2.0.0",
      "model_name": "HTMLStyleModel",
      "state": {
       "_model_module": "@jupyter-widgets/controls",
       "_model_module_version": "2.0.0",
       "_model_name": "HTMLStyleModel",
       "_view_count": null,
       "_view_module": "@jupyter-widgets/base",
       "_view_module_version": "2.0.0",
       "_view_name": "StyleView",
       "background": null,
       "description_width": "",
       "font_size": null,
       "text_color": null
      }
     },
     "b077e034d2e948c9afad2450fda2ff75": {
      "model_module": "@jupyter-widgets/controls",
      "model_module_version": "2.0.0",
      "model_name": "HTMLModel",
      "state": {
       "_dom_classes": [],
       "_model_module": "@jupyter-widgets/controls",
       "_model_module_version": "2.0.0",
       "_model_name": "HTMLModel",
       "_view_count": null,
       "_view_module": "@jupyter-widgets/controls",
       "_view_module_version": "2.0.0",
       "_view_name": "HTMLView",
       "description": "",
       "description_allow_html": false,
       "layout": "IPY_MODEL_5df80a75f0674f1db5bd2bbf8f787d00",
       "placeholder": "​",
       "style": "IPY_MODEL_bd039ab7745046adaa3a04853c359560",
       "tabbable": null,
       "tooltip": null,
       "value": " 440M/440M [00:01&lt;00:00, 235MB/s]"
      }
     },
     "b2f625c86f1647b8b29552de607d0933": {
      "model_module": "@jupyter-widgets/controls",
      "model_module_version": "2.0.0",
      "model_name": "HTMLModel",
      "state": {
       "_dom_classes": [],
       "_model_module": "@jupyter-widgets/controls",
       "_model_module_version": "2.0.0",
       "_model_name": "HTMLModel",
       "_view_count": null,
       "_view_module": "@jupyter-widgets/controls",
       "_view_module_version": "2.0.0",
       "_view_name": "HTMLView",
       "description": "",
       "description_allow_html": false,
       "layout": "IPY_MODEL_f8c8345a6bd24e1184c323bcce2816df",
       "placeholder": "​",
       "style": "IPY_MODEL_7395724f2fb849f4835e077cb3f61d56",
       "tabbable": null,
       "tooltip": null,
       "value": " 570/570 [00:00&lt;00:00, 48.3kB/s]"
      }
     },
     "b9dabbc5234c435e82f8f4854bdf171d": {
      "model_module": "@jupyter-widgets/base",
      "model_module_version": "2.0.0",
      "model_name": "LayoutModel",
      "state": {
       "_model_module": "@jupyter-widgets/base",
       "_model_module_version": "2.0.0",
       "_model_name": "LayoutModel",
       "_view_count": null,
       "_view_module": "@jupyter-widgets/base",
       "_view_module_version": "2.0.0",
       "_view_name": "LayoutView",
       "align_content": null,
       "align_items": null,
       "align_self": null,
       "border_bottom": null,
       "border_left": null,
       "border_right": null,
       "border_top": null,
       "bottom": null,
       "display": null,
       "flex": null,
       "flex_flow": null,
       "grid_area": null,
       "grid_auto_columns": null,
       "grid_auto_flow": null,
       "grid_auto_rows": null,
       "grid_column": null,
       "grid_gap": null,
       "grid_row": null,
       "grid_template_areas": null,
       "grid_template_columns": null,
       "grid_template_rows": null,
       "height": null,
       "justify_content": null,
       "justify_items": null,
       "left": null,
       "margin": null,
       "max_height": null,
       "max_width": null,
       "min_height": null,
       "min_width": null,
       "object_fit": null,
       "object_position": null,
       "order": null,
       "overflow": null,
       "padding": null,
       "right": null,
       "top": null,
       "visibility": null,
       "width": null
      }
     },
     "b9ff8343d513459eb021cdd7de446ad7": {
      "model_module": "@jupyter-widgets/controls",
      "model_module_version": "2.0.0",
      "model_name": "HBoxModel",
      "state": {
       "_dom_classes": [],
       "_model_module": "@jupyter-widgets/controls",
       "_model_module_version": "2.0.0",
       "_model_name": "HBoxModel",
       "_view_count": null,
       "_view_module": "@jupyter-widgets/controls",
       "_view_module_version": "2.0.0",
       "_view_name": "HBoxView",
       "box_style": "",
       "children": [
        "IPY_MODEL_d6586e3ac461481388d402f473a48cc8",
        "IPY_MODEL_3f230c2ef93a43cabf350e27a85af780",
        "IPY_MODEL_71045a221dc646c997ea3c220f353110"
       ],
       "layout": "IPY_MODEL_e250413e67274880abc9da22375d98e9",
       "tabbable": null,
       "tooltip": null
      }
     },
     "bd039ab7745046adaa3a04853c359560": {
      "model_module": "@jupyter-widgets/controls",
      "model_module_version": "2.0.0",
      "model_name": "HTMLStyleModel",
      "state": {
       "_model_module": "@jupyter-widgets/controls",
       "_model_module_version": "2.0.0",
       "_model_name": "HTMLStyleModel",
       "_view_count": null,
       "_view_module": "@jupyter-widgets/base",
       "_view_module_version": "2.0.0",
       "_view_name": "StyleView",
       "background": null,
       "description_width": "",
       "font_size": null,
       "text_color": null
      }
     },
     "c0f7d079dbc64b6e8d7bdfd5c9ccb0de": {
      "model_module": "@jupyter-widgets/controls",
      "model_module_version": "2.0.0",
      "model_name": "HTMLStyleModel",
      "state": {
       "_model_module": "@jupyter-widgets/controls",
       "_model_module_version": "2.0.0",
       "_model_name": "HTMLStyleModel",
       "_view_count": null,
       "_view_module": "@jupyter-widgets/base",
       "_view_module_version": "2.0.0",
       "_view_name": "StyleView",
       "background": null,
       "description_width": "",
       "font_size": null,
       "text_color": null
      }
     },
     "c63d3185ef35482fb1130f329a860c20": {
      "model_module": "@jupyter-widgets/base",
      "model_module_version": "2.0.0",
      "model_name": "LayoutModel",
      "state": {
       "_model_module": "@jupyter-widgets/base",
       "_model_module_version": "2.0.0",
       "_model_name": "LayoutModel",
       "_view_count": null,
       "_view_module": "@jupyter-widgets/base",
       "_view_module_version": "2.0.0",
       "_view_name": "LayoutView",
       "align_content": null,
       "align_items": null,
       "align_self": null,
       "border_bottom": null,
       "border_left": null,
       "border_right": null,
       "border_top": null,
       "bottom": null,
       "display": null,
       "flex": null,
       "flex_flow": null,
       "grid_area": null,
       "grid_auto_columns": null,
       "grid_auto_flow": null,
       "grid_auto_rows": null,
       "grid_column": null,
       "grid_gap": null,
       "grid_row": null,
       "grid_template_areas": null,
       "grid_template_columns": null,
       "grid_template_rows": null,
       "height": null,
       "justify_content": null,
       "justify_items": null,
       "left": null,
       "margin": null,
       "max_height": null,
       "max_width": null,
       "min_height": null,
       "min_width": null,
       "object_fit": null,
       "object_position": null,
       "order": null,
       "overflow": null,
       "padding": null,
       "right": null,
       "top": null,
       "visibility": null,
       "width": null
      }
     },
     "cfd9bff3af094f3a957bc202ad364227": {
      "model_module": "@jupyter-widgets/base",
      "model_module_version": "2.0.0",
      "model_name": "LayoutModel",
      "state": {
       "_model_module": "@jupyter-widgets/base",
       "_model_module_version": "2.0.0",
       "_model_name": "LayoutModel",
       "_view_count": null,
       "_view_module": "@jupyter-widgets/base",
       "_view_module_version": "2.0.0",
       "_view_name": "LayoutView",
       "align_content": null,
       "align_items": null,
       "align_self": null,
       "border_bottom": null,
       "border_left": null,
       "border_right": null,
       "border_top": null,
       "bottom": null,
       "display": null,
       "flex": null,
       "flex_flow": null,
       "grid_area": null,
       "grid_auto_columns": null,
       "grid_auto_flow": null,
       "grid_auto_rows": null,
       "grid_column": null,
       "grid_gap": null,
       "grid_row": null,
       "grid_template_areas": null,
       "grid_template_columns": null,
       "grid_template_rows": null,
       "height": null,
       "justify_content": null,
       "justify_items": null,
       "left": null,
       "margin": null,
       "max_height": null,
       "max_width": null,
       "min_height": null,
       "min_width": null,
       "object_fit": null,
       "object_position": null,
       "order": null,
       "overflow": null,
       "padding": null,
       "right": null,
       "top": null,
       "visibility": null,
       "width": null
      }
     },
     "d4e283b4d38241858b704b5b1020749d": {
      "model_module": "@jupyter-widgets/base",
      "model_module_version": "2.0.0",
      "model_name": "LayoutModel",
      "state": {
       "_model_module": "@jupyter-widgets/base",
       "_model_module_version": "2.0.0",
       "_model_name": "LayoutModel",
       "_view_count": null,
       "_view_module": "@jupyter-widgets/base",
       "_view_module_version": "2.0.0",
       "_view_name": "LayoutView",
       "align_content": null,
       "align_items": null,
       "align_self": null,
       "border_bottom": null,
       "border_left": null,
       "border_right": null,
       "border_top": null,
       "bottom": null,
       "display": null,
       "flex": null,
       "flex_flow": null,
       "grid_area": null,
       "grid_auto_columns": null,
       "grid_auto_flow": null,
       "grid_auto_rows": null,
       "grid_column": null,
       "grid_gap": null,
       "grid_row": null,
       "grid_template_areas": null,
       "grid_template_columns": null,
       "grid_template_rows": null,
       "height": null,
       "justify_content": null,
       "justify_items": null,
       "left": null,
       "margin": null,
       "max_height": null,
       "max_width": null,
       "min_height": null,
       "min_width": null,
       "object_fit": null,
       "object_position": null,
       "order": null,
       "overflow": null,
       "padding": null,
       "right": null,
       "top": null,
       "visibility": null,
       "width": null
      }
     },
     "d52870d8154e4426abd4d3b2967e971c": {
      "model_module": "@jupyter-widgets/base",
      "model_module_version": "2.0.0",
      "model_name": "LayoutModel",
      "state": {
       "_model_module": "@jupyter-widgets/base",
       "_model_module_version": "2.0.0",
       "_model_name": "LayoutModel",
       "_view_count": null,
       "_view_module": "@jupyter-widgets/base",
       "_view_module_version": "2.0.0",
       "_view_name": "LayoutView",
       "align_content": null,
       "align_items": null,
       "align_self": null,
       "border_bottom": null,
       "border_left": null,
       "border_right": null,
       "border_top": null,
       "bottom": null,
       "display": null,
       "flex": null,
       "flex_flow": null,
       "grid_area": null,
       "grid_auto_columns": null,
       "grid_auto_flow": null,
       "grid_auto_rows": null,
       "grid_column": null,
       "grid_gap": null,
       "grid_row": null,
       "grid_template_areas": null,
       "grid_template_columns": null,
       "grid_template_rows": null,
       "height": null,
       "justify_content": null,
       "justify_items": null,
       "left": null,
       "margin": null,
       "max_height": null,
       "max_width": null,
       "min_height": null,
       "min_width": null,
       "object_fit": null,
       "object_position": null,
       "order": null,
       "overflow": null,
       "padding": null,
       "right": null,
       "top": null,
       "visibility": null,
       "width": null
      }
     },
     "d6586e3ac461481388d402f473a48cc8": {
      "model_module": "@jupyter-widgets/controls",
      "model_module_version": "2.0.0",
      "model_name": "HTMLModel",
      "state": {
       "_dom_classes": [],
       "_model_module": "@jupyter-widgets/controls",
       "_model_module_version": "2.0.0",
       "_model_name": "HTMLModel",
       "_view_count": null,
       "_view_module": "@jupyter-widgets/controls",
       "_view_module_version": "2.0.0",
       "_view_name": "HTMLView",
       "description": "",
       "description_allow_html": false,
       "layout": "IPY_MODEL_490ac013a741453285abe87f42e613d9",
       "placeholder": "​",
       "style": "IPY_MODEL_a68c5e2e6e3643bfbd589b578feeaf77",
       "tabbable": null,
       "tooltip": null,
       "value": "vocab.txt: 100%"
      }
     },
     "e250413e67274880abc9da22375d98e9": {
      "model_module": "@jupyter-widgets/base",
      "model_module_version": "2.0.0",
      "model_name": "LayoutModel",
      "state": {
       "_model_module": "@jupyter-widgets/base",
       "_model_module_version": "2.0.0",
       "_model_name": "LayoutModel",
       "_view_count": null,
       "_view_module": "@jupyter-widgets/base",
       "_view_module_version": "2.0.0",
       "_view_name": "LayoutView",
       "align_content": null,
       "align_items": null,
       "align_self": null,
       "border_bottom": null,
       "border_left": null,
       "border_right": null,
       "border_top": null,
       "bottom": null,
       "display": null,
       "flex": null,
       "flex_flow": null,
       "grid_area": null,
       "grid_auto_columns": null,
       "grid_auto_flow": null,
       "grid_auto_rows": null,
       "grid_column": null,
       "grid_gap": null,
       "grid_row": null,
       "grid_template_areas": null,
       "grid_template_columns": null,
       "grid_template_rows": null,
       "height": null,
       "justify_content": null,
       "justify_items": null,
       "left": null,
       "margin": null,
       "max_height": null,
       "max_width": null,
       "min_height": null,
       "min_width": null,
       "object_fit": null,
       "object_position": null,
       "order": null,
       "overflow": null,
       "padding": null,
       "right": null,
       "top": null,
       "visibility": null,
       "width": null
      }
     },
     "e40c468928f84d2b856bbecb193a6870": {
      "model_module": "@jupyter-widgets/controls",
      "model_module_version": "2.0.0",
      "model_name": "ProgressStyleModel",
      "state": {
       "_model_module": "@jupyter-widgets/controls",
       "_model_module_version": "2.0.0",
       "_model_name": "ProgressStyleModel",
       "_view_count": null,
       "_view_module": "@jupyter-widgets/base",
       "_view_module_version": "2.0.0",
       "_view_name": "StyleView",
       "bar_color": null,
       "description_width": ""
      }
     },
     "f1ded2356d9843338d48b57661951f96": {
      "model_module": "@jupyter-widgets/base",
      "model_module_version": "2.0.0",
      "model_name": "LayoutModel",
      "state": {
       "_model_module": "@jupyter-widgets/base",
       "_model_module_version": "2.0.0",
       "_model_name": "LayoutModel",
       "_view_count": null,
       "_view_module": "@jupyter-widgets/base",
       "_view_module_version": "2.0.0",
       "_view_name": "LayoutView",
       "align_content": null,
       "align_items": null,
       "align_self": null,
       "border_bottom": null,
       "border_left": null,
       "border_right": null,
       "border_top": null,
       "bottom": null,
       "display": null,
       "flex": null,
       "flex_flow": null,
       "grid_area": null,
       "grid_auto_columns": null,
       "grid_auto_flow": null,
       "grid_auto_rows": null,
       "grid_column": null,
       "grid_gap": null,
       "grid_row": null,
       "grid_template_areas": null,
       "grid_template_columns": null,
       "grid_template_rows": null,
       "height": null,
       "justify_content": null,
       "justify_items": null,
       "left": null,
       "margin": null,
       "max_height": null,
       "max_width": null,
       "min_height": null,
       "min_width": null,
       "object_fit": null,
       "object_position": null,
       "order": null,
       "overflow": null,
       "padding": null,
       "right": null,
       "top": null,
       "visibility": null,
       "width": null
      }
     },
     "f648a1b46500428d99654175fae78f25": {
      "model_module": "@jupyter-widgets/controls",
      "model_module_version": "2.0.0",
      "model_name": "HBoxModel",
      "state": {
       "_dom_classes": [],
       "_model_module": "@jupyter-widgets/controls",
       "_model_module_version": "2.0.0",
       "_model_name": "HBoxModel",
       "_view_count": null,
       "_view_module": "@jupyter-widgets/controls",
       "_view_module_version": "2.0.0",
       "_view_name": "HBoxView",
       "box_style": "",
       "children": [
        "IPY_MODEL_3aef1a7f0af74307843ece4c1c058cad",
        "IPY_MODEL_fbc10ce6fe2d4e5c86eb4b3a94728f1d",
        "IPY_MODEL_b2f625c86f1647b8b29552de607d0933"
       ],
       "layout": "IPY_MODEL_66f73d0ff8c84dd6be9455cd44fc6d19",
       "tabbable": null,
       "tooltip": null
      }
     },
     "f78c1867bd8742e2b4509c8e6246c5c7": {
      "model_module": "@jupyter-widgets/controls",
      "model_module_version": "2.0.0",
      "model_name": "ProgressStyleModel",
      "state": {
       "_model_module": "@jupyter-widgets/controls",
       "_model_module_version": "2.0.0",
       "_model_name": "ProgressStyleModel",
       "_view_count": null,
       "_view_module": "@jupyter-widgets/base",
       "_view_module_version": "2.0.0",
       "_view_name": "StyleView",
       "bar_color": null,
       "description_width": ""
      }
     },
     "f7b749fe4320497e9220fcfe02a057a3": {
      "model_module": "@jupyter-widgets/base",
      "model_module_version": "2.0.0",
      "model_name": "LayoutModel",
      "state": {
       "_model_module": "@jupyter-widgets/base",
       "_model_module_version": "2.0.0",
       "_model_name": "LayoutModel",
       "_view_count": null,
       "_view_module": "@jupyter-widgets/base",
       "_view_module_version": "2.0.0",
       "_view_name": "LayoutView",
       "align_content": null,
       "align_items": null,
       "align_self": null,
       "border_bottom": null,
       "border_left": null,
       "border_right": null,
       "border_top": null,
       "bottom": null,
       "display": null,
       "flex": null,
       "flex_flow": null,
       "grid_area": null,
       "grid_auto_columns": null,
       "grid_auto_flow": null,
       "grid_auto_rows": null,
       "grid_column": null,
       "grid_gap": null,
       "grid_row": null,
       "grid_template_areas": null,
       "grid_template_columns": null,
       "grid_template_rows": null,
       "height": null,
       "justify_content": null,
       "justify_items": null,
       "left": null,
       "margin": null,
       "max_height": null,
       "max_width": null,
       "min_height": null,
       "min_width": null,
       "object_fit": null,
       "object_position": null,
       "order": null,
       "overflow": null,
       "padding": null,
       "right": null,
       "top": null,
       "visibility": null,
       "width": null
      }
     },
     "f8bc703e5d544bc6a65bfc9653fab62d": {
      "model_module": "@jupyter-widgets/base",
      "model_module_version": "2.0.0",
      "model_name": "LayoutModel",
      "state": {
       "_model_module": "@jupyter-widgets/base",
       "_model_module_version": "2.0.0",
       "_model_name": "LayoutModel",
       "_view_count": null,
       "_view_module": "@jupyter-widgets/base",
       "_view_module_version": "2.0.0",
       "_view_name": "LayoutView",
       "align_content": null,
       "align_items": null,
       "align_self": null,
       "border_bottom": null,
       "border_left": null,
       "border_right": null,
       "border_top": null,
       "bottom": null,
       "display": null,
       "flex": null,
       "flex_flow": null,
       "grid_area": null,
       "grid_auto_columns": null,
       "grid_auto_flow": null,
       "grid_auto_rows": null,
       "grid_column": null,
       "grid_gap": null,
       "grid_row": null,
       "grid_template_areas": null,
       "grid_template_columns": null,
       "grid_template_rows": null,
       "height": null,
       "justify_content": null,
       "justify_items": null,
       "left": null,
       "margin": null,
       "max_height": null,
       "max_width": null,
       "min_height": null,
       "min_width": null,
       "object_fit": null,
       "object_position": null,
       "order": null,
       "overflow": null,
       "padding": null,
       "right": null,
       "top": null,
       "visibility": null,
       "width": null
      }
     },
     "f8c8345a6bd24e1184c323bcce2816df": {
      "model_module": "@jupyter-widgets/base",
      "model_module_version": "2.0.0",
      "model_name": "LayoutModel",
      "state": {
       "_model_module": "@jupyter-widgets/base",
       "_model_module_version": "2.0.0",
       "_model_name": "LayoutModel",
       "_view_count": null,
       "_view_module": "@jupyter-widgets/base",
       "_view_module_version": "2.0.0",
       "_view_name": "LayoutView",
       "align_content": null,
       "align_items": null,
       "align_self": null,
       "border_bottom": null,
       "border_left": null,
       "border_right": null,
       "border_top": null,
       "bottom": null,
       "display": null,
       "flex": null,
       "flex_flow": null,
       "grid_area": null,
       "grid_auto_columns": null,
       "grid_auto_flow": null,
       "grid_auto_rows": null,
       "grid_column": null,
       "grid_gap": null,
       "grid_row": null,
       "grid_template_areas": null,
       "grid_template_columns": null,
       "grid_template_rows": null,
       "height": null,
       "justify_content": null,
       "justify_items": null,
       "left": null,
       "margin": null,
       "max_height": null,
       "max_width": null,
       "min_height": null,
       "min_width": null,
       "object_fit": null,
       "object_position": null,
       "order": null,
       "overflow": null,
       "padding": null,
       "right": null,
       "top": null,
       "visibility": null,
       "width": null
      }
     },
     "f9202800670c4c74b6669ca983995350": {
      "model_module": "@jupyter-widgets/base",
      "model_module_version": "2.0.0",
      "model_name": "LayoutModel",
      "state": {
       "_model_module": "@jupyter-widgets/base",
       "_model_module_version": "2.0.0",
       "_model_name": "LayoutModel",
       "_view_count": null,
       "_view_module": "@jupyter-widgets/base",
       "_view_module_version": "2.0.0",
       "_view_name": "LayoutView",
       "align_content": null,
       "align_items": null,
       "align_self": null,
       "border_bottom": null,
       "border_left": null,
       "border_right": null,
       "border_top": null,
       "bottom": null,
       "display": null,
       "flex": null,
       "flex_flow": null,
       "grid_area": null,
       "grid_auto_columns": null,
       "grid_auto_flow": null,
       "grid_auto_rows": null,
       "grid_column": null,
       "grid_gap": null,
       "grid_row": null,
       "grid_template_areas": null,
       "grid_template_columns": null,
       "grid_template_rows": null,
       "height": null,
       "justify_content": null,
       "justify_items": null,
       "left": null,
       "margin": null,
       "max_height": null,
       "max_width": null,
       "min_height": null,
       "min_width": null,
       "object_fit": null,
       "object_position": null,
       "order": null,
       "overflow": null,
       "padding": null,
       "right": null,
       "top": null,
       "visibility": null,
       "width": null
      }
     },
     "fbc10ce6fe2d4e5c86eb4b3a94728f1d": {
      "model_module": "@jupyter-widgets/controls",
      "model_module_version": "2.0.0",
      "model_name": "FloatProgressModel",
      "state": {
       "_dom_classes": [],
       "_model_module": "@jupyter-widgets/controls",
       "_model_module_version": "2.0.0",
       "_model_name": "FloatProgressModel",
       "_view_count": null,
       "_view_module": "@jupyter-widgets/controls",
       "_view_module_version": "2.0.0",
       "_view_name": "ProgressView",
       "bar_style": "success",
       "description": "",
       "description_allow_html": false,
       "layout": "IPY_MODEL_5fc3c21fce954ca4844b3ce8966e461d",
       "max": 570.0,
       "min": 0.0,
       "orientation": "horizontal",
       "style": "IPY_MODEL_5f31d613707b4bdcaeaa2ca20b6bf889",
       "tabbable": null,
       "tooltip": null,
       "value": 570.0
      }
     },
     "fc6216da1d87435b8bea96e8c113c9b9": {
      "model_module": "@jupyter-widgets/base",
      "model_module_version": "2.0.0",
      "model_name": "LayoutModel",
      "state": {
       "_model_module": "@jupyter-widgets/base",
       "_model_module_version": "2.0.0",
       "_model_name": "LayoutModel",
       "_view_count": null,
       "_view_module": "@jupyter-widgets/base",
       "_view_module_version": "2.0.0",
       "_view_name": "LayoutView",
       "align_content": null,
       "align_items": null,
       "align_self": null,
       "border_bottom": null,
       "border_left": null,
       "border_right": null,
       "border_top": null,
       "bottom": null,
       "display": null,
       "flex": null,
       "flex_flow": null,
       "grid_area": null,
       "grid_auto_columns": null,
       "grid_auto_flow": null,
       "grid_auto_rows": null,
       "grid_column": null,
       "grid_gap": null,
       "grid_row": null,
       "grid_template_areas": null,
       "grid_template_columns": null,
       "grid_template_rows": null,
       "height": null,
       "justify_content": null,
       "justify_items": null,
       "left": null,
       "margin": null,
       "max_height": null,
       "max_width": null,
       "min_height": null,
       "min_width": null,
       "object_fit": null,
       "object_position": null,
       "order": null,
       "overflow": null,
       "padding": null,
       "right": null,
       "top": null,
       "visibility": null,
       "width": null
      }
     },
     "fd8b203a9a774d458195b01c310c64a6": {
      "model_module": "@jupyter-widgets/controls",
      "model_module_version": "2.0.0",
      "model_name": "FloatProgressModel",
      "state": {
       "_dom_classes": [],
       "_model_module": "@jupyter-widgets/controls",
       "_model_module_version": "2.0.0",
       "_model_name": "FloatProgressModel",
       "_view_count": null,
       "_view_module": "@jupyter-widgets/controls",
       "_view_module_version": "2.0.0",
       "_view_name": "ProgressView",
       "bar_style": "success",
       "description": "",
       "description_allow_html": false,
       "layout": "IPY_MODEL_f8bc703e5d544bc6a65bfc9653fab62d",
       "max": 466062.0,
       "min": 0.0,
       "orientation": "horizontal",
       "style": "IPY_MODEL_e40c468928f84d2b856bbecb193a6870",
       "tabbable": null,
       "tooltip": null,
       "value": 466062.0
      }
     },
     "ff622db3c9f246e8a0ac658ee1a59647": {
      "model_module": "@jupyter-widgets/controls",
      "model_module_version": "2.0.0",
      "model_name": "ProgressStyleModel",
      "state": {
       "_model_module": "@jupyter-widgets/controls",
       "_model_module_version": "2.0.0",
       "_model_name": "ProgressStyleModel",
       "_view_count": null,
       "_view_module": "@jupyter-widgets/base",
       "_view_module_version": "2.0.0",
       "_view_name": "StyleView",
       "bar_color": null,
       "description_width": ""
      }
     }
    },
    "version_major": 2,
    "version_minor": 0
   }
  }
 },
 "nbformat": 4,
 "nbformat_minor": 5
}
